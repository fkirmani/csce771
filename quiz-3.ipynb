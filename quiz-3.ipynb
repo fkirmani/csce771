{
 "cells": [
  {
   "cell_type": "markdown",
   "metadata": {},
   "source": [
    "### Quiz 3\n",
    "\n",
    "#### Submitted by - Fawad Kirmani\n",
    "\n",
    "Modified on - Oct 19 2020"
   ]
  },
  {
   "cell_type": "markdown",
   "metadata": {},
   "source": [
    "cite: https://spacy.io/\n",
    "\n",
    "cite: https://spacy.io/usage/rule-based-matching"
   ]
  },
  {
   "cell_type": "code",
   "execution_count": 1,
   "metadata": {},
   "outputs": [],
   "source": [
    "import re \n",
    "import pandas as pd\n",
    "import PyPDF2\n",
    "from itertools import cycle\n",
    "import warnings\n",
    "warnings.filterwarnings('ignore')"
   ]
  },
  {
   "cell_type": "markdown",
   "metadata": {},
   "source": [
    "Saved the docx file provided by professor as txt file with utf-8 encoding before importing."
   ]
  },
  {
   "cell_type": "code",
   "execution_count": 2,
   "metadata": {},
   "outputs": [],
   "source": [
    "inupt_file = open('./common-data/dataset-nyt-nobel2020_ver2.txt','r+')  "
   ]
  },
  {
   "cell_type": "markdown",
   "metadata": {},
   "source": [
    "Reading the txt file."
   ]
  },
  {
   "cell_type": "code",
   "execution_count": 3,
   "metadata": {},
   "outputs": [
    {
     "data": {
      "text/plain": [
       "'https://www.nytimes.com/article/2020-nobel-prize-winners.html \\n2020 Nobel Prize Winners: Full List\\nNobel Prize season begins every October as committees in Sweden and Norway name laureates in a variety of prizes in the sciences, literature and economics, as well as peace work. The announcements started last week with the awarding of the prize in Physiology or Medicine. They wrapped up on Monday, when the Sveriges Riksbank Prize in Economic Sciences in Memory of Alfred Nobel was announced.\\nThe Nobel Prizes most years are presented to recipients in Stockholm and Oslo in December. Because of the coronavirus pandemic, the committees are changing their approaches. Some of the events in Stockholm will be canceled in favor of a digital ceremony for the Nobelists, and medals and diplomas are to be distributed to the recipients’ embassies and handed over in their home countries. Recipients may be invited to the award ceremony for 2021, if possible.\\nThe Oslo ceremony for the peace prize will be smaller than in most years, with a limited audience.\\nThe Nobel committee also announced another change last month: Each prize will rise to 10 million Swedish krona, 1 million more than in the previous year. That’s a hike in the prize value of about $112,000 in current exchange rates.\\nThe 2020 Winners\\nPhysiology or Medicine\\nDrs. Harvey J. Alter, Michael Houghton and Charles M. Rice on Monday received the prize for their discovery of the hepatitis C virus. The Nobel committee said the three scientists had “made possible blood tests and new medicines that have saved millions of lives.”\\nPhysics\\n\\nRoger Penrose, Reinhard Genzel and Andrea Ghez are the recipients of the Nobel Prize in Physics for 2020.Credit...Pool photo by Fredrik Sandberg\\nRoger Penrose, Reinhard Genzel and Andrea Ghez received the prize on Tuesday for their discoveries that have improved understanding of the universe, including work on black holes.\\nChemistry\\nThe Nobel Prize in Chemistry was jointly awarded on Wednesday to Emmanuelle Charpentier and Jennifer A. Doudna for their work on the development of Crispr-Cas9, a method for genome editing.\\nLiterature\\nThe Nobel Prize in Literature was awarded on Thursday to Louise Glück, one of America’s most celebrated poets, “for her unmistakable poetic voice that with austere beauty makes individual existence universal.”\\nPeace Prize\\nThe Nobel Peace Prize was awarded on Friday to the World Food Program for its efforts to combat a surge in global hunger amid the coronavirus pandemic, which has swept around the world with devastating impact.\\nEconomic Science\\nPaul R. Milgrom and Robert B. Wilson were awarded the Nobel in economic science on Monday for improvements to auction theory and inventions of new auction formats.\\n\\n'"
      ]
     },
     "execution_count": 3,
     "metadata": {},
     "output_type": "execute_result"
    }
   ],
   "source": [
    "file_content = inupt_file.read()\n",
    "file_content"
   ]
  },
  {
   "cell_type": "markdown",
   "metadata": {},
   "source": [
    "#### Running simple entity detection using spacy"
   ]
  },
  {
   "cell_type": "code",
   "execution_count": 4,
   "metadata": {},
   "outputs": [],
   "source": [
    "import spacy\n",
    "nlp = spacy.load('en_core_web_sm')"
   ]
  },
  {
   "cell_type": "code",
   "execution_count": 5,
   "metadata": {},
   "outputs": [
    {
     "name": "stdout",
     "output_type": "stream",
     "text": [
      "Nobel Prize Winners WORK_OF_ART 68 87\n",
      "October DATE 131 138\n",
      "Sweden GPE 156 162\n",
      "Norway GPE 167 173\n",
      "last week DATE 304 313\n",
      "Physiology or Medicine WORK_OF_ART 348 370\n",
      "Monday DATE 391 397\n",
      "Alfred Nobel PERSON 466 478\n",
      "The Nobel Prizes WORK_OF_ART 494 510\n",
      "most years DATE 511 521\n",
      "Stockholm GPE 553 562\n",
      "Oslo GPE 567 571\n",
      "December DATE 575 583\n",
      "Stockholm GPE 690 699\n",
      "Nobelists NORP 756 765\n",
      "2021 DATE 935 939\n",
      "Oslo GPE 958 962\n",
      "most years DATE 1016 1026\n",
      "Nobel WORK_OF_ART 1057 1062\n",
      "last month DATE 1103 1113\n",
      "10 million CARDINAL 1139 1149\n",
      "Swedish NORP 1150 1157\n",
      "1 million CARDINAL 1165 1174\n",
      "the previous year DATE 1188 1205\n",
      "about $112,000 MONEY 1243 1257\n",
      "2020 DATE 1289 1293\n",
      "Harvey J. Alter PERSON 1330 1345\n",
      "Michael Houghton PERSON 1347 1363\n",
      "Charles M. Rice PERSON 1368 1383\n",
      "Monday DATE 1387 1393\n",
      "Nobel WORK_OF_ART 1463 1468\n",
      "three CARDINAL 1488 1493\n",
      "millions CARDINAL 1570 1578\n",
      "Roger Penrose PERSON 1599 1612\n",
      "Reinhard Genzel PERSON 1614 1629\n",
      "Andrea Ghez PERSON 1634 1645\n",
      "the Nobel Prize in Physics WORK_OF_ART 1668 1694\n",
      "2020.Credit CARDINAL 1699 1710\n",
      "Fredrik Sandberg PERSON 1727 1743\n",
      "Roger Penrose PERSON 1744 1757\n",
      "Reinhard Genzel PERSON 1759 1774\n",
      "Andrea Ghez PERSON 1779 1790\n",
      "Tuesday DATE 1813 1820\n",
      "The Nobel Prize WORK_OF_ART 1934 1949\n",
      "Chemistry GPE 1953 1962\n",
      "Wednesday DATE 1986 1995\n",
      "Emmanuelle Charpentier PERSON 1999 2021\n",
      "Jennifer A. Doudna PERSON 2026 2044\n",
      "Crispr-Cas9 ORG 2082 2093\n",
      "The Nobel Prize WORK_OF_ART 2135 2150\n",
      "Thursday DATE 2180 2188\n",
      "Louise Glück PERSON 2192 2204\n",
      "one CARDINAL 2206 2209\n",
      "America GPE 2213 2220\n",
      "The Nobel Peace Prize WORK_OF_ART 2357 2378\n",
      "Friday DATE 2394 2400\n",
      "the World Food Program ORG 2404 2426\n",
      "Paul R. Milgrom PERSON 2584 2599\n",
      "Robert B. Wilson PERSON 2604 2620\n",
      "the Nobel WORK_OF_ART 2634 2643\n",
      "Monday DATE 2667 2673\n"
     ]
    }
   ],
   "source": [
    "doc = nlp(file_content)\n",
    "for ent in doc.ents:\n",
    "    print(ent.text, ent.label_, ent.start_char, ent.end_char)"
   ]
  },
  {
   "cell_type": "markdown",
   "metadata": {},
   "source": [
    "In above spacy entity detection, we are not seeing prize categories except for Physiology or Medicine and Chemistry. Also, there labels are different. As we already know the Nobel prize categories, we can use that and filter the list of winners and event day accordingly.\n",
    "\n",
    "Now, I will categorize all the prize categories in to one label and use that to detect their location in the document. This will help me is extracting winners for each category and day of announcement of each prize category. Labeling these prize categories as PRIZE_CATEGORIES\n",
    "\n",
    "Also, reconizing positions where \"received\" and \"awarded\" is used in sentences to declare prize winners. Labeling them as AWARD_RECEIVED"
   ]
  },
  {
   "cell_type": "code",
   "execution_count": 6,
   "metadata": {},
   "outputs": [
    {
     "name": "stdout",
     "output_type": "stream",
     "text": [
      "Nobel Prize Winners WORK_OF_ART 68 87\n",
      "October DATE 131 138\n",
      "Sweden GPE 156 162\n",
      "Norway GPE 167 173\n",
      "last week DATE 304 313\n",
      "Physiology or Medicine PRIZE_CATEGORIES 348 370\n",
      "Monday DATE 391 397\n",
      "Alfred Nobel PERSON 466 478\n",
      "The Nobel Prizes WORK_OF_ART 494 510\n",
      "most years DATE 511 521\n",
      "Stockholm GPE 553 562\n",
      "Oslo GPE 567 571\n",
      "December DATE 575 583\n",
      "Stockholm GPE 690 699\n",
      "Nobelists NORP 756 765\n",
      "2021 DATE 935 939\n",
      "Oslo GPE 958 962\n",
      "most years DATE 1016 1026\n",
      "Nobel WORK_OF_ART 1057 1062\n",
      "last month DATE 1103 1113\n",
      "10 million CARDINAL 1139 1149\n",
      "Swedish NORP 1150 1157\n",
      "1 million CARDINAL 1165 1174\n",
      "the previous year DATE 1188 1205\n",
      "about $112,000 MONEY 1243 1257\n",
      "2020 DATE 1289 1293\n",
      "Physiology or Medicine PRIZE_CATEGORIES 1302 1324\n",
      "Harvey J. Alter PERSON 1330 1345\n",
      "Michael Houghton PERSON 1347 1363\n",
      "Charles M. Rice PERSON 1368 1383\n",
      "Monday DATE 1387 1393\n",
      "received AWARD_RECEIVED 1394 1402\n",
      "Nobel WORK_OF_ART 1463 1468\n",
      "three CARDINAL 1488 1493\n",
      "millions CARDINAL 1570 1578\n",
      "Physics PRIZE_CATEGORIES 1590 1597\n",
      "Roger Penrose PERSON 1599 1612\n",
      "Reinhard Genzel PERSON 1614 1629\n",
      "Andrea Ghez PERSON 1634 1645\n",
      "Physics PRIZE_CATEGORIES 1687 1694\n",
      "2020.Credit CARDINAL 1699 1710\n",
      "Fredrik Sandberg PERSON 1727 1743\n",
      "Roger Penrose PERSON 1744 1757\n",
      "Reinhard Genzel PERSON 1759 1774\n",
      "Andrea Ghez PERSON 1779 1790\n",
      "received AWARD_RECEIVED 1791 1799\n",
      "Tuesday DATE 1813 1820\n",
      "Chemistry PRIZE_CATEGORIES 1924 1933\n",
      "The Nobel Prize WORK_OF_ART 1934 1949\n",
      "Chemistry PRIZE_CATEGORIES 1953 1962\n",
      "awarded AWARD_RECEIVED 1975 1982\n",
      "Wednesday DATE 1986 1995\n",
      "Emmanuelle Charpentier PERSON 1999 2021\n",
      "Jennifer A. Doudna PERSON 2026 2044\n",
      "Crispr-Cas9 ORG 2082 2093\n",
      "Literature PRIZE_CATEGORIES 2124 2134\n",
      "The Nobel Prize WORK_OF_ART 2135 2150\n",
      "Literature PRIZE_CATEGORIES 2154 2164\n",
      "awarded AWARD_RECEIVED 2169 2176\n",
      "Thursday DATE 2180 2188\n",
      "Louise Glück PERSON 2192 2204\n",
      "one CARDINAL 2206 2209\n",
      "America GPE 2213 2220\n",
      "Peace PRIZE_CATEGORIES 2345 2350\n",
      "Peace PRIZE_CATEGORIES 2367 2372\n",
      "awarded AWARD_RECEIVED 2383 2390\n",
      "Friday DATE 2394 2400\n",
      "the World Food Program ORG 2404 2426\n",
      "Economic Science PRIZE_CATEGORIES_REPEAT 2567 2583\n",
      "Paul R. Milgrom PERSON 2584 2599\n",
      "Robert B. Wilson PERSON 2604 2620\n",
      "awarded AWARD_RECEIVED 2626 2633\n",
      "the Nobel WORK_OF_ART 2634 2643\n",
      "economic science PRIZE_CATEGORIES 2647 2663\n",
      "Monday DATE 2667 2673\n"
     ]
    }
   ],
   "source": [
    "from spacy.pipeline import EntityRuler\n",
    "\n",
    "nlp = spacy.load('en_core_web_sm')\n",
    "\n",
    "# weights_pattern1 = [\n",
    "#     {\"TEXT\": {\"IN\": ['Physics', 'Chemistry', 'Literature', 'Peace']}}\n",
    "# ]\n",
    "# weights_pattern2 = [\n",
    "#     {\"ORTH\": {\"IN\": ['received', 'awarded']}}\n",
    "# ]\n",
    "\n",
    "# patterns = [{\"label\": \"PRIZE_CATEGORIES\", \"pattern\": weights_pattern1}, \n",
    "#             {\"label\": \"AWARD_RECEIVED\", \"pattern\": weights_pattern2}]\n",
    "# ruler = EntityRuler(nlp, patterns=patterns)\n",
    "# nlp.add_pipe(ruler, before=\"ner\")\n",
    "\n",
    "ruler = EntityRuler(nlp, overwrite_ents=True, validate=True)\n",
    "ruler.add_patterns([\n",
    "    {\"label\": \"PRIZE_CATEGORIES\", \"pattern\": [{\"TEXT\": \"economic\"}, {\"TEXT\": \"science\"}]},\n",
    "    {\"label\": \"PRIZE_CATEGORIES\", \"pattern\": [{\"TEXT\": \"Physiology\"}, {\"TEXT\": \"or\"}, {\"TEXT\": \"Medicine\"}]},\n",
    "    {\"label\": \"PRIZE_CATEGORIES\", \"pattern\": [{\"TEXT\": \"Physics\"}]},\n",
    "    {\"label\": \"PRIZE_CATEGORIES\", \"pattern\": [{\"TEXT\": \"Chemistry\"}]},\n",
    "    {\"label\": \"PRIZE_CATEGORIES\", \"pattern\": [{\"TEXT\": \"Literature\"}]},\n",
    "    {\"label\": \"PRIZE_CATEGORIES\", \"pattern\": [{\"TEXT\": \"Peace\"}]},\n",
    "    {\"label\": \"PRIZE_CATEGORIES_REPEAT\", \"pattern\": [{\"TEXT\": \"Economic\"}, {\"TEXT\": \"Science\"}]},\n",
    "    {\"label\": \"AWARD_RECEIVED\", \"pattern\": [{\"TEXT\": \"received\"}]},\n",
    "    {\"label\": \"AWARD_RECEIVED\", \"pattern\": [{\"TEXT\": \"awarded\"}]},\n",
    "])\n",
    "nlp.add_pipe(ruler)\n",
    "\n",
    "doc = nlp(file_content)\n",
    "\n",
    "txt = []\n",
    "label = []\n",
    "start_char = []\n",
    "end_char = []\n",
    "with doc.retokenize() as retokenizer:\n",
    "    for ent in doc.ents:\n",
    "        retokenizer.merge(doc[ent.start:ent.end])\n",
    "        txt.append(ent.text)\n",
    "        label.append(ent.label_)\n",
    "        start_char.append(ent.start_char)\n",
    "        end_char.append(ent.end_char)\n",
    "        print(ent.text, ent.label_, ent.start_char, ent.end_char)\n",
    "data_label_list = list(zip(txt, label, start_char, end_char))\n",
    "data_label_table = pd.DataFrame(data_label_list, columns=['txt', 'label', 'start_char', 'end_char'])"
   ]
  },
  {
   "cell_type": "markdown",
   "metadata": {},
   "source": [
    "#### Filtering the rerquired data using custom labels created in the above steps."
   ]
  },
  {
   "cell_type": "markdown",
   "metadata": {},
   "source": [
    "Counting how many times received and awarded is used in the document."
   ]
  },
  {
   "cell_type": "code",
   "execution_count": 7,
   "metadata": {},
   "outputs": [],
   "source": [
    "received_count = len(data_label_table[data_label_table['txt']=='received']['txt'])\n",
    "awarded_count = len(data_label_table[data_label_table['txt']=='awarded']['txt'])"
   ]
  },
  {
   "cell_type": "markdown",
   "metadata": {},
   "source": [
    "Creating winner, event day and prize categories list. As historically, nobel winners have been individuals and organizations, including them both in the winners list."
   ]
  },
  {
   "cell_type": "code",
   "execution_count": 8,
   "metadata": {},
   "outputs": [
    {
     "name": "stdout",
     "output_type": "stream",
     "text": [
      "< Harvey J. Alter, Michael Houghton, Charles M. Rice recieved Nobel prize in Physiology or Medicine on Monday >\n",
      "< Roger Penrose, Reinhard Genzel, Andrea Ghez recieved Nobel prize in Physics on Tuesday >\n",
      "< Emmanuelle Charpentier, Jennifer A. Doudna recieved Nobel prize in Chemistry on Wednesday >\n",
      "< Louise Glück recieved Nobel prize in Literature on Thursday >\n",
      "< the World Food Program recieved Nobel prize in Peace on Friday >\n",
      "< Paul R. Milgrom, Robert B. Wilson recieved Nobel prize in economic science on Monday >\n"
     ]
    }
   ],
   "source": [
    "winner_list = []\n",
    "prize_category = []\n",
    "events = []\n",
    "for i in range(0, received_count):\n",
    "    pos = data_label_table[data_label_table['txt']=='received'].index[i]\n",
    "    search = range(pos - (7-1), pos + 2)\n",
    "    winners1 = list(data_label_table.loc[search][(data_label_table.loc[search]['label']=='PERSON') | (data_label_table.loc[search]['label']=='ORG')]['txt'])[-3:]\n",
    "    winner_list.append(winners1)\n",
    "    prize_category1 = list(data_label_table.loc[search][data_label_table.loc[search]['label']=='PRIZE_CATEGORIES']['txt'])\n",
    "    prize_category.append(list(set(prize_category1)))\n",
    "    time1 = list(data_label_table.loc[search][data_label_table.loc[search]['label']=='DATE']['txt'])[-1:]\n",
    "    events.append(list(set(time1)))\n",
    "    print(\"<\", ', '.join(winners1), \n",
    "          \"recieved Nobel prize in\",\n",
    "          (prize_category1)[0], \n",
    "          \"on\", \n",
    "          ','.join(time1),\">\")\n",
    "#     print(data_label_table.loc[search])\n",
    "for i in range(0, awarded_count):\n",
    "    pos = data_label_table[data_label_table['txt']=='awarded'].index[i]\n",
    "    search = range(pos - (3-1), pos + 4)\n",
    "    winners2 = list(data_label_table.loc[search][(data_label_table.loc[search]['label']=='PERSON') | (data_label_table.loc[search]['label']=='ORG')]['txt'])\n",
    "    winner_list.append(winners2)\n",
    "    prize_category2 = list(data_label_table.loc[search][data_label_table.loc[search]['label']=='PRIZE_CATEGORIES']['txt'])\n",
    "    prize_category.append(list(set(prize_category2)))\n",
    "    time2 = list(data_label_table.loc[search][data_label_table.loc[search]['label']=='DATE']['txt'])\n",
    "    events.append(list(set(time2)))\n",
    "    print(\"<\", ', '.join(winners2), \n",
    "          \"recieved Nobel prize in\",\n",
    "          (prize_category2)[0], \n",
    "          \"on\", \n",
    "          ','.join(time2),\">\")\n",
    "#     print(data_label_table.loc[search])"
   ]
  },
  {
   "cell_type": "markdown",
   "metadata": {},
   "source": [
    "#### List of Winners"
   ]
  },
  {
   "cell_type": "code",
   "execution_count": 9,
   "metadata": {},
   "outputs": [
    {
     "data": {
      "text/plain": [
       "[['Harvey J. Alter', 'Michael Houghton', 'Charles M. Rice'],\n",
       " ['Roger Penrose', 'Reinhard Genzel', 'Andrea Ghez'],\n",
       " ['Emmanuelle Charpentier', 'Jennifer A. Doudna'],\n",
       " ['Louise Glück'],\n",
       " ['the World Food Program'],\n",
       " ['Paul R. Milgrom', 'Robert B. Wilson']]"
      ]
     },
     "execution_count": 9,
     "metadata": {},
     "output_type": "execute_result"
    }
   ],
   "source": [
    "winner_list"
   ]
  },
  {
   "cell_type": "markdown",
   "metadata": {},
   "source": [
    "#### List of Prize categories"
   ]
  },
  {
   "cell_type": "code",
   "execution_count": 10,
   "metadata": {},
   "outputs": [
    {
     "data": {
      "text/plain": [
       "[['Physiology or Medicine'],\n",
       " ['Physics'],\n",
       " ['Chemistry'],\n",
       " ['Literature'],\n",
       " ['Peace'],\n",
       " ['economic science']]"
      ]
     },
     "execution_count": 10,
     "metadata": {},
     "output_type": "execute_result"
    }
   ],
   "source": [
    "prize_category"
   ]
  },
  {
   "cell_type": "markdown",
   "metadata": {},
   "source": [
    "#### List of days the prizes were announced"
   ]
  },
  {
   "cell_type": "code",
   "execution_count": 11,
   "metadata": {},
   "outputs": [
    {
     "data": {
      "text/plain": [
       "[['Monday'], ['Tuesday'], ['Wednesday'], ['Thursday'], ['Friday'], ['Monday']]"
      ]
     },
     "execution_count": 11,
     "metadata": {},
     "output_type": "execute_result"
    }
   ],
   "source": [
    "events"
   ]
  },
  {
   "cell_type": "markdown",
   "metadata": {},
   "source": [
    "#### Creating table with all the extracted entities "
   ]
  },
  {
   "cell_type": "code",
   "execution_count": 12,
   "metadata": {},
   "outputs": [
    {
     "data": {
      "text/html": [
       "<div>\n",
       "<style scoped>\n",
       "    .dataframe tbody tr th:only-of-type {\n",
       "        vertical-align: middle;\n",
       "    }\n",
       "\n",
       "    .dataframe tbody tr th {\n",
       "        vertical-align: top;\n",
       "    }\n",
       "\n",
       "    .dataframe thead th {\n",
       "        text-align: right;\n",
       "    }\n",
       "</style>\n",
       "<table border=\"1\" class=\"dataframe\">\n",
       "  <thead>\n",
       "    <tr style=\"text-align: right;\">\n",
       "      <th></th>\n",
       "      <th>prize_category</th>\n",
       "      <th>winners</th>\n",
       "      <th>event</th>\n",
       "    </tr>\n",
       "  </thead>\n",
       "  <tbody>\n",
       "    <tr>\n",
       "      <td>0</td>\n",
       "      <td>[Physiology or Medicine]</td>\n",
       "      <td>[Harvey J. Alter, Michael Houghton, Charles M....</td>\n",
       "      <td>[Monday]</td>\n",
       "    </tr>\n",
       "    <tr>\n",
       "      <td>1</td>\n",
       "      <td>[Physics]</td>\n",
       "      <td>[Roger Penrose, Reinhard Genzel, Andrea Ghez]</td>\n",
       "      <td>[Tuesday]</td>\n",
       "    </tr>\n",
       "    <tr>\n",
       "      <td>2</td>\n",
       "      <td>[Chemistry]</td>\n",
       "      <td>[Emmanuelle Charpentier, Jennifer A. Doudna]</td>\n",
       "      <td>[Wednesday]</td>\n",
       "    </tr>\n",
       "    <tr>\n",
       "      <td>3</td>\n",
       "      <td>[Literature]</td>\n",
       "      <td>[Louise Glück]</td>\n",
       "      <td>[Thursday]</td>\n",
       "    </tr>\n",
       "    <tr>\n",
       "      <td>4</td>\n",
       "      <td>[Peace]</td>\n",
       "      <td>[the World Food Program]</td>\n",
       "      <td>[Friday]</td>\n",
       "    </tr>\n",
       "    <tr>\n",
       "      <td>5</td>\n",
       "      <td>[economic science]</td>\n",
       "      <td>[Paul R. Milgrom, Robert B. Wilson]</td>\n",
       "      <td>[Monday]</td>\n",
       "    </tr>\n",
       "  </tbody>\n",
       "</table>\n",
       "</div>"
      ],
      "text/plain": [
       "             prize_category  \\\n",
       "0  [Physiology or Medicine]   \n",
       "1                 [Physics]   \n",
       "2               [Chemistry]   \n",
       "3              [Literature]   \n",
       "4                   [Peace]   \n",
       "5        [economic science]   \n",
       "\n",
       "                                             winners        event  \n",
       "0  [Harvey J. Alter, Michael Houghton, Charles M....     [Monday]  \n",
       "1      [Roger Penrose, Reinhard Genzel, Andrea Ghez]    [Tuesday]  \n",
       "2       [Emmanuelle Charpentier, Jennifer A. Doudna]  [Wednesday]  \n",
       "3                                     [Louise Glück]   [Thursday]  \n",
       "4                           [the World Food Program]     [Friday]  \n",
       "5                [Paul R. Milgrom, Robert B. Wilson]     [Monday]  "
      ]
     },
     "execution_count": 12,
     "metadata": {},
     "output_type": "execute_result"
    }
   ],
   "source": [
    "entity_list = list(zip(prize_category, winner_list, events))\n",
    "entity_table = pd.DataFrame(entity_list, columns=['prize_category', 'winners', 'event'])\n",
    "entity_table"
   ]
  },
  {
   "cell_type": "markdown",
   "metadata": {},
   "source": [
    "Calculating Precision, Recall and F1 scores. This is to make sure I am able to get right information from the txt file."
   ]
  },
  {
   "cell_type": "markdown",
   "metadata": {},
   "source": [
    "Created true labels using the text file. "
   ]
  },
  {
   "cell_type": "code",
   "execution_count": 13,
   "metadata": {},
   "outputs": [],
   "source": [
    "import numpy as np\n",
    "from sklearn.metrics import precision_recall_fscore_support"
   ]
  },
  {
   "cell_type": "code",
   "execution_count": 14,
   "metadata": {},
   "outputs": [],
   "source": [
    "y_true_winners = ['Harvey J. Alter', 'Michael Houghton', 'Charles M. Rice',\n",
    "                  'Roger Penrose', 'Reinhard Genzel', 'Andrea Ghez', \n",
    "                  'Emmanuelle Charpentier', 'Jennifer A. Doudna',\n",
    "                  'Louise Glück',\n",
    "                  'the World Food Program',\n",
    "                  'Paul R. Milgrom', 'Robert B. Wilson']\n",
    "y_pred_winners = []\n",
    "for l in winner_list:\n",
    "    for k in l:\n",
    "        y_pred_winners.append(k)"
   ]
  },
  {
   "cell_type": "code",
   "execution_count": 15,
   "metadata": {},
   "outputs": [
    {
     "data": {
      "text/plain": [
       "(1.0, 1.0, 1.0, None)"
      ]
     },
     "execution_count": 15,
     "metadata": {},
     "output_type": "execute_result"
    }
   ],
   "source": [
    "precision_recall_fscore_support(y_true_winners, y_pred_winners, average='micro')"
   ]
  },
  {
   "cell_type": "code",
   "execution_count": 16,
   "metadata": {},
   "outputs": [
    {
     "data": {
      "text/plain": [
       "(1.0, 1.0, 1.0, None)"
      ]
     },
     "execution_count": 16,
     "metadata": {},
     "output_type": "execute_result"
    }
   ],
   "source": [
    "precision_recall_fscore_support(y_true_winners, y_pred_winners, average='macro')"
   ]
  },
  {
   "cell_type": "code",
   "execution_count": 17,
   "metadata": {},
   "outputs": [],
   "source": [
    "y_true_cat = ['Physiology or Medicine',\n",
    "              'Physics',\n",
    "              'Chemistry',\n",
    "              'Literature',\n",
    "              'Peace',\n",
    "              'economic science']\n",
    "y_pred_cat = []\n",
    "for l in prize_category:\n",
    "    for k in l:\n",
    "        y_pred_cat.append(k)"
   ]
  },
  {
   "cell_type": "code",
   "execution_count": 18,
   "metadata": {},
   "outputs": [
    {
     "data": {
      "text/plain": [
       "(1.0, 1.0, 1.0, None)"
      ]
     },
     "execution_count": 18,
     "metadata": {},
     "output_type": "execute_result"
    }
   ],
   "source": [
    "precision_recall_fscore_support(y_true_cat, y_pred_cat, average='micro')"
   ]
  },
  {
   "cell_type": "code",
   "execution_count": 19,
   "metadata": {},
   "outputs": [
    {
     "data": {
      "text/plain": [
       "(1.0, 1.0, 1.0, None)"
      ]
     },
     "execution_count": 19,
     "metadata": {},
     "output_type": "execute_result"
    }
   ],
   "source": [
    "precision_recall_fscore_support(y_true_cat, y_pred_cat, average='macro')"
   ]
  },
  {
   "cell_type": "code",
   "execution_count": 20,
   "metadata": {},
   "outputs": [],
   "source": [
    "y_true_event = ['Monday', 'Tuesday', 'Wednesday', 'Thursday', 'Friday', 'Monday']\n",
    "y_pred_event = []\n",
    "for l in events:\n",
    "    for k in l:\n",
    "        y_pred_event.append(k)"
   ]
  },
  {
   "cell_type": "code",
   "execution_count": 21,
   "metadata": {},
   "outputs": [
    {
     "data": {
      "text/plain": [
       "(1.0, 1.0, 1.0, None)"
      ]
     },
     "execution_count": 21,
     "metadata": {},
     "output_type": "execute_result"
    }
   ],
   "source": [
    "precision_recall_fscore_support(y_true_event, y_pred_event, average='micro')"
   ]
  },
  {
   "cell_type": "code",
   "execution_count": 22,
   "metadata": {},
   "outputs": [
    {
     "data": {
      "text/plain": [
       "(1.0, 1.0, 1.0, None)"
      ]
     },
     "execution_count": 22,
     "metadata": {},
     "output_type": "execute_result"
    }
   ],
   "source": [
    "precision_recall_fscore_support(y_true_event, y_pred_event, average='macro')"
   ]
  },
  {
   "cell_type": "code",
   "execution_count": null,
   "metadata": {},
   "outputs": [],
   "source": []
  }
 ],
 "metadata": {
  "kernelspec": {
   "display_name": "csce771ver3",
   "language": "python",
   "name": "csce771ver3"
  },
  "language_info": {
   "codemirror_mode": {
    "name": "ipython",
    "version": 3
   },
   "file_extension": ".py",
   "mimetype": "text/x-python",
   "name": "python",
   "nbconvert_exporter": "python",
   "pygments_lexer": "ipython3",
   "version": "3.7.4"
  }
 },
 "nbformat": 4,
 "nbformat_minor": 4
}
