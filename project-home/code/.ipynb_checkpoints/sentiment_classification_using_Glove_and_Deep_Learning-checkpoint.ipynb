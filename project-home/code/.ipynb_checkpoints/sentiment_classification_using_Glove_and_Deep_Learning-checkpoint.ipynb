{
 "cells": [
  {
   "cell_type": "markdown",
   "metadata": {},
   "source": [
    "### Exploring Sentiment Classification using GloVe Word Embeddings and Deep Learning Models\n",
    "#### Large Movie Reviews Data used for analysis comes from http://ai.stanford.edu/~amaas/data/sentiment/\n",
    "\n",
    "\n",
    "By: Fawad Kirmani\n",
    "\n",
    "Last Edited On: 11/10/2020"
   ]
  },
  {
   "cell_type": "code",
   "execution_count": 1,
   "metadata": {},
   "outputs": [
    {
     "name": "stderr",
     "output_type": "stream",
     "text": [
      "/home/fkirmani/anaconda3/lib/python3.7/site-packages/statsmodels/tools/_testing.py:19: FutureWarning: pandas.util.testing is deprecated. Use the functions in the public API at pandas.testing instead.\n",
      "  import pandas.util.testing as tm\n"
     ]
    }
   ],
   "source": [
    "import glob\n",
    "import os\n",
    "import pandas as pd\n",
    "import numpy as np\n",
    "import re\n",
    "import nltk\n",
    "import tensorflow as tf\n",
    "import seaborn as sn\n",
    "import matplotlib.pyplot as plt\n",
    "from nltk.corpus import stopwords\n",
    "\n",
    "from numpy import array\n",
    "from keras.preprocessing.text import one_hot\n",
    "from keras.preprocessing.sequence import pad_sequences\n",
    "from keras.layers.core import Activation, Dropout, Dense\n",
    "from keras.layers import Flatten\n",
    "from keras.layers import GlobalMaxPooling1D\n",
    "from tensorflow.keras.layers import Embedding\n",
    "from sklearn.model_selection import train_test_split\n",
    "from keras.preprocessing.text import Tokenizer\n",
    "from tensorflow.keras.models import Sequential\n",
    "from tensorflow.keras.layers import Dense, Dropout, Flatten, Conv1D, LSTM, Bidirectional, MaxPooling1D, LeakyReLU, Reshape\n",
    "from keras.layers.normalization import BatchNormalization\n",
    "from keras.layers import TimeDistributed, RepeatVector\n",
    "from keras.callbacks import EarlyStopping\n",
    "from keras.callbacks import ModelCheckpoint\n",
    "from keras.models import load_model\n",
    "from sklearn.metrics import confusion_matrix, classification_report "
   ]
  },
  {
   "cell_type": "markdown",
   "metadata": {},
   "source": [
    "### Choose between \"CNN\", \"LSTM\", \"AUTOENCODER\" and \"BIDIRECTIONAL\""
   ]
  },
  {
   "cell_type": "code",
   "execution_count": 2,
   "metadata": {},
   "outputs": [],
   "source": [
    "CHOOSE_MODEL = \"BIDIRECTIONAL\""
   ]
  },
  {
   "cell_type": "code",
   "execution_count": 66,
   "metadata": {},
   "outputs": [],
   "source": [
    "if CHOOSE_MODEL == \"CNN\":\n",
    "    learn_rate = 1e-3\n",
    "elif CHOOSE_MODEL == \"LSTM\":\n",
    "    learn_rate = 1e-3\n",
    "elif CHOOSE_MODEL == \"AUTOENCODER\":\n",
    "    learn_rate = 2e-3\n",
    "elif CHOOSE_MODEL == \"BIDIRECTIONAL\":\n",
    "    learn_rate = 3e-2\n",
    "loss = 'binary_crossentropy'\n",
    "thresholds = 1200\n",
    "roc_auc = tf.keras.metrics.AUC(num_thresholds=thresholds, curve='ROC', summation_method='interpolation')\n",
    "metrtics_calc=[roc_auc, 'accuracy']"
   ]
  },
  {
   "cell_type": "code",
   "execution_count": 4,
   "metadata": {},
   "outputs": [],
   "source": [
    "num_filters = 16\n",
    "filter_size = 3\n",
    "pool_size = 2\n",
    "dropout_rate = 0.50\n",
    "dense_layers = 128"
   ]
  },
  {
   "cell_type": "markdown",
   "metadata": {},
   "source": [
    "#### Paths of input files"
   ]
  },
  {
   "cell_type": "code",
   "execution_count": 5,
   "metadata": {},
   "outputs": [],
   "source": [
    "pos_train_file = \"./aclImdb_v1/aclImdb/train/pos/\"\n",
    "neg_train_file = \"./aclImdb_v1/aclImdb/train/neg/\"\n",
    "pos_test_file = \"./aclImdb_v1/aclImdb/test/pos/\"\n",
    "neg_test_file = \"./aclImdb_v1/aclImdb/test/neg/\""
   ]
  },
  {
   "cell_type": "code",
   "execution_count": 6,
   "metadata": {},
   "outputs": [],
   "source": [
    "input_files = [pos_train_file, neg_train_file, pos_test_file, neg_test_file]"
   ]
  },
  {
   "cell_type": "markdown",
   "metadata": {},
   "source": [
    "#### Importing data"
   ]
  },
  {
   "cell_type": "code",
   "execution_count": 7,
   "metadata": {},
   "outputs": [],
   "source": [
    "def import_data(filename):\n",
    "    file_list = glob.glob(os.path.join(os.getcwd(), filename, \"*.txt\"))\n",
    "\n",
    "    input_data = []\n",
    "\n",
    "    for file_path in file_list:\n",
    "        with open(file_path) as f_input:\n",
    "            input_data.append(f_input.read())\n",
    "    return input_data"
   ]
  },
  {
   "cell_type": "code",
   "execution_count": 8,
   "metadata": {},
   "outputs": [],
   "source": [
    "def overall_data(input_files):\n",
    "    data = pd.DataFrame()\n",
    "    for i in range(len(input_files)):\n",
    "        df = pd.DataFrame(import_data(filename=input_files[i]), columns = [\"reviews\"])\n",
    "        if input_files[i].find(\"/pos\") > 0:\n",
    "            df[\"label\"] = 1\n",
    "        else:\n",
    "            df[\"label\"] = 0\n",
    "        if input_files[i].find(\"/train\") > 0:\n",
    "            df[\"data_type\"] = \"train\"\n",
    "        else:\n",
    "            df[\"data_type\"] = \"test\"\n",
    "        data = data.append(df)\n",
    "    data.applymap(lambda x: x.strip() if isinstance(x, str) else x)\n",
    "    data.dropna(axis=0,inplace=True)\n",
    "    return data"
   ]
  },
  {
   "cell_type": "code",
   "execution_count": 9,
   "metadata": {},
   "outputs": [],
   "source": [
    "data = overall_data(input_files=input_files)"
   ]
  },
  {
   "cell_type": "markdown",
   "metadata": {},
   "source": [
    "#### I have followed the following online tutorial to learn GloVe Word Embeddings and process the data. \n",
    "https://stackabuse.com/python-for-nlp-movie-sentiment-analysis-using-deep-learning-in-keras/"
   ]
  },
  {
   "cell_type": "code",
   "execution_count": 10,
   "metadata": {},
   "outputs": [],
   "source": [
    "def preprocess_text(rev):\n",
    "    # Removing html tags\n",
    "    sentence = remove_tags(rev)\n",
    "\n",
    "    # Remove punctuations and numbers\n",
    "    sentence = re.sub('[^a-zA-Z]', ' ', sentence)\n",
    "\n",
    "    # Single character removal\n",
    "    sentence = re.sub(r\"\\s+[a-zA-Z]\\s+\", ' ', sentence)\n",
    "\n",
    "    # Removing multiple spaces\n",
    "    sentence = re.sub(r'\\s+', ' ', sentence)\n",
    "\n",
    "    return sentence"
   ]
  },
  {
   "cell_type": "code",
   "execution_count": 11,
   "metadata": {},
   "outputs": [],
   "source": [
    "TAG_RE = re.compile(r'<[^>]+>')\n",
    "\n",
    "def remove_tags(text):\n",
    "    return TAG_RE.sub('', text)"
   ]
  },
  {
   "cell_type": "code",
   "execution_count": 12,
   "metadata": {},
   "outputs": [],
   "source": [
    "X = []\n",
    "sentences = list(data['reviews'])\n",
    "for rev in sentences:\n",
    "    X.append(preprocess_text(rev))"
   ]
  },
  {
   "cell_type": "code",
   "execution_count": 13,
   "metadata": {},
   "outputs": [],
   "source": [
    "X_train, X_test, y_train, y_test = train_test_split(X, data['label'], test_size=0.10, random_state=80)"
   ]
  },
  {
   "cell_type": "code",
   "execution_count": 14,
   "metadata": {},
   "outputs": [],
   "source": [
    "tokenizer = Tokenizer(num_words=10000)\n",
    "tokenizer.fit_on_texts(X_train)\n",
    "\n",
    "X_train = tokenizer.texts_to_sequences(X_train)\n",
    "X_test = tokenizer.texts_to_sequences(X_test)"
   ]
  },
  {
   "cell_type": "code",
   "execution_count": 15,
   "metadata": {},
   "outputs": [],
   "source": [
    "# Adding 1 because of reserved 0 index\n",
    "vocab_size = len(tokenizer.word_index) + 1\n",
    "\n",
    "maxlen = 300\n",
    "\n",
    "X_train = pad_sequences(X_train, padding='post', maxlen=maxlen)\n",
    "X_test = pad_sequences(X_test, padding='post', maxlen=maxlen)"
   ]
  },
  {
   "cell_type": "code",
   "execution_count": 16,
   "metadata": {},
   "outputs": [],
   "source": [
    "from numpy import array\n",
    "from numpy import asarray\n",
    "from numpy import zeros"
   ]
  },
  {
   "cell_type": "markdown",
   "metadata": {},
   "source": [
    "#### Download glove.840B.300d.txt file from https://nlp.stanford.edu/projects/glove/"
   ]
  },
  {
   "cell_type": "code",
   "execution_count": 17,
   "metadata": {},
   "outputs": [],
   "source": [
    "embeddings_dictionary = dict()\n",
    "glove_file = open('../../project-data/glove.840B.300d.txt', 'r', errors = 'ignore', encoding='utf-8')\n",
    "\n",
    "for line in glove_file:\n",
    "    records = line.split(' ')\n",
    "    word = records[0]\n",
    "    vector_dimensions = asarray(records[1:], dtype='float32')\n",
    "    embeddings_dictionary [word] = vector_dimensions\n",
    "glove_file.close()"
   ]
  },
  {
   "cell_type": "code",
   "execution_count": 18,
   "metadata": {},
   "outputs": [],
   "source": [
    "embedding_matrix = zeros((vocab_size, 300))\n",
    "for word, index in tokenizer.word_index.items():\n",
    "    embedding_vector = embeddings_dictionary.get(word)\n",
    "    if embedding_vector is not None:\n",
    "        embedding_matrix[index] = embedding_vector"
   ]
  },
  {
   "cell_type": "code",
   "execution_count": 67,
   "metadata": {},
   "outputs": [],
   "source": [
    "def optimizer_func(learn_rate):\n",
    "    if CHOOSE_MODEL == \"CNN\":\n",
    "        opt = tf.keras.optimizers.RMSprop(learning_rate=learn_rate)\n",
    "    elif CHOOSE_MODEL == \"LSTM\":\n",
    "        opt = tf.keras.optimizers.RMSprop(learning_rate=learn_rate)\n",
    "    elif CHOOSE_MODEL == \"AUTOENCODER\":\n",
    "        opt = tf.keras.optimizers.Adam(learning_rate=learn_rate)\n",
    "    elif CHOOSE_MODEL == \"BIDIRECTIONAL\":\n",
    "        opt = tf.keras.optimizers.RMSprop(learning_rate=learn_rate)\n",
    "    return opt"
   ]
  },
  {
   "cell_type": "markdown",
   "metadata": {},
   "source": [
    "Embedding Layer"
   ]
  },
  {
   "cell_type": "code",
   "execution_count": 68,
   "metadata": {},
   "outputs": [],
   "source": [
    "embedding_layer = Embedding(vocab_size, 300, weights=[embedding_matrix], \n",
    "                            input_length=maxlen , trainable=False)"
   ]
  },
  {
   "cell_type": "markdown",
   "metadata": {},
   "source": [
    "CNN Model"
   ]
  },
  {
   "cell_type": "code",
   "execution_count": 69,
   "metadata": {},
   "outputs": [],
   "source": [
    "def cnn_func(num_filters, filter_size, pool_size, dense_layers, dropout_rate):\n",
    "    cnn_model = Sequential()\n",
    "    cnn_model.add(embedding_layer)\n",
    "\n",
    "    # The first convolutional layer of the model with 16 filters and kernel of 3x3\n",
    "    cnn_model.add(Conv1D(filters=num_filters, kernel_size=filter_size, activation=\"tanh\"))\n",
    "    cnn_model.add(MaxPooling1D(pool_size=pool_size))\n",
    "    cnn_model.add(LeakyReLU())\n",
    "    cnn_model.add(Dropout(dropout_rate))\n",
    "    # The second convolutional layer of the model with 32 filters and kernel of 3x3\n",
    "    cnn_model.add(Conv1D(filters=num_filters*2, kernel_size=3, activation='relu'))\n",
    "    cnn_model.add(MaxPooling1D(pool_size=pool_size))\n",
    "    cnn_model.add(LeakyReLU())\n",
    "    cnn_model.add(Dropout(dropout_rate))\n",
    "    \n",
    "    cnn_model.add(Flatten())\n",
    "    cnn_model.add(Dense(dense_layers, activation='tanh'))\n",
    "    cnn_model.add(Dropout(int(dropout_rate*1.5)))\n",
    "    cnn_model.add(BatchNormalization())\n",
    "    cnn_model.add(LeakyReLU())\n",
    "    cnn_model.add(Dense(int(dense_layers/4), activation='tanh'))\n",
    "    cnn_model.add(Dropout(int(dropout_rate*1.5)))\n",
    "    cnn_model.add(BatchNormalization())\n",
    "    cnn_model.add(LeakyReLU())\n",
    "    cnn_model.add(Dense(1, activation='sigmoid'))\n",
    "    \n",
    "    return cnn_model"
   ]
  },
  {
   "cell_type": "markdown",
   "metadata": {},
   "source": [
    "LSTM Model"
   ]
  },
  {
   "cell_type": "code",
   "execution_count": 70,
   "metadata": {},
   "outputs": [],
   "source": [
    "def lstm_func(num_filters):\n",
    "    lstm_model = Sequential()\n",
    "    lstm_model.add(embedding_layer)\n",
    "\n",
    "    lstm_model.add(LSTM(int(num_filters/4), activation=\"tanh\", return_sequences=True))\n",
    "    lstm_model.add(LSTM(int(num_filters/2), activation=\"tanh\"))\n",
    "    lstm_model.add(Dense(1, activation='sigmoid'))\n",
    "    \n",
    "    return lstm_model"
   ]
  },
  {
   "cell_type": "markdown",
   "metadata": {},
   "source": [
    "Autoencoder LSTM Model"
   ]
  },
  {
   "cell_type": "code",
   "execution_count": 71,
   "metadata": {},
   "outputs": [],
   "source": [
    "def autoencoder_lstm_func(num_filters):\n",
    "    autoencoder_lstm = Sequential()\n",
    "\n",
    "    autoencoder_lstm.add(embedding_layer)\n",
    "\n",
    "    autoencoder_lstm.add(LSTM(int(num_filters/4), activation=\"tanh\", return_sequences=True))\n",
    "    autoencoder_lstm.add(Flatten())\n",
    "    autoencoder_lstm.add(RepeatVector((5)))\n",
    "    autoencoder_lstm.add(LSTM(int(num_filters/2), activation=\"tanh\", return_sequences=True))\n",
    "    autoencoder_lstm.add(TimeDistributed(Dense(1)))\n",
    "    autoencoder_lstm.add(Flatten())\n",
    "    autoencoder_lstm.add(Dense(1, activation='sigmoid'))\n",
    "    \n",
    "    return autoencoder_lstm"
   ]
  },
  {
   "cell_type": "markdown",
   "metadata": {},
   "source": [
    "Bidirectional LSTM Model"
   ]
  },
  {
   "cell_type": "code",
   "execution_count": 72,
   "metadata": {},
   "outputs": [],
   "source": [
    "def bidirectional_func(num_filters):\n",
    "    bidirectional_model = Sequential()\n",
    "    bidirectional_model.add(embedding_layer)\n",
    "\n",
    "    bidirectional_model.add(Bidirectional(LSTM(int(num_filters/4), return_sequences=True)))\n",
    "    bidirectional_model.add(Bidirectional(LSTM(int(num_filters/8))))\n",
    "    bidirectional_model.add(Dense(1, activation='sigmoid'))\n",
    "    \n",
    "    return bidirectional_model"
   ]
  },
  {
   "cell_type": "markdown",
   "metadata": {},
   "source": [
    "Compiling the seleted model"
   ]
  },
  {
   "cell_type": "code",
   "execution_count": 73,
   "metadata": {},
   "outputs": [],
   "source": [
    "def model_compile(model):\n",
    "    compiled_model = model.compile(optimizer=optimizer_func(learn_rate), loss=loss, metrics=metrtics_calc)\n",
    "    return compiled_model"
   ]
  },
  {
   "cell_type": "code",
   "execution_count": 74,
   "metadata": {},
   "outputs": [],
   "source": [
    "if CHOOSE_MODEL == \"CNN\":\n",
    "    model = cnn_func(num_filters, filter_size, pool_size, dense_layers, dropout_rate)\n",
    "elif CHOOSE_MODEL == \"LSTM\":\n",
    "    model = lstm_func(num_filters)\n",
    "elif CHOOSE_MODEL == \"AUTOENCODER\":\n",
    "    model = autoencoder_lstm_func(num_filters)\n",
    "elif CHOOSE_MODEL == \"BIDIRECTIONAL\":\n",
    "    model = bidirectional_func(num_filters)\n",
    "model_compile(model)"
   ]
  },
  {
   "cell_type": "markdown",
   "metadata": {},
   "source": [
    "Model Summary"
   ]
  },
  {
   "cell_type": "code",
   "execution_count": 76,
   "metadata": {},
   "outputs": [
    {
     "name": "stdout",
     "output_type": "stream",
     "text": [
      "                   Bidirectional LSTM Model Summary\n",
      "Model: \"sequential_3\"\n",
      "_________________________________________________________________\n",
      "Layer (type)                 Output Shape              Param #   \n",
      "=================================================================\n",
      "embedding_3 (Embedding)      (None, 300, 300)          29147100  \n",
      "_________________________________________________________________\n",
      "bidirectional (Bidirectional (None, 300, 8)            9760      \n",
      "_________________________________________________________________\n",
      "bidirectional_1 (Bidirection (None, 4)                 176       \n",
      "_________________________________________________________________\n",
      "dense_6 (Dense)              (None, 1)                 5         \n",
      "=================================================================\n",
      "Total params: 29,157,041\n",
      "Trainable params: 9,941\n",
      "Non-trainable params: 29,147,100\n",
      "_________________________________________________________________\n",
      "None\n"
     ]
    }
   ],
   "source": [
    "print(\"                   Bidirectional LSTM Model Summary\")\n",
    "print(model.summary())"
   ]
  },
  {
   "cell_type": "markdown",
   "metadata": {},
   "source": [
    "Fitting the chosen model"
   ]
  },
  {
   "cell_type": "code",
   "execution_count": 28,
   "metadata": {},
   "outputs": [
    {
     "name": "stdout",
     "output_type": "stream",
     "text": [
      "Epoch 1/10\n",
      "1266/1266 [==============================] - 252s 199ms/step - loss: 0.3530 - auc: 0.9232 - accuracy: 0.8425 - val_loss: 0.2700 - val_auc: 0.9573 - val_accuracy: 0.8829\n",
      "Epoch 2/10\n",
      "1266/1266 [==============================] - 245s 193ms/step - loss: 0.2759 - auc: 0.9535 - accuracy: 0.8838 - val_loss: 0.2607 - val_auc: 0.9589 - val_accuracy: 0.8853\n",
      "Epoch 3/10\n",
      "1266/1266 [==============================] - 243s 192ms/step - loss: 0.2472 - auc: 0.9628 - accuracy: 0.8975 - val_loss: 0.2613 - val_auc: 0.9606 - val_accuracy: 0.8864\n",
      "Epoch 4/10\n",
      "1266/1266 [==============================] - 241s 190ms/step - loss: 0.2208 - auc: 0.9703 - accuracy: 0.9078 - val_loss: 0.2742 - val_auc: 0.9554 - val_accuracy: 0.8862\n",
      "Epoch 5/10\n",
      "1266/1266 [==============================] - 244s 193ms/step - loss: 0.1923 - auc: 0.9774 - accuracy: 0.9209 - val_loss: 0.2884 - val_auc: 0.9515 - val_accuracy: 0.8851\n",
      "Epoch 00005: early stopping\n"
     ]
    }
   ],
   "source": [
    "if CHOOSE_MODEL == \"CNN\":\n",
    "    es = EarlyStopping(monitor='val_loss', mode='min', verbose=1, patience=10)\n",
    "    mc = ModelCheckpoint('../project-data/saved_model/best_cnn_model.h5', monitor='val_accuracy', mode='max', verbose=0, save_best_only=True)\n",
    "    history = model.fit(X_train, y_train, batch_size=32, epochs=100, verbose=1, validation_split=0.1, callbacks=[es, mc])\n",
    "elif CHOOSE_MODEL == \"LSTM\":\n",
    "    es = EarlyStopping(monitor='val_loss', mode='min', verbose=1, patience=10)\n",
    "    mc = ModelCheckpoint('../project-data/saved_model/best_lstm_model.h5', monitor='val_accuracy', mode='max', verbose=0, save_best_only=True)\n",
    "    history = model.fit(X_train, y_train, batch_size=32, epochs=50, verbose=1, validation_split=0.1, callbacks=[es, mc])\n",
    "elif CHOOSE_MODEL == \"AUTOENCODER\":\n",
    "    es = EarlyStopping(monitor='val_loss', mode='min', verbose=1, patience=3)\n",
    "    mc = ModelCheckpoint('../project-data/saved_model/best_autoencoder_model.h5', monitor='val_accuracy', mode='max', verbose=0, save_best_only=True)\n",
    "    history = model.fit(X_train, y_train, batch_size=32, epochs=10, verbose=1, validation_split=0.1, callbacks=[es, mc])\n",
    "elif CHOOSE_MODEL == \"BIDIRECTIONAL\":\n",
    "    es = EarlyStopping(monitor='val_loss', mode='min', verbose=1, patience=5)\n",
    "    mc = ModelCheckpoint('../project-data/saved_model/best_bidirectional_model.h5', monitor='val_accuracy', mode='max', verbose=0, save_best_only=True)\n",
    "    history = model.fit(X_train, y_train, batch_size=32, epochs=12, verbose=1, validation_split=0.1, callbacks=[es, mc])"
   ]
  },
  {
   "cell_type": "code",
   "execution_count": 39,
   "metadata": {},
   "outputs": [],
   "source": [
    "# if CHOOSE_MODEL == \"CNN\":\n",
    "#     history = model.fit(X_train, y_train, batch_size=32, epochs=100, verbose=1, validation_split=0.1)\n",
    "# elif CHOOSE_MODEL == \"LSTM\":\n",
    "#     history = model.fit(X_train, y_train, batch_size=32, epochs=50, verbose=1, validation_split=0.1)\n",
    "# elif CHOOSE_MODEL == \"AUTOENCODER\":\n",
    "#     history = model.fit(X_train, y_train, batch_size=32, epochs=25, verbose=1, validation_split=0.1)\n",
    "# elif CHOOSE_MODEL == \"BIDIRECTIONAL\":\n",
    "#     history = model.fit(X_train, y_train, batch_size=32, epochs=50, verbose=1, validation_split=0.1)"
   ]
  },
  {
   "cell_type": "markdown",
   "metadata": {},
   "source": [
    "Accuracy vs Epoch plot of the chosen model"
   ]
  },
  {
   "cell_type": "code",
   "execution_count": 40,
   "metadata": {},
   "outputs": [
    {
     "data": {
      "image/png": "[encoded data removed]",
      "text/plain": [
       "<Figure size 432x288 with 1 Axes>"
      ]
     },
     "metadata": {},
     "output_type": "display_data"
    }
   ],
   "source": [
    "if CHOOSE_MODEL == \"CNN\":\n",
    "    plt.plot(history.history['accuracy'])\n",
    "    plt.plot(history.history['val_accuracy'])\n",
    "    plt.title(CHOOSE_MODEL + ' Model accuracy')\n",
    "    plt.ylabel('Accuracy')\n",
    "    plt.xlabel('Epoch')\n",
    "    plt.legend(['Train', 'Test'], loc='upper left')\n",
    "    plt.savefig('./figures/' + CHOOSE_MODEL + '_model_accuracy.png', dpi=300)\n",
    "    plt.show()\n",
    "elif CHOOSE_MODEL == \"LSTM\":\n",
    "    plt.plot(history.history['accuracy'])\n",
    "    plt.plot(history.history['val_accuracy'])\n",
    "    plt.title(CHOOSE_MODEL + ' Model accuracy')\n",
    "    plt.ylabel('Accuracy')\n",
    "    plt.xlabel('Epoch')\n",
    "    plt.legend(['Train', 'Test'], loc='upper left')\n",
    "    plt.savefig('./figures/' + CHOOSE_MODEL + '_model_accuracy.png', dpi=300)\n",
    "    plt.show()\n",
    "elif CHOOSE_MODEL == \"AUTOENCODER\":\n",
    "    plt.plot(history.history['accuracy'])\n",
    "    plt.plot(history.history['val_accuracy'])\n",
    "    plt.title(CHOOSE_MODEL + ' Model accuracy')\n",
    "    plt.ylabel('Accuracy')\n",
    "    plt.xlabel('Epoch')\n",
    "    plt.legend(['Train', 'Test'], loc='upper left')\n",
    "    plt.savefig('./figures/' + CHOOSE_MODEL + '_model_accuracy.png', dpi=300)\n",
    "    plt.show()\n",
    "elif CHOOSE_MODEL == \"BIDIRECTIONAL\":\n",
    "    plt.plot(history.history['accuracy'])\n",
    "    plt.plot(history.history['val_accuracy'])\n",
    "    plt.title(CHOOSE_MODEL + ' Model accuracy')\n",
    "    plt.ylabel('Accuracy')\n",
    "    plt.xlabel('Epoch')\n",
    "    plt.legend(['Train', 'Test'], loc='upper left')\n",
    "    plt.savefig('./figures/' + CHOOSE_MODEL + '_model_accuracy.png', dpi=300)\n",
    "    plt.show()"
   ]
  },
  {
   "cell_type": "markdown",
   "metadata": {},
   "source": [
    "Loss vs Epoch plot of the chosen model"
   ]
  },
  {
   "cell_type": "code",
   "execution_count": 41,
   "metadata": {},
   "outputs": [
    {
     "data": {
      "image/png": "[encoded data removed]",
      "text/plain": [
       "<Figure size 432x288 with 1 Axes>"
      ]
     },
     "metadata": {},
     "output_type": "display_data"
    }
   ],
   "source": [
    "if CHOOSE_MODEL == \"CNN\":\n",
    "    plt.plot(history.history['loss'])\n",
    "    plt.plot(history.history['val_loss'])\n",
    "    plt.title(CHOOSE_MODEL + ' Model loss')\n",
    "    plt.ylabel('Loss')\n",
    "    plt.xlabel('Epoch')\n",
    "    plt.legend(['Train', 'Test'], loc='upper left')\n",
    "    plt.savefig('./figures/' + CHOOSE_MODEL + '_model_loss.png', dpi=300)\n",
    "    plt.show()\n",
    "elif CHOOSE_MODEL == \"LSTM\":\n",
    "    plt.plot(history.history['loss'])\n",
    "    plt.plot(history.history['val_loss'])\n",
    "    plt.title(CHOOSE_MODEL + ' Model loss')\n",
    "    plt.ylabel('Loss')\n",
    "    plt.xlabel('Epoch')\n",
    "    plt.legend(['Train', 'Test'], loc='upper left')\n",
    "    plt.savefig('./figures/' + CHOOSE_MODEL + '_model_loss.png', dpi=300)\n",
    "    plt.show()\n",
    "elif CHOOSE_MODEL == \"AUTOENCODER\":\n",
    "    plt.plot(history.history['loss'])\n",
    "    plt.plot(history.history['val_loss'])\n",
    "    plt.title(CHOOSE_MODEL + ' Model loss')\n",
    "    plt.ylabel('Loss')\n",
    "    plt.xlabel('Epoch')\n",
    "    plt.legend(['Train', 'Test'], loc='upper left')\n",
    "    plt.savefig('./figures/' + CHOOSE_MODEL + '_model_loss.png', dpi=300)\n",
    "    plt.show()\n",
    "elif CHOOSE_MODEL == \"BIDIRECTIONAL\":\n",
    "    plt.plot(history.history['loss'])\n",
    "    plt.plot(history.history['val_loss'])\n",
    "    plt.title(CHOOSE_MODEL + ' Model loss')\n",
    "    plt.ylabel('Loss')\n",
    "    plt.xlabel('Epoch')\n",
    "    plt.legend(['Train', 'Test'], loc='upper left')\n",
    "    plt.savefig('./figures/' + CHOOSE_MODEL + '_model_loss.png', dpi=300)\n",
    "    plt.show()"
   ]
  },
  {
   "cell_type": "markdown",
   "metadata": {},
   "source": [
    "Loading the saved model"
   ]
  },
  {
   "cell_type": "code",
   "execution_count": 3,
   "metadata": {},
   "outputs": [],
   "source": [
    "if CHOOSE_MODEL == \"CNN\":\n",
    "    saved_model = load_model('../../project-data/saved_model/best_cnn_model.h5')\n",
    "elif CHOOSE_MODEL == \"LSTM\":\n",
    "    saved_model = load_model('../../project-data/saved_model/best_lstm_model.h5')\n",
    "elif CHOOSE_MODEL == \"AUTOENCODER\":\n",
    "    saved_model = load_model('../../project-data/saved_model/best_autoencoder_model.h5')\n",
    "elif CHOOSE_MODEL == \"BIDIRECTIONAL\":\n",
    "    saved_model = load_model('../../project-data/saved_model/best_bidirectional_model.h5')"
   ]
  },
  {
   "cell_type": "markdown",
   "metadata": {},
   "source": [
    "#### Evaluating the Model"
   ]
  },
  {
   "cell_type": "code",
   "execution_count": null,
   "metadata": {},
   "outputs": [],
   "source": [
    "print('\\n# Evaluate on test data')\n",
    "results = saved_model.evaluate(X_test, y_test, batch_size=128)\n",
    "print('test loss, test acc:', results)\n",
    "\n",
    "# Generate predictions (probabilities -- the output of the last layer)\n",
    "# on new data using `predict`\n",
    "print('\\n# Generate predictions for 3 samples')\n",
    "predictions = saved_model.predict(X_test[:3])\n",
    "print('predictions shape:', predictions.shape)"
   ]
  },
  {
   "cell_type": "code",
   "execution_count": 170,
   "metadata": {},
   "outputs": [
    {
     "name": "stdout",
     "output_type": "stream",
     "text": [
      "40/40 [==============================] - 4s 103ms/step\n"
     ]
    }
   ],
   "source": [
    "model_pred = saved_model.predict(X_test, batch_size=128, verbose=1)\n",
    "# model_predicted = np.argmax(model_pred, axis=0)"
   ]
  },
  {
   "cell_type": "code",
   "execution_count": 171,
   "metadata": {},
   "outputs": [
    {
     "data": {
      "text/plain": [
       "array([[2275,  276],\n",
       "       [ 287, 2162]])"
      ]
     },
     "execution_count": 171,
     "metadata": {},
     "output_type": "execute_result"
    }
   ],
   "source": [
    "model_cm = confusion_matrix(y_test, model_pred.round()) \n",
    "model_cm"
   ]
  },
  {
   "cell_type": "markdown",
   "metadata": {},
   "source": [
    "#### Confusion Matrix Heat Map"
   ]
  },
  {
   "cell_type": "code",
   "execution_count": 172,
   "metadata": {},
   "outputs": [
    {
     "data": {
      "image/png": "[encoded data removed]",
      "text/plain": [
       "<Figure size 576x432 with 2 Axes>"
      ]
     },
     "metadata": {},
     "output_type": "display_data"
    }
   ],
   "source": [
    "model_df_cm = pd.DataFrame(model_cm, range(2), range(2)) \n",
    "plt.figure(figsize = (8, 6)) \n",
    "plt.title(CHOOSE_MODEL + ' Confusion Matrix')\n",
    "sn.set(font_scale=1.4) #for label size \n",
    "sn.heatmap(model_df_cm, annot=True, annot_kws={\"size\": 12}, fmt=\"d\") # font size \n",
    "plt.xlabel(\"Predicted\")\n",
    "plt.ylabel(\"Truth\")\n",
    "plt.savefig('./figures/' + CHOOSE_MODEL + '_confusion_matrix.png', dpi=300)\n",
    "plt.show()"
   ]
  },
  {
   "cell_type": "markdown",
   "metadata": {},
   "source": [
    "#### Normalized Confusion Matrix Heat Map"
   ]
  },
  {
   "cell_type": "code",
   "execution_count": 173,
   "metadata": {},
   "outputs": [
    {
     "data": {
      "image/png": "[encoded data removed]",
      "text/plain": [
       "<Figure size 576x432 with 2 Axes>"
      ]
     },
     "metadata": {},
     "output_type": "display_data"
    }
   ],
   "source": [
    "model_df_cm = pd.DataFrame(model_cm, range(2), range(2)) \n",
    "plt.figure(figsize = (8, 6)) \n",
    "plt.title(CHOOSE_MODEL + ' Confusion Matrix')\n",
    "sn.set(font_scale=1.4) #for label size \n",
    "sn.heatmap(model_df_cm/np.sum(model_df_cm, 1), annot=True, fmt='.2%')\n",
    "plt.xlabel(\"Predicted\")\n",
    "plt.ylabel(\"Truth\")\n",
    "plt.savefig('./figures/' + CHOOSE_MODEL + '_confusion_matrix_normalized.png', dpi=300)\n",
    "plt.show()"
   ]
  },
  {
   "cell_type": "markdown",
   "metadata": {},
   "source": [
    "#### Classification Report of the Model"
   ]
  },
  {
   "cell_type": "code",
   "execution_count": 174,
   "metadata": {},
   "outputs": [
    {
     "name": "stdout",
     "output_type": "stream",
     "text": [
      "              precision    recall  f1-score   support\n",
      "\n",
      "           0       0.89      0.89      0.89      2551\n",
      "           1       0.89      0.88      0.88      2449\n",
      "\n",
      "    accuracy                           0.89      5000\n",
      "   macro avg       0.89      0.89      0.89      5000\n",
      "weighted avg       0.89      0.89      0.89      5000\n",
      "\n"
     ]
    }
   ],
   "source": [
    "model_report = classification_report(y_test, model_pred.round())\n",
    "print(model_report)"
   ]
  },
  {
   "cell_type": "code",
   "execution_count": null,
   "metadata": {},
   "outputs": [],
   "source": []
  }
 ],
 "metadata": {
  "kernelspec": {
   "display_name": "csce771ver5",
   "language": "python",
   "name": "csce771ver5"
  },
  "language_info": {
   "codemirror_mode": {
    "name": "ipython",
    "version": 3
   },
   "file_extension": ".py",
   "mimetype": "text/x-python",
   "name": "python",
   "nbconvert_exporter": "python",
   "pygments_lexer": "ipython3",
   "version": "3.7.4"
  }
 },
 "nbformat": 4,
 "nbformat_minor": 4
}
