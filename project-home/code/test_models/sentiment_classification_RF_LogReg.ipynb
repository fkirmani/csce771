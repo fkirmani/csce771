{
 "cells": [
  {
   "cell_type": "code",
   "execution_count": 1,
   "metadata": {},
   "outputs": [],
   "source": [
    "import pandas as pd\n",
    "import glob\n",
    "import os"
   ]
  },
  {
   "cell_type": "code",
   "execution_count": 2,
   "metadata": {},
   "outputs": [],
   "source": [
    "file_list = glob.glob(os.path.join(os.getcwd(), \"./aclImdb_v1/aclImdb/train/pos/\", \"*.txt\"))\n",
    "\n",
    "pos = []\n",
    "\n",
    "for file_path in file_list:\n",
    "    with open(file_path) as f_input:\n",
    "        pos.append(f_input.read())"
   ]
  },
  {
   "cell_type": "code",
   "execution_count": 3,
   "metadata": {},
   "outputs": [
    {
     "name": "stdout",
     "output_type": "stream",
     "text": [
      "INFO: There are 12500 rows and 3 columns in the training set.\n"
     ]
    }
   ],
   "source": [
    "pos_df = pd.DataFrame(pos, columns = [\"reviews\"])\n",
    "pos_df[\"label\"] = 1\n",
    "pos_df[\"data_type\"] = \"train\"\n",
    "\n",
    "nRow, nCol = pos_df.shape\n",
    "print(f'INFO: There are {nRow} rows and {nCol} columns in the training set.')"
   ]
  },
  {
   "cell_type": "code",
   "execution_count": 4,
   "metadata": {},
   "outputs": [],
   "source": [
    "file_list = glob.glob(os.path.join(os.getcwd(), \"./aclImdb_v1/aclImdb/train/neg/\", \"*.txt\"))\n",
    "\n",
    "neg = []\n",
    "\n",
    "for file_path in file_list:\n",
    "    with open(file_path) as f_input:\n",
    "        neg.append(f_input.read())"
   ]
  },
  {
   "cell_type": "code",
   "execution_count": 5,
   "metadata": {},
   "outputs": [
    {
     "name": "stdout",
     "output_type": "stream",
     "text": [
      "INFO: There are 12500 rows and 3 columns in the training set.\n"
     ]
    }
   ],
   "source": [
    "neg_df = pd.DataFrame(neg, columns = [\"reviews\"])\n",
    "neg_df[\"label\"] = 0\n",
    "neg_df[\"data_type\"] = \"train\"\n",
    "\n",
    "nRow, nCol = neg_df.shape\n",
    "print(f'INFO: There are {nRow} rows and {nCol} columns in the training set.')"
   ]
  },
  {
   "cell_type": "code",
   "execution_count": 6,
   "metadata": {},
   "outputs": [
    {
     "name": "stdout",
     "output_type": "stream",
     "text": [
      "INFO: There are 25000 rows and 3 columns in the training set.\n"
     ]
    }
   ],
   "source": [
    "train = pos_df.append(neg_df)\n",
    "\n",
    "nRow, nCol = train.shape\n",
    "print(f'INFO: There are {nRow} rows and {nCol} columns in the training set.')"
   ]
  },
  {
   "cell_type": "code",
   "execution_count": 7,
   "metadata": {},
   "outputs": [
    {
     "name": "stdout",
     "output_type": "stream",
     "text": [
      "<class 'pandas.core.frame.DataFrame'>\n",
      "Int64Index: 25000 entries, 0 to 12499\n",
      "Data columns (total 3 columns):\n",
      " #   Column     Non-Null Count  Dtype \n",
      "---  ------     --------------  ----- \n",
      " 0   reviews    25000 non-null  object\n",
      " 1   label      25000 non-null  int64 \n",
      " 2   data_type  25000 non-null  object\n",
      "dtypes: int64(1), object(2)\n",
      "memory usage: 781.2+ KB\n"
     ]
    }
   ],
   "source": [
    "# Clean of white spaces\n",
    "train = train.applymap(lambda x: x.strip() if isinstance(x, str) else x)\n",
    "# Print statistics\n",
    "train.info()"
   ]
  },
  {
   "cell_type": "code",
   "execution_count": 8,
   "metadata": {},
   "outputs": [
    {
     "data": {
      "text/plain": [
       "1    12500\n",
       "0    12500\n",
       "Name: label, dtype: int64"
      ]
     },
     "execution_count": 8,
     "metadata": {},
     "output_type": "execute_result"
    }
   ],
   "source": [
    "# Distribution of positive and negative labels\n",
    "train[\"label\"].value_counts()"
   ]
  },
  {
   "cell_type": "code",
   "execution_count": 9,
   "metadata": {},
   "outputs": [
    {
     "name": "stdout",
     "output_type": "stream",
     "text": [
      "INFO: There are 25000 rows and 3 columns in the training set.\n"
     ]
    }
   ],
   "source": [
    "# Removing empty rows from csv \n",
    "train.dropna(axis=0,inplace=True)\n",
    "nRow, nCol = train.shape\n",
    "print(f'INFO: There are {nRow} rows and {nCol} columns in the training set.')"
   ]
  },
  {
   "cell_type": "code",
   "execution_count": 10,
   "metadata": {},
   "outputs": [
    {
     "data": {
      "text/plain": [
       "1    12500\n",
       "0    12500\n",
       "Name: label, dtype: int64"
      ]
     },
     "execution_count": 10,
     "metadata": {},
     "output_type": "execute_result"
    }
   ],
   "source": [
    "# Distribution of positive and negative labels\n",
    "train[\"label\"].value_counts()"
   ]
  },
  {
   "cell_type": "code",
   "execution_count": 11,
   "metadata": {},
   "outputs": [
    {
     "data": {
      "text/html": [
       "<div>\n",
       "<style scoped>\n",
       "    .dataframe tbody tr th:only-of-type {\n",
       "        vertical-align: middle;\n",
       "    }\n",
       "\n",
       "    .dataframe tbody tr th {\n",
       "        vertical-align: top;\n",
       "    }\n",
       "\n",
       "    .dataframe thead th {\n",
       "        text-align: right;\n",
       "    }\n",
       "</style>\n",
       "<table border=\"1\" class=\"dataframe\">\n",
       "  <thead>\n",
       "    <tr style=\"text-align: right;\">\n",
       "      <th></th>\n",
       "      <th>reviews</th>\n",
       "      <th>label</th>\n",
       "      <th>data_type</th>\n",
       "    </tr>\n",
       "  </thead>\n",
       "  <tbody>\n",
       "    <tr>\n",
       "      <th>0</th>\n",
       "      <td>This is one of the best films we watched in my...</td>\n",
       "      <td>1</td>\n",
       "      <td>train</td>\n",
       "    </tr>\n",
       "    <tr>\n",
       "      <th>1</th>\n",
       "      <td>Spoiler This movie is about such a concept. Wi...</td>\n",
       "      <td>1</td>\n",
       "      <td>train</td>\n",
       "    </tr>\n",
       "    <tr>\n",
       "      <th>2</th>\n",
       "      <td>Richard Attenborough is a director whose name ...</td>\n",
       "      <td>1</td>\n",
       "      <td>train</td>\n",
       "    </tr>\n",
       "    <tr>\n",
       "      <th>3</th>\n",
       "      <td>Joan Crawford had just begun her \"working girl...</td>\n",
       "      <td>1</td>\n",
       "      <td>train</td>\n",
       "    </tr>\n",
       "    <tr>\n",
       "      <th>4</th>\n",
       "      <td>I have just read the lead comment for this fil...</td>\n",
       "      <td>1</td>\n",
       "      <td>train</td>\n",
       "    </tr>\n",
       "  </tbody>\n",
       "</table>\n",
       "</div>"
      ],
      "text/plain": [
       "                                             reviews  label data_type\n",
       "0  This is one of the best films we watched in my...      1     train\n",
       "1  Spoiler This movie is about such a concept. Wi...      1     train\n",
       "2  Richard Attenborough is a director whose name ...      1     train\n",
       "3  Joan Crawford had just begun her \"working girl...      1     train\n",
       "4  I have just read the lead comment for this fil...      1     train"
      ]
     },
     "execution_count": 11,
     "metadata": {},
     "output_type": "execute_result"
    }
   ],
   "source": [
    "train.head()"
   ]
  },
  {
   "cell_type": "code",
   "execution_count": 12,
   "metadata": {},
   "outputs": [],
   "source": [
    "file_list = glob.glob(os.path.join(os.getcwd(), \"./aclImdb_v1/aclImdb/test/pos/\", \"*.txt\"))\n",
    "\n",
    "pos_test = []\n",
    "\n",
    "for file_path in file_list:\n",
    "    with open(file_path) as f_input:\n",
    "        pos_test.append(f_input.read())"
   ]
  },
  {
   "cell_type": "code",
   "execution_count": 13,
   "metadata": {},
   "outputs": [
    {
     "name": "stdout",
     "output_type": "stream",
     "text": [
      "INFO: There are 12500 rows and 3 columns in the training set.\n"
     ]
    }
   ],
   "source": [
    "pos_test_df = pd.DataFrame(pos_test, columns = [\"reviews\"])\n",
    "pos_test_df[\"label\"] = 1\n",
    "pos_test_df[\"data_type\"] = \"test\"\n",
    "\n",
    "nRow, nCol = pos_test_df.shape\n",
    "print(f'INFO: There are {nRow} rows and {nCol} columns in the training set.')"
   ]
  },
  {
   "cell_type": "code",
   "execution_count": 14,
   "metadata": {},
   "outputs": [],
   "source": [
    "file_list = glob.glob(os.path.join(os.getcwd(), \"./aclImdb_v1/aclImdb/test/neg/\", \"*.txt\"))\n",
    "\n",
    "neg_test = []\n",
    "\n",
    "for file_path in file_list:\n",
    "    with open(file_path) as f_input:\n",
    "        neg_test.append(f_input.read())"
   ]
  },
  {
   "cell_type": "code",
   "execution_count": 15,
   "metadata": {},
   "outputs": [
    {
     "name": "stdout",
     "output_type": "stream",
     "text": [
      "INFO: There are 12500 rows and 3 columns in the training set.\n"
     ]
    }
   ],
   "source": [
    "neg_test_df = pd.DataFrame(neg_test, columns = [\"reviews\"])\n",
    "neg_test_df[\"label\"] = 0\n",
    "neg_test_df[\"data_type\"] = \"test\"\n",
    "\n",
    "nRow, nCol = neg_test_df.shape\n",
    "print(f'INFO: There are {nRow} rows and {nCol} columns in the training set.')"
   ]
  },
  {
   "cell_type": "code",
   "execution_count": 16,
   "metadata": {},
   "outputs": [
    {
     "name": "stdout",
     "output_type": "stream",
     "text": [
      "INFO: There are 25000 rows and 3 columns in the training set.\n"
     ]
    }
   ],
   "source": [
    "test = pos_test_df.append(neg_test_df)\n",
    "\n",
    "nRow, nCol = test.shape\n",
    "print(f'INFO: There are {nRow} rows and {nCol} columns in the training set.')"
   ]
  },
  {
   "cell_type": "code",
   "execution_count": 17,
   "metadata": {},
   "outputs": [
    {
     "name": "stdout",
     "output_type": "stream",
     "text": [
      "<class 'pandas.core.frame.DataFrame'>\n",
      "Int64Index: 25000 entries, 0 to 12499\n",
      "Data columns (total 3 columns):\n",
      " #   Column     Non-Null Count  Dtype \n",
      "---  ------     --------------  ----- \n",
      " 0   reviews    25000 non-null  object\n",
      " 1   label      25000 non-null  int64 \n",
      " 2   data_type  25000 non-null  object\n",
      "dtypes: int64(1), object(2)\n",
      "memory usage: 781.2+ KB\n"
     ]
    }
   ],
   "source": [
    "# Clean of white spaces\n",
    "test = test.applymap(lambda x: x.strip() if isinstance(x, str) else x)\n",
    "# Print statistics\n",
    "test.info()"
   ]
  },
  {
   "cell_type": "code",
   "execution_count": 18,
   "metadata": {},
   "outputs": [
    {
     "data": {
      "text/plain": [
       "1    12500\n",
       "0    12500\n",
       "Name: label, dtype: int64"
      ]
     },
     "execution_count": 18,
     "metadata": {},
     "output_type": "execute_result"
    }
   ],
   "source": [
    "# Distribution of positive and negative labels\n",
    "test[\"label\"].value_counts()"
   ]
  },
  {
   "cell_type": "code",
   "execution_count": 19,
   "metadata": {},
   "outputs": [
    {
     "name": "stdout",
     "output_type": "stream",
     "text": [
      "INFO: There are 25000 rows and 3 columns in the training set.\n"
     ]
    }
   ],
   "source": [
    "# Removing empty rows from csv \n",
    "test.dropna(axis=0,inplace=True)\n",
    "nRow, nCol = test.shape\n",
    "print(f'INFO: There are {nRow} rows and {nCol} columns in the training set.')"
   ]
  },
  {
   "cell_type": "code",
   "execution_count": 20,
   "metadata": {},
   "outputs": [
    {
     "data": {
      "text/plain": [
       "1    12500\n",
       "0    12500\n",
       "Name: label, dtype: int64"
      ]
     },
     "execution_count": 20,
     "metadata": {},
     "output_type": "execute_result"
    }
   ],
   "source": [
    "# Distribution of positive and negative labels\n",
    "test[\"label\"].value_counts()"
   ]
  },
  {
   "cell_type": "code",
   "execution_count": 21,
   "metadata": {},
   "outputs": [
    {
     "data": {
      "text/html": [
       "<div>\n",
       "<style scoped>\n",
       "    .dataframe tbody tr th:only-of-type {\n",
       "        vertical-align: middle;\n",
       "    }\n",
       "\n",
       "    .dataframe tbody tr th {\n",
       "        vertical-align: top;\n",
       "    }\n",
       "\n",
       "    .dataframe thead th {\n",
       "        text-align: right;\n",
       "    }\n",
       "</style>\n",
       "<table border=\"1\" class=\"dataframe\">\n",
       "  <thead>\n",
       "    <tr style=\"text-align: right;\">\n",
       "      <th></th>\n",
       "      <th>reviews</th>\n",
       "      <th>label</th>\n",
       "      <th>data_type</th>\n",
       "    </tr>\n",
       "  </thead>\n",
       "  <tbody>\n",
       "    <tr>\n",
       "      <th>0</th>\n",
       "      <td>This movie is definitely one of the finest of ...</td>\n",
       "      <td>1</td>\n",
       "      <td>test</td>\n",
       "    </tr>\n",
       "    <tr>\n",
       "      <th>1</th>\n",
       "      <td>I recently saw this at the 2007 Palm Springs I...</td>\n",
       "      <td>1</td>\n",
       "      <td>test</td>\n",
       "    </tr>\n",
       "    <tr>\n",
       "      <th>2</th>\n",
       "      <td>This delightful movie tells the story of buds....</td>\n",
       "      <td>1</td>\n",
       "      <td>test</td>\n",
       "    </tr>\n",
       "    <tr>\n",
       "      <th>3</th>\n",
       "      <td>This movie was well done but it also made me f...</td>\n",
       "      <td>1</td>\n",
       "      <td>test</td>\n",
       "    </tr>\n",
       "    <tr>\n",
       "      <th>4</th>\n",
       "      <td>\"The Couch Trip\" is one of those silly comedie...</td>\n",
       "      <td>1</td>\n",
       "      <td>test</td>\n",
       "    </tr>\n",
       "  </tbody>\n",
       "</table>\n",
       "</div>"
      ],
      "text/plain": [
       "                                             reviews  label data_type\n",
       "0  This movie is definitely one of the finest of ...      1      test\n",
       "1  I recently saw this at the 2007 Palm Springs I...      1      test\n",
       "2  This delightful movie tells the story of buds....      1      test\n",
       "3  This movie was well done but it also made me f...      1      test\n",
       "4  \"The Couch Trip\" is one of those silly comedie...      1      test"
      ]
     },
     "execution_count": 21,
     "metadata": {},
     "output_type": "execute_result"
    }
   ],
   "source": [
    "test.head()"
   ]
  },
  {
   "cell_type": "code",
   "execution_count": 22,
   "metadata": {},
   "outputs": [
    {
     "name": "stdout",
     "output_type": "stream",
     "text": [
      "INFO: There are 50000 rows and 3 columns in the training set.\n"
     ]
    }
   ],
   "source": [
    "data = train.append(test)\n",
    "\n",
    "nRow, nCol = data.shape\n",
    "print(f'INFO: There are {nRow} rows and {nCol} columns in the training set.')"
   ]
  },
  {
   "cell_type": "code",
   "execution_count": 23,
   "metadata": {},
   "outputs": [
    {
     "data": {
      "text/plain": [
       "train    25000\n",
       "test     25000\n",
       "Name: data_type, dtype: int64"
      ]
     },
     "execution_count": 23,
     "metadata": {},
     "output_type": "execute_result"
    }
   ],
   "source": [
    "data[\"data_type\"].value_counts()"
   ]
  },
  {
   "cell_type": "code",
   "execution_count": 24,
   "metadata": {},
   "outputs": [],
   "source": [
    "# Import for tokenization \n",
    "from nltk.tokenize import word_tokenize"
   ]
  },
  {
   "cell_type": "code",
   "execution_count": 25,
   "metadata": {},
   "outputs": [
    {
     "data": {
      "text/html": [
       "<div>\n",
       "<style scoped>\n",
       "    .dataframe tbody tr th:only-of-type {\n",
       "        vertical-align: middle;\n",
       "    }\n",
       "\n",
       "    .dataframe tbody tr th {\n",
       "        vertical-align: top;\n",
       "    }\n",
       "\n",
       "    .dataframe thead th {\n",
       "        text-align: right;\n",
       "    }\n",
       "</style>\n",
       "<table border=\"1\" class=\"dataframe\">\n",
       "  <thead>\n",
       "    <tr style=\"text-align: right;\">\n",
       "      <th></th>\n",
       "      <th>reviews</th>\n",
       "      <th>label</th>\n",
       "      <th>data_type</th>\n",
       "      <th>title_tokenize</th>\n",
       "    </tr>\n",
       "  </thead>\n",
       "  <tbody>\n",
       "    <tr>\n",
       "      <th>0</th>\n",
       "      <td>This is one of the best films we watched in my...</td>\n",
       "      <td>1</td>\n",
       "      <td>train</td>\n",
       "      <td>[This, is, one, of, the, best, films, we, watc...</td>\n",
       "    </tr>\n",
       "    <tr>\n",
       "      <th>1</th>\n",
       "      <td>Spoiler This movie is about such a concept. Wi...</td>\n",
       "      <td>1</td>\n",
       "      <td>train</td>\n",
       "      <td>[Spoiler, This, movie, is, about, such, a, con...</td>\n",
       "    </tr>\n",
       "    <tr>\n",
       "      <th>2</th>\n",
       "      <td>Richard Attenborough is a director whose name ...</td>\n",
       "      <td>1</td>\n",
       "      <td>train</td>\n",
       "      <td>[Richard, Attenborough, is, a, director, whose...</td>\n",
       "    </tr>\n",
       "    <tr>\n",
       "      <th>3</th>\n",
       "      <td>Joan Crawford had just begun her \"working girl...</td>\n",
       "      <td>1</td>\n",
       "      <td>train</td>\n",
       "      <td>[Joan, Crawford, had, just, begun, her, ``, wo...</td>\n",
       "    </tr>\n",
       "    <tr>\n",
       "      <th>4</th>\n",
       "      <td>I have just read the lead comment for this fil...</td>\n",
       "      <td>1</td>\n",
       "      <td>train</td>\n",
       "      <td>[I, have, just, read, the, lead, comment, for,...</td>\n",
       "    </tr>\n",
       "  </tbody>\n",
       "</table>\n",
       "</div>"
      ],
      "text/plain": [
       "                                             reviews  label data_type  \\\n",
       "0  This is one of the best films we watched in my...      1     train   \n",
       "1  Spoiler This movie is about such a concept. Wi...      1     train   \n",
       "2  Richard Attenborough is a director whose name ...      1     train   \n",
       "3  Joan Crawford had just begun her \"working girl...      1     train   \n",
       "4  I have just read the lead comment for this fil...      1     train   \n",
       "\n",
       "                                      title_tokenize  \n",
       "0  [This, is, one, of, the, best, films, we, watc...  \n",
       "1  [Spoiler, This, movie, is, about, such, a, con...  \n",
       "2  [Richard, Attenborough, is, a, director, whose...  \n",
       "3  [Joan, Crawford, had, just, begun, her, ``, wo...  \n",
       "4  [I, have, just, read, the, lead, comment, for,...  "
      ]
     },
     "execution_count": 25,
     "metadata": {},
     "output_type": "execute_result"
    }
   ],
   "source": [
    "# Tokenize\n",
    "data['title_tokenize'] = data['reviews'].apply(word_tokenize)\n",
    "\n",
    "data.head()"
   ]
  },
  {
   "cell_type": "code",
   "execution_count": 26,
   "metadata": {},
   "outputs": [],
   "source": [
    "# We will have vector representation before we can do classification\n",
    "# Do imports\n",
    "from sklearn.feature_extraction.text import CountVectorizer\n",
    "from sklearn.feature_extraction.text import TfidfTransformer"
   ]
  },
  {
   "cell_type": "code",
   "execution_count": 27,
   "metadata": {},
   "outputs": [],
   "source": [
    "# We will consider 1- and 2- gram\n",
    "transformer = TfidfTransformer(smooth_idf=False)\n",
    "count_vectorizer = CountVectorizer(ngram_range=(1, 2))"
   ]
  },
  {
   "cell_type": "code",
   "execution_count": 28,
   "metadata": {},
   "outputs": [],
   "source": [
    "# fit training data to the count vectorizer\n",
    "data_counts = count_vectorizer.fit_transform(data['reviews'].values)\n",
    "\n",
    "#fit the ngrams count to the tfidf transformers\n",
    "data_tfidf = transformer.fit_transform(data_counts)"
   ]
  },
  {
   "cell_type": "code",
   "execution_count": 44,
   "metadata": {},
   "outputs": [],
   "source": [
    "from sklearn.model_selection import train_test_split\n",
    "\n",
    "#  If train-test size is not initialized, test_size will be set to 0.25 and train_set = 1-test_size\n",
    "X_train, X_test, y_train, y_test = train_test_split(data_tfidf, data['label'].values, random_state=0, test_size=0.50)"
   ]
  },
  {
   "cell_type": "code",
   "execution_count": 103,
   "metadata": {},
   "outputs": [],
   "source": [
    "# X_train = data_tfidf\n",
    "# y_train = train['label'].values\n",
    "# X_test = test_tfidf\n",
    "# y_test = test['label'].values"
   ]
  },
  {
   "cell_type": "code",
   "execution_count": 46,
   "metadata": {},
   "outputs": [],
   "source": [
    "# Import for prediction\n",
    "from sklearn.ensemble import RandomForestClassifier\n",
    "from sklearn.linear_model import LogisticRegression\n",
    "from sklearn.metrics import confusion_matrix, classification_report"
   ]
  },
  {
   "cell_type": "code",
   "execution_count": 47,
   "metadata": {},
   "outputs": [
    {
     "data": {
      "text/plain": [
       "RandomForestClassifier(min_samples_leaf=100, n_estimators=1000, n_jobs=-1)"
      ]
     },
     "execution_count": 47,
     "metadata": {},
     "output_type": "execute_result"
    }
   ],
   "source": [
    "# Try titles on random forest\n",
    "RandomFC= RandomForestClassifier(n_estimators=1000, min_samples_leaf = 100, n_jobs=-1)\n",
    "RandomFC.fit(X_train, y_train)"
   ]
  },
  {
   "cell_type": "code",
   "execution_count": 48,
   "metadata": {},
   "outputs": [
    {
     "name": "stdout",
     "output_type": "stream",
     "text": [
      "Accuracy of randomforest classifier on training set: 0.85\n",
      "Accuracy of randomforest classifier on test set: 0.84\n",
      "[[10219  2254]\n",
      " [ 1846 10681]]\n",
      "              precision    recall  f1-score   support\n",
      "\n",
      "           0       0.85      0.82      0.83     12473\n",
      "           1       0.83      0.85      0.84     12527\n",
      "\n",
      "    accuracy                           0.84     25000\n",
      "   macro avg       0.84      0.84      0.84     25000\n",
      "weighted avg       0.84      0.84      0.84     25000\n",
      "\n"
     ]
    }
   ],
   "source": [
    "# Print accuracy\n",
    "print('Accuracy of randomforest classifier on training set: {:.2f}'.format(RandomFC.score(X_train, y_train)))\n",
    "print('Accuracy of randomforest classifier on test set: {:.2f}'.format(RandomFC.score(X_test, y_test)))\n",
    "CM = confusion_matrix(y_test, RandomFC.predict(X_test))\n",
    "print(CM)\n",
    "CR = classification_report(y_test, RandomFC.predict(X_test))\n",
    "print(CR)"
   ]
  },
  {
   "cell_type": "code",
   "execution_count": 49,
   "metadata": {},
   "outputs": [
    {
     "name": "stderr",
     "output_type": "stream",
     "text": [
      "/home/fkirmani/anaconda3/envs/astro/lib/python3.6/site-packages/sklearn/linear_model/_logistic.py:764: ConvergenceWarning: lbfgs failed to converge (status=1):\n",
      "STOP: TOTAL NO. of ITERATIONS REACHED LIMIT.\n",
      "\n",
      "Increase the number of iterations (max_iter) or scale the data as shown in:\n",
      "    https://scikit-learn.org/stable/modules/preprocessing.html\n",
      "Please also refer to the documentation for alternative solver options:\n",
      "    https://scikit-learn.org/stable/modules/linear_model.html#logistic-regression\n",
      "  extra_warning_msg=_LOGISTIC_SOLVER_CONVERGENCE_MSG)\n"
     ]
    },
    {
     "data": {
      "text/plain": [
       "LogisticRegression(C=100000.0)"
      ]
     },
     "execution_count": 49,
     "metadata": {},
     "output_type": "execute_result"
    }
   ],
   "source": [
    "# Also try logistic regression\n",
    "logreg = LogisticRegression(C=1e5)\n",
    "logreg.fit(X_train, y_train)"
   ]
  },
  {
   "cell_type": "code",
   "execution_count": 50,
   "metadata": {},
   "outputs": [
    {
     "name": "stdout",
     "output_type": "stream",
     "text": [
      "Accuracy of Logreg classifier on training set: 1.00\n",
      "Accuracy of Logreg classifier on test set: 0.91\n",
      "[[11274  1199]\n",
      " [ 1064 11463]]\n"
     ]
    }
   ],
   "source": [
    "# Print accuracy\n",
    "print('Accuracy of Logreg classifier on training set: {:.2f}'.format(logreg.score(X_train, y_train)))\n",
    "print('Accuracy of Logreg classifier on test set: {:.2f}'.format(logreg.score(X_test, y_test)))\n",
    "CM = confusion_matrix(y_test, logreg.predict(X_test))\n",
    "print(CM)"
   ]
  },
  {
   "cell_type": "code",
   "execution_count": null,
   "metadata": {},
   "outputs": [],
   "source": []
  }
 ],
 "metadata": {
  "kernelspec": {
   "display_name": "csce771",
   "language": "python",
   "name": "csce771"
  },
  "language_info": {
   "codemirror_mode": {
    "name": "ipython",
    "version": 3
   },
   "file_extension": ".py",
   "mimetype": "text/x-python",
   "name": "python",
   "nbconvert_exporter": "python",
   "pygments_lexer": "ipython3",
   "version": "3.6.10"
  }
 },
 "nbformat": 4,
 "nbformat_minor": 4
}
