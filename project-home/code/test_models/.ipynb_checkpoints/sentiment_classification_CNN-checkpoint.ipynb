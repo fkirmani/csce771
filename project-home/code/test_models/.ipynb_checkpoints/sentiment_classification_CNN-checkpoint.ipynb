{
 "cells": [
  {
   "cell_type": "code",
   "execution_count": 1,
   "metadata": {},
   "outputs": [
    {
     "name": "stderr",
     "output_type": "stream",
     "text": [
      "Using TensorFlow backend.\n"
     ]
    }
   ],
   "source": [
    "import glob\n",
    "import os\n",
    "import pandas as pd\n",
    "import numpy as np\n",
    "import re\n",
    "import nltk\n",
    "import tensorflow as tf\n",
    "import seaborn as sn\n",
    "import matplotlib.pyplot as plt\n",
    "from nltk.corpus import stopwords\n",
    "\n",
    "from numpy import array\n",
    "from keras.preprocessing.text import one_hot\n",
    "from keras.preprocessing.sequence import pad_sequences\n",
    "from keras.models import Sequential\n",
    "from keras.layers.core import Activation, Dropout, Dense\n",
    "from keras.layers import Flatten\n",
    "from keras.layers import GlobalMaxPooling1D\n",
    "from keras.layers.embeddings import Embedding\n",
    "from sklearn.model_selection import train_test_split\n",
    "from keras.preprocessing.text import Tokenizer\n",
    "from keras.layers import Dense, Dropout, Flatten, Conv1D, MaxPooling1D, LeakyReLU, Reshape\n",
    "from keras.layers.normalization import BatchNormalization\n",
    "from sklearn.metrics import confusion_matrix, classification_report "
   ]
  },
  {
   "cell_type": "code",
   "execution_count": 2,
   "metadata": {},
   "outputs": [],
   "source": [
    "file_list = glob.glob(os.path.join(os.getcwd(), \"./aclImdb_v1/aclImdb/train/pos/\", \"*.txt\"))\n",
    "\n",
    "pos = []\n",
    "\n",
    "for file_path in file_list:\n",
    "    with open(file_path) as f_input:\n",
    "        pos.append(f_input.read())"
   ]
  },
  {
   "cell_type": "code",
   "execution_count": 3,
   "metadata": {},
   "outputs": [
    {
     "name": "stdout",
     "output_type": "stream",
     "text": [
      "INFO: There are 12500 rows and 3 columns in the training set.\n"
     ]
    }
   ],
   "source": [
    "pos_df = pd.DataFrame(pos, columns = [\"reviews\"])\n",
    "pos_df[\"label\"] = 1\n",
    "pos_df[\"data_type\"] = \"train\"\n",
    "\n",
    "nRow, nCol = pos_df.shape\n",
    "print(f'INFO: There are {nRow} rows and {nCol} columns in the training set.')"
   ]
  },
  {
   "cell_type": "code",
   "execution_count": 4,
   "metadata": {},
   "outputs": [],
   "source": [
    "file_list = glob.glob(os.path.join(os.getcwd(), \"./aclImdb_v1/aclImdb/train/neg/\", \"*.txt\"))\n",
    "\n",
    "neg = []\n",
    "\n",
    "for file_path in file_list:\n",
    "    with open(file_path) as f_input:\n",
    "        neg.append(f_input.read())"
   ]
  },
  {
   "cell_type": "code",
   "execution_count": 5,
   "metadata": {},
   "outputs": [
    {
     "name": "stdout",
     "output_type": "stream",
     "text": [
      "INFO: There are 12500 rows and 3 columns in the training set.\n"
     ]
    }
   ],
   "source": [
    "neg_df = pd.DataFrame(neg, columns = [\"reviews\"])\n",
    "neg_df[\"label\"] = 0\n",
    "neg_df[\"data_type\"] = \"train\"\n",
    "\n",
    "nRow, nCol = neg_df.shape\n",
    "print(f'INFO: There are {nRow} rows and {nCol} columns in the training set.')"
   ]
  },
  {
   "cell_type": "code",
   "execution_count": 6,
   "metadata": {},
   "outputs": [
    {
     "name": "stdout",
     "output_type": "stream",
     "text": [
      "INFO: There are 25000 rows and 3 columns in the training set.\n"
     ]
    }
   ],
   "source": [
    "train = pos_df.append(neg_df)\n",
    "\n",
    "nRow, nCol = train.shape\n",
    "print(f'INFO: There are {nRow} rows and {nCol} columns in the training set.')"
   ]
  },
  {
   "cell_type": "code",
   "execution_count": 7,
   "metadata": {},
   "outputs": [
    {
     "name": "stdout",
     "output_type": "stream",
     "text": [
      "<class 'pandas.core.frame.DataFrame'>\n",
      "Int64Index: 25000 entries, 0 to 12499\n",
      "Data columns (total 3 columns):\n",
      " #   Column     Non-Null Count  Dtype \n",
      "---  ------     --------------  ----- \n",
      " 0   reviews    25000 non-null  object\n",
      " 1   label      25000 non-null  int64 \n",
      " 2   data_type  25000 non-null  object\n",
      "dtypes: int64(1), object(2)\n",
      "memory usage: 781.2+ KB\n"
     ]
    }
   ],
   "source": [
    "# Clean of white spaces\n",
    "train = train.applymap(lambda x: x.strip() if isinstance(x, str) else x)\n",
    "# Print statistics\n",
    "train.info()"
   ]
  },
  {
   "cell_type": "code",
   "execution_count": 8,
   "metadata": {},
   "outputs": [
    {
     "data": {
      "text/plain": [
       "1    12500\n",
       "0    12500\n",
       "Name: label, dtype: int64"
      ]
     },
     "execution_count": 8,
     "metadata": {},
     "output_type": "execute_result"
    }
   ],
   "source": [
    "# Distribution of positive and negative labels\n",
    "train[\"label\"].value_counts()"
   ]
  },
  {
   "cell_type": "code",
   "execution_count": 9,
   "metadata": {},
   "outputs": [
    {
     "name": "stdout",
     "output_type": "stream",
     "text": [
      "INFO: There are 25000 rows and 3 columns in the training set.\n"
     ]
    }
   ],
   "source": [
    "# Removing empty rows from csv \n",
    "train.dropna(axis=0,inplace=True)\n",
    "nRow, nCol = train.shape\n",
    "print(f'INFO: There are {nRow} rows and {nCol} columns in the training set.')"
   ]
  },
  {
   "cell_type": "code",
   "execution_count": 10,
   "metadata": {},
   "outputs": [
    {
     "data": {
      "text/plain": [
       "1    12500\n",
       "0    12500\n",
       "Name: label, dtype: int64"
      ]
     },
     "execution_count": 10,
     "metadata": {},
     "output_type": "execute_result"
    }
   ],
   "source": [
    "# Distribution of positive and negative labels\n",
    "train[\"label\"].value_counts()"
   ]
  },
  {
   "cell_type": "code",
   "execution_count": 11,
   "metadata": {},
   "outputs": [
    {
     "data": {
      "text/html": [
       "<div>\n",
       "<style scoped>\n",
       "    .dataframe tbody tr th:only-of-type {\n",
       "        vertical-align: middle;\n",
       "    }\n",
       "\n",
       "    .dataframe tbody tr th {\n",
       "        vertical-align: top;\n",
       "    }\n",
       "\n",
       "    .dataframe thead th {\n",
       "        text-align: right;\n",
       "    }\n",
       "</style>\n",
       "<table border=\"1\" class=\"dataframe\">\n",
       "  <thead>\n",
       "    <tr style=\"text-align: right;\">\n",
       "      <th></th>\n",
       "      <th>reviews</th>\n",
       "      <th>label</th>\n",
       "      <th>data_type</th>\n",
       "    </tr>\n",
       "  </thead>\n",
       "  <tbody>\n",
       "    <tr>\n",
       "      <th>0</th>\n",
       "      <td>This is one of the best films we watched in my...</td>\n",
       "      <td>1</td>\n",
       "      <td>train</td>\n",
       "    </tr>\n",
       "    <tr>\n",
       "      <th>1</th>\n",
       "      <td>Spoiler This movie is about such a concept. Wi...</td>\n",
       "      <td>1</td>\n",
       "      <td>train</td>\n",
       "    </tr>\n",
       "    <tr>\n",
       "      <th>2</th>\n",
       "      <td>Richard Attenborough is a director whose name ...</td>\n",
       "      <td>1</td>\n",
       "      <td>train</td>\n",
       "    </tr>\n",
       "    <tr>\n",
       "      <th>3</th>\n",
       "      <td>Joan Crawford had just begun her \"working girl...</td>\n",
       "      <td>1</td>\n",
       "      <td>train</td>\n",
       "    </tr>\n",
       "    <tr>\n",
       "      <th>4</th>\n",
       "      <td>I have just read the lead comment for this fil...</td>\n",
       "      <td>1</td>\n",
       "      <td>train</td>\n",
       "    </tr>\n",
       "  </tbody>\n",
       "</table>\n",
       "</div>"
      ],
      "text/plain": [
       "                                             reviews  label data_type\n",
       "0  This is one of the best films we watched in my...      1     train\n",
       "1  Spoiler This movie is about such a concept. Wi...      1     train\n",
       "2  Richard Attenborough is a director whose name ...      1     train\n",
       "3  Joan Crawford had just begun her \"working girl...      1     train\n",
       "4  I have just read the lead comment for this fil...      1     train"
      ]
     },
     "execution_count": 11,
     "metadata": {},
     "output_type": "execute_result"
    }
   ],
   "source": [
    "train.head()"
   ]
  },
  {
   "cell_type": "code",
   "execution_count": 12,
   "metadata": {},
   "outputs": [],
   "source": [
    "file_list = glob.glob(os.path.join(os.getcwd(), \"./aclImdb_v1/aclImdb/test/pos/\", \"*.txt\"))\n",
    "\n",
    "pos_test = []\n",
    "\n",
    "for file_path in file_list:\n",
    "    with open(file_path) as f_input:\n",
    "        pos_test.append(f_input.read())"
   ]
  },
  {
   "cell_type": "code",
   "execution_count": 13,
   "metadata": {},
   "outputs": [
    {
     "name": "stdout",
     "output_type": "stream",
     "text": [
      "INFO: There are 12500 rows and 3 columns in the training set.\n"
     ]
    }
   ],
   "source": [
    "pos_test_df = pd.DataFrame(pos_test, columns = [\"reviews\"])\n",
    "pos_test_df[\"label\"] = 1\n",
    "pos_test_df[\"data_type\"] = \"test\"\n",
    "\n",
    "nRow, nCol = pos_test_df.shape\n",
    "print(f'INFO: There are {nRow} rows and {nCol} columns in the training set.')"
   ]
  },
  {
   "cell_type": "code",
   "execution_count": 14,
   "metadata": {},
   "outputs": [],
   "source": [
    "file_list = glob.glob(os.path.join(os.getcwd(), \"./aclImdb_v1/aclImdb/test/neg/\", \"*.txt\"))\n",
    "\n",
    "neg_test = []\n",
    "\n",
    "for file_path in file_list:\n",
    "    with open(file_path) as f_input:\n",
    "        neg_test.append(f_input.read())"
   ]
  },
  {
   "cell_type": "code",
   "execution_count": 15,
   "metadata": {},
   "outputs": [
    {
     "name": "stdout",
     "output_type": "stream",
     "text": [
      "INFO: There are 12500 rows and 3 columns in the training set.\n"
     ]
    }
   ],
   "source": [
    "neg_test_df = pd.DataFrame(neg_test, columns = [\"reviews\"])\n",
    "neg_test_df[\"label\"] = 0\n",
    "neg_test_df[\"data_type\"] = \"test\"\n",
    "\n",
    "nRow, nCol = neg_test_df.shape\n",
    "print(f'INFO: There are {nRow} rows and {nCol} columns in the training set.')"
   ]
  },
  {
   "cell_type": "code",
   "execution_count": 16,
   "metadata": {},
   "outputs": [
    {
     "name": "stdout",
     "output_type": "stream",
     "text": [
      "INFO: There are 25000 rows and 3 columns in the training set.\n"
     ]
    }
   ],
   "source": [
    "test = pos_test_df.append(neg_test_df)\n",
    "\n",
    "nRow, nCol = test.shape\n",
    "print(f'INFO: There are {nRow} rows and {nCol} columns in the training set.')"
   ]
  },
  {
   "cell_type": "code",
   "execution_count": 17,
   "metadata": {},
   "outputs": [
    {
     "name": "stdout",
     "output_type": "stream",
     "text": [
      "<class 'pandas.core.frame.DataFrame'>\n",
      "Int64Index: 25000 entries, 0 to 12499\n",
      "Data columns (total 3 columns):\n",
      " #   Column     Non-Null Count  Dtype \n",
      "---  ------     --------------  ----- \n",
      " 0   reviews    25000 non-null  object\n",
      " 1   label      25000 non-null  int64 \n",
      " 2   data_type  25000 non-null  object\n",
      "dtypes: int64(1), object(2)\n",
      "memory usage: 781.2+ KB\n"
     ]
    }
   ],
   "source": [
    "# Clean of white spaces\n",
    "test = test.applymap(lambda x: x.strip() if isinstance(x, str) else x)\n",
    "# Print statistics\n",
    "test.info()"
   ]
  },
  {
   "cell_type": "code",
   "execution_count": 18,
   "metadata": {},
   "outputs": [
    {
     "data": {
      "text/plain": [
       "1    12500\n",
       "0    12500\n",
       "Name: label, dtype: int64"
      ]
     },
     "execution_count": 18,
     "metadata": {},
     "output_type": "execute_result"
    }
   ],
   "source": [
    "# Distribution of positive and negative labels\n",
    "test[\"label\"].value_counts()"
   ]
  },
  {
   "cell_type": "code",
   "execution_count": 19,
   "metadata": {},
   "outputs": [
    {
     "name": "stdout",
     "output_type": "stream",
     "text": [
      "INFO: There are 25000 rows and 3 columns in the training set.\n"
     ]
    }
   ],
   "source": [
    "# Removing empty rows from csv \n",
    "test.dropna(axis=0,inplace=True)\n",
    "nRow, nCol = test.shape\n",
    "print(f'INFO: There are {nRow} rows and {nCol} columns in the training set.')"
   ]
  },
  {
   "cell_type": "code",
   "execution_count": 20,
   "metadata": {},
   "outputs": [
    {
     "data": {
      "text/plain": [
       "1    12500\n",
       "0    12500\n",
       "Name: label, dtype: int64"
      ]
     },
     "execution_count": 20,
     "metadata": {},
     "output_type": "execute_result"
    }
   ],
   "source": [
    "# Distribution of positive and negative labels\n",
    "test[\"label\"].value_counts()"
   ]
  },
  {
   "cell_type": "code",
   "execution_count": 21,
   "metadata": {},
   "outputs": [
    {
     "data": {
      "text/html": [
       "<div>\n",
       "<style scoped>\n",
       "    .dataframe tbody tr th:only-of-type {\n",
       "        vertical-align: middle;\n",
       "    }\n",
       "\n",
       "    .dataframe tbody tr th {\n",
       "        vertical-align: top;\n",
       "    }\n",
       "\n",
       "    .dataframe thead th {\n",
       "        text-align: right;\n",
       "    }\n",
       "</style>\n",
       "<table border=\"1\" class=\"dataframe\">\n",
       "  <thead>\n",
       "    <tr style=\"text-align: right;\">\n",
       "      <th></th>\n",
       "      <th>reviews</th>\n",
       "      <th>label</th>\n",
       "      <th>data_type</th>\n",
       "    </tr>\n",
       "  </thead>\n",
       "  <tbody>\n",
       "    <tr>\n",
       "      <th>0</th>\n",
       "      <td>This movie is definitely one of the finest of ...</td>\n",
       "      <td>1</td>\n",
       "      <td>test</td>\n",
       "    </tr>\n",
       "    <tr>\n",
       "      <th>1</th>\n",
       "      <td>I recently saw this at the 2007 Palm Springs I...</td>\n",
       "      <td>1</td>\n",
       "      <td>test</td>\n",
       "    </tr>\n",
       "    <tr>\n",
       "      <th>2</th>\n",
       "      <td>This delightful movie tells the story of buds....</td>\n",
       "      <td>1</td>\n",
       "      <td>test</td>\n",
       "    </tr>\n",
       "    <tr>\n",
       "      <th>3</th>\n",
       "      <td>This movie was well done but it also made me f...</td>\n",
       "      <td>1</td>\n",
       "      <td>test</td>\n",
       "    </tr>\n",
       "    <tr>\n",
       "      <th>4</th>\n",
       "      <td>\"The Couch Trip\" is one of those silly comedie...</td>\n",
       "      <td>1</td>\n",
       "      <td>test</td>\n",
       "    </tr>\n",
       "  </tbody>\n",
       "</table>\n",
       "</div>"
      ],
      "text/plain": [
       "                                             reviews  label data_type\n",
       "0  This movie is definitely one of the finest of ...      1      test\n",
       "1  I recently saw this at the 2007 Palm Springs I...      1      test\n",
       "2  This delightful movie tells the story of buds....      1      test\n",
       "3  This movie was well done but it also made me f...      1      test\n",
       "4  \"The Couch Trip\" is one of those silly comedie...      1      test"
      ]
     },
     "execution_count": 21,
     "metadata": {},
     "output_type": "execute_result"
    }
   ],
   "source": [
    "test.head()"
   ]
  },
  {
   "cell_type": "code",
   "execution_count": 22,
   "metadata": {},
   "outputs": [
    {
     "name": "stdout",
     "output_type": "stream",
     "text": [
      "INFO: There are 50000 rows and 3 columns in the training set.\n"
     ]
    }
   ],
   "source": [
    "data = train.append(test)\n",
    "\n",
    "nRow, nCol = data.shape\n",
    "print(f'INFO: There are {nRow} rows and {nCol} columns in the training set.')"
   ]
  },
  {
   "cell_type": "code",
   "execution_count": 23,
   "metadata": {},
   "outputs": [
    {
     "data": {
      "text/plain": [
       "test     25000\n",
       "train    25000\n",
       "Name: data_type, dtype: int64"
      ]
     },
     "execution_count": 23,
     "metadata": {},
     "output_type": "execute_result"
    }
   ],
   "source": [
    "data[\"data_type\"].value_counts()"
   ]
  },
  {
   "cell_type": "code",
   "execution_count": 24,
   "metadata": {},
   "outputs": [
    {
     "data": {
      "text/html": [
       "<div>\n",
       "<style scoped>\n",
       "    .dataframe tbody tr th:only-of-type {\n",
       "        vertical-align: middle;\n",
       "    }\n",
       "\n",
       "    .dataframe tbody tr th {\n",
       "        vertical-align: top;\n",
       "    }\n",
       "\n",
       "    .dataframe thead th {\n",
       "        text-align: right;\n",
       "    }\n",
       "</style>\n",
       "<table border=\"1\" class=\"dataframe\">\n",
       "  <thead>\n",
       "    <tr style=\"text-align: right;\">\n",
       "      <th></th>\n",
       "      <th>reviews</th>\n",
       "      <th>label</th>\n",
       "      <th>data_type</th>\n",
       "    </tr>\n",
       "  </thead>\n",
       "  <tbody>\n",
       "    <tr>\n",
       "      <th>0</th>\n",
       "      <td>This is one of the best films we watched in my...</td>\n",
       "      <td>1</td>\n",
       "      <td>train</td>\n",
       "    </tr>\n",
       "    <tr>\n",
       "      <th>1</th>\n",
       "      <td>Spoiler This movie is about such a concept. Wi...</td>\n",
       "      <td>1</td>\n",
       "      <td>train</td>\n",
       "    </tr>\n",
       "    <tr>\n",
       "      <th>2</th>\n",
       "      <td>Richard Attenborough is a director whose name ...</td>\n",
       "      <td>1</td>\n",
       "      <td>train</td>\n",
       "    </tr>\n",
       "    <tr>\n",
       "      <th>3</th>\n",
       "      <td>Joan Crawford had just begun her \"working girl...</td>\n",
       "      <td>1</td>\n",
       "      <td>train</td>\n",
       "    </tr>\n",
       "    <tr>\n",
       "      <th>4</th>\n",
       "      <td>I have just read the lead comment for this fil...</td>\n",
       "      <td>1</td>\n",
       "      <td>train</td>\n",
       "    </tr>\n",
       "  </tbody>\n",
       "</table>\n",
       "</div>"
      ],
      "text/plain": [
       "                                             reviews  label data_type\n",
       "0  This is one of the best films we watched in my...      1     train\n",
       "1  Spoiler This movie is about such a concept. Wi...      1     train\n",
       "2  Richard Attenborough is a director whose name ...      1     train\n",
       "3  Joan Crawford had just begun her \"working girl...      1     train\n",
       "4  I have just read the lead comment for this fil...      1     train"
      ]
     },
     "execution_count": 24,
     "metadata": {},
     "output_type": "execute_result"
    }
   ],
   "source": [
    "data.head()"
   ]
  },
  {
   "cell_type": "code",
   "execution_count": 25,
   "metadata": {},
   "outputs": [],
   "source": [
    "def preprocess_text(rev):\n",
    "    # Removing html tags\n",
    "    sentence = remove_tags(rev)\n",
    "\n",
    "    # Remove punctuations and numbers\n",
    "    sentence = re.sub('[^a-zA-Z]', ' ', sentence)\n",
    "\n",
    "    # Single character removal\n",
    "    sentence = re.sub(r\"\\s+[a-zA-Z]\\s+\", ' ', sentence)\n",
    "\n",
    "    # Removing multiple spaces\n",
    "    sentence = re.sub(r'\\s+', ' ', sentence)\n",
    "\n",
    "    return sentence"
   ]
  },
  {
   "cell_type": "code",
   "execution_count": 26,
   "metadata": {},
   "outputs": [],
   "source": [
    "TAG_RE = re.compile(r'<[^>]+>')\n",
    "\n",
    "def remove_tags(text):\n",
    "    return TAG_RE.sub('', text)"
   ]
  },
  {
   "cell_type": "code",
   "execution_count": 27,
   "metadata": {},
   "outputs": [],
   "source": [
    "X = []\n",
    "sentences = list(data['reviews'])\n",
    "for rev in sentences:\n",
    "    X.append(preprocess_text(rev))"
   ]
  },
  {
   "cell_type": "code",
   "execution_count": 28,
   "metadata": {},
   "outputs": [],
   "source": [
    "X_train, X_test, y_train, y_test = train_test_split(X, data['label'], test_size=0.20, random_state=80)"
   ]
  },
  {
   "cell_type": "code",
   "execution_count": 29,
   "metadata": {},
   "outputs": [],
   "source": [
    "tokenizer = Tokenizer(num_words=5000)\n",
    "tokenizer.fit_on_texts(X_train)\n",
    "\n",
    "X_train = tokenizer.texts_to_sequences(X_train)\n",
    "X_test = tokenizer.texts_to_sequences(X_test)"
   ]
  },
  {
   "cell_type": "code",
   "execution_count": 30,
   "metadata": {},
   "outputs": [],
   "source": [
    "# Adding 1 because of reserved 0 index\n",
    "vocab_size = len(tokenizer.word_index) + 1\n",
    "\n",
    "maxlen = 200\n",
    "\n",
    "X_train = pad_sequences(X_train, padding='post', maxlen=maxlen)\n",
    "X_test = pad_sequences(X_test, padding='post', maxlen=maxlen)"
   ]
  },
  {
   "cell_type": "code",
   "execution_count": 31,
   "metadata": {},
   "outputs": [],
   "source": [
    "from numpy import array\n",
    "from numpy import asarray\n",
    "from numpy import zeros\n",
    "\n",
    "embeddings_dictionary = dict()\n",
    "glove_file = open('./glove.840B.300d.txt', 'r', errors = 'ignore', encoding='utf-8')\n",
    "\n",
    "for line in glove_file:\n",
    "    records = line.split(' ')\n",
    "    word = records[0]\n",
    "    vector_dimensions = asarray(records[1:], dtype='float32')\n",
    "    embeddings_dictionary [word] = vector_dimensions\n",
    "glove_file.close()"
   ]
  },
  {
   "cell_type": "code",
   "execution_count": 32,
   "metadata": {},
   "outputs": [],
   "source": [
    "embedding_matrix = zeros((vocab_size, 300))\n",
    "for word, index in tokenizer.word_index.items():\n",
    "    embedding_vector = embeddings_dictionary.get(word)\n",
    "    if embedding_vector is not None:\n",
    "        embedding_matrix[index] = embedding_vector"
   ]
  },
  {
   "cell_type": "code",
   "execution_count": 33,
   "metadata": {},
   "outputs": [],
   "source": [
    "opt = tf.keras.optimizers.RMSprop(learning_rate=0.0001)"
   ]
  },
  {
   "cell_type": "code",
   "execution_count": 45,
   "metadata": {},
   "outputs": [],
   "source": [
    "model = Sequential()\n",
    "\n",
    "embedding_layer = Embedding(vocab_size, 300, weights=[embedding_matrix], input_length=maxlen , trainable=False)\n",
    "model.add(embedding_layer)\n",
    "\n",
    "# The first convolutional layer of the model with 16 filters and kernel of 3x3\n",
    "model.add(Conv1D(filters=16, kernel_size=3, activation=\"tanh\"))\n",
    "model.add(MaxPooling1D(pool_size=2))\n",
    "model.add(LeakyReLU())\n",
    "model.add(Dropout(0.50))\n",
    "# The second convolutional layer of the model with 32 filters and kernel of 3x3\n",
    "model.add(Conv1D(filters=32, kernel_size=3, activation='relu'))\n",
    "model.add(MaxPooling1D(pool_size=2))\n",
    "model.add(LeakyReLU())\n",
    "model.add(Dropout(0.50))\n",
    "# # The third convolutional layer\n",
    "# model.add(Conv1D(filters=256, kernel_size=3, activation=\"relu\"))\n",
    "# model.add(MaxPooling1D(pool_size=2))\n",
    "# model.add(LeakyReLU())\n",
    "# model.add(Dropout(0.70))\n",
    "# # The fourth convolutional layer\n",
    "# model.add(Conv2D(filters=256, kernel_size=(3, 3), activation=\"tanh\"))\n",
    "# model.add(MaxPooling2D(pool_size=(2, 2)))\n",
    "# model.add(Dropout(0.30))\n",
    "# # The fifth convolutional layer\n",
    "# model.add(Conv2D(filters=256, kernel_size=(3, 3), activation=\"tanh\", padding='same'))\n",
    "# model.add(MaxPooling2D(pool_size=(2, 2)))\n",
    "# model.add(Dropout(0.30))\n",
    "# for layer in model.layers:\n",
    "#     print(layer.output_shape)\n",
    "# model.add(Reshape((36,256), input_shape=(None, 6, 6, 256)))\n",
    "# # The first lstm layer\n",
    "# model.add(LSTM(64, activation='tanh', input_shape=(36,256), return_sequences=True))\n",
    "# model.add(LeakyReLU())\n",
    "# # model.add(MaxPooling2D(pool_size=(2, 2)))\n",
    "# model.add(Dropout(0.50))\n",
    "# # # The second lstm layer\n",
    "# model.add(LSTM(64, activation='tanh', return_sequences=True))\n",
    "# model.add(LeakyReLU())\n",
    "# # model.add(MaxPooling2D(pool_size=(2, 2)))\n",
    "# model.add(Dropout(0.50))\n",
    "# # # The third lstm layer\n",
    "# model.add(LSTM(64, activation='tanh'))\n",
    "# model.add(LeakyReLU())\n",
    "# model.add(Dropout(0.50))\n",
    "# model.add(Reshape((1,23,128), input_shape=(None, 23, 256)))\n",
    "model.add(Flatten())\n",
    "model.add(Dense(128, activation='tanh'))\n",
    "model.add(Dropout(0.75))\n",
    "model.add(BatchNormalization())\n",
    "model.add(LeakyReLU())\n",
    "model.add(Dense(32, activation='tanh'))\n",
    "model.add(Dropout(0.75))\n",
    "model.add(BatchNormalization())\n",
    "model.add(LeakyReLU())\n",
    "model.add(Dense(1, activation='sigmoid'))\n",
    "model.compile(optimizer=opt, loss='binary_crossentropy', \n",
    "              metrics=[tf.keras.metrics.AUC(num_thresholds=1200, curve='ROC', summation_method='interpolation'), \n",
    "                       'accuracy'])"
   ]
  },
  {
   "cell_type": "code",
   "execution_count": 46,
   "metadata": {},
   "outputs": [
    {
     "name": "stdout",
     "output_type": "stream",
     "text": [
      "Model: \"sequential_3\"\n",
      "_________________________________________________________________\n",
      "Layer (type)                 Output Shape              Param #   \n",
      "=================================================================\n",
      "embedding_3 (Embedding)      (None, 200, 300)          27748800  \n",
      "_________________________________________________________________\n",
      "conv1d_4 (Conv1D)            (None, 198, 16)           14416     \n",
      "_________________________________________________________________\n",
      "max_pooling1d_4 (MaxPooling1 (None, 99, 16)            0         \n",
      "_________________________________________________________________\n",
      "leaky_re_lu_8 (LeakyReLU)    (None, 99, 16)            0         \n",
      "_________________________________________________________________\n",
      "dropout_8 (Dropout)          (None, 99, 16)            0         \n",
      "_________________________________________________________________\n",
      "conv1d_5 (Conv1D)            (None, 97, 32)            1568      \n",
      "_________________________________________________________________\n",
      "max_pooling1d_5 (MaxPooling1 (None, 48, 32)            0         \n",
      "_________________________________________________________________\n",
      "leaky_re_lu_9 (LeakyReLU)    (None, 48, 32)            0         \n",
      "_________________________________________________________________\n",
      "dropout_9 (Dropout)          (None, 48, 32)            0         \n",
      "_________________________________________________________________\n",
      "flatten_3 (Flatten)          (None, 1536)              0         \n",
      "_________________________________________________________________\n",
      "dense_7 (Dense)              (None, 128)               196736    \n",
      "_________________________________________________________________\n",
      "dropout_10 (Dropout)         (None, 128)               0         \n",
      "_________________________________________________________________\n",
      "batch_normalization_5 (Batch (None, 128)               512       \n",
      "_________________________________________________________________\n",
      "leaky_re_lu_10 (LeakyReLU)   (None, 128)               0         \n",
      "_________________________________________________________________\n",
      "dense_8 (Dense)              (None, 32)                4128      \n",
      "_________________________________________________________________\n",
      "dropout_11 (Dropout)         (None, 32)                0         \n",
      "_________________________________________________________________\n",
      "batch_normalization_6 (Batch (None, 32)                128       \n",
      "_________________________________________________________________\n",
      "leaky_re_lu_11 (LeakyReLU)   (None, 32)                0         \n",
      "_________________________________________________________________\n",
      "dense_9 (Dense)              (None, 1)                 33        \n",
      "=================================================================\n",
      "Total params: 27,966,321\n",
      "Trainable params: 217,201\n",
      "Non-trainable params: 27,749,120\n",
      "_________________________________________________________________\n",
      "None\n"
     ]
    }
   ],
   "source": [
    "print(model.summary())"
   ]
  },
  {
   "cell_type": "code",
   "execution_count": null,
   "metadata": {},
   "outputs": [
    {
     "name": "stdout",
     "output_type": "stream",
     "text": [
      "Train on 32000 samples, validate on 8000 samples\n",
      "Epoch 1/150\n",
      "32000/32000 [==============================] - 8s 243us/step - loss: 0.8087 - auc_2: 0.5023 - accuracy: 0.5019 - val_loss: 0.6932 - val_auc_2: 0.5040 - val_accuracy: 0.5101\n",
      "Epoch 2/150\n",
      "32000/32000 [==============================] - 6s 187us/step - loss: 0.7763 - auc_2: 0.5042 - accuracy: 0.5006 - val_loss: 0.6897 - val_auc_2: 0.5038 - val_accuracy: 0.5366\n",
      "Epoch 3/150\n",
      "32000/32000 [==============================] - 6s 188us/step - loss: 0.7501 - auc_2: 0.5054 - accuracy: 0.5069 - val_loss: 0.6870 - val_auc_2: 0.5062 - val_accuracy: 0.5601\n",
      "Epoch 4/150\n",
      "32000/32000 [==============================] - 6s 187us/step - loss: 0.7381 - auc_2: 0.5071 - accuracy: 0.5073 - val_loss: 0.6821 - val_auc_2: 0.5082 - val_accuracy: 0.5648\n",
      "Epoch 5/150\n",
      "32000/32000 [==============================] - 6s 188us/step - loss: 0.7281 - auc_2: 0.5093 - accuracy: 0.5080 - val_loss: 0.6675 - val_auc_2: 0.5118 - val_accuracy: 0.6467\n",
      "Epoch 6/150\n",
      "32000/32000 [==============================] - 6s 189us/step - loss: 0.7139 - auc_2: 0.5147 - accuracy: 0.5229 - val_loss: 0.6425 - val_auc_2: 0.5188 - val_accuracy: 0.6865\n",
      "Epoch 7/150\n",
      "32000/32000 [==============================] - 6s 188us/step - loss: 0.6943 - auc_2: 0.5237 - accuracy: 0.5511 - val_loss: 0.6007 - val_auc_2: 0.5309 - val_accuracy: 0.7138\n",
      "Epoch 8/150\n",
      "32000/32000 [==============================] - 6s 188us/step - loss: 0.6570 - auc_2: 0.5399 - accuracy: 0.6103 - val_loss: 0.5437 - val_auc_2: 0.5511 - val_accuracy: 0.7531\n",
      "Epoch 9/150\n",
      "32000/32000 [==============================] - 6s 193us/step - loss: 0.6054 - auc_2: 0.5640 - accuracy: 0.6775 - val_loss: 0.4809 - val_auc_2: 0.5781 - val_accuracy: 0.7897\n",
      "Epoch 10/150\n",
      "32000/32000 [==============================] - 6s 194us/step - loss: 0.5507 - auc_2: 0.5931 - accuracy: 0.7346 - val_loss: 0.4320 - val_auc_2: 0.6084 - val_accuracy: 0.8133\n",
      "Epoch 11/150\n",
      "32000/32000 [==============================] - 6s 189us/step - loss: 0.5093 - auc_2: 0.6234 - accuracy: 0.7704 - val_loss: 0.4006 - val_auc_2: 0.6378 - val_accuracy: 0.8267\n",
      "Epoch 12/150\n",
      "32000/32000 [==============================] - 6s 188us/step - loss: 0.4766 - auc_2: 0.6513 - accuracy: 0.7920 - val_loss: 0.3887 - val_auc_2: 0.6643 - val_accuracy: 0.8313\n",
      "Epoch 13/150\n",
      "32000/32000 [==============================] - 6s 187us/step - loss: 0.4555 - auc_2: 0.6761 - accuracy: 0.8052 - val_loss: 0.3670 - val_auc_2: 0.6874 - val_accuracy: 0.8432\n",
      "Epoch 14/150\n",
      "32000/32000 [==============================] - 6s 189us/step - loss: 0.4410 - auc_2: 0.6977 - accuracy: 0.8120 - val_loss: 0.3583 - val_auc_2: 0.7074 - val_accuracy: 0.8464\n",
      "Epoch 15/150\n",
      "32000/32000 [==============================] - 6s 191us/step - loss: 0.4277 - auc_2: 0.7163 - accuracy: 0.8212 - val_loss: 0.3467 - val_auc_2: 0.7250 - val_accuracy: 0.8546\n",
      "Epoch 16/150\n",
      "32000/32000 [==============================] - 6s 191us/step - loss: 0.4206 - auc_2: 0.7328 - accuracy: 0.8254 - val_loss: 0.3409 - val_auc_2: 0.7403 - val_accuracy: 0.8580\n",
      "Epoch 17/150\n",
      "32000/32000 [==============================] - 6s 189us/step - loss: 0.4126 - auc_2: 0.7471 - accuracy: 0.8296 - val_loss: 0.3320 - val_auc_2: 0.7537 - val_accuracy: 0.8627\n",
      "Epoch 18/150\n",
      "32000/32000 [==============================] - 6s 190us/step - loss: 0.4060 - auc_2: 0.7597 - accuracy: 0.8332 - val_loss: 0.3280 - val_auc_2: 0.7655 - val_accuracy: 0.8660\n",
      "Epoch 19/150\n",
      "32000/32000 [==============================] - 6s 193us/step - loss: 0.3977 - auc_2: 0.7708 - accuracy: 0.8388 - val_loss: 0.3284 - val_auc_2: 0.7761 - val_accuracy: 0.8660\n",
      "Epoch 20/150\n",
      "32000/32000 [==============================] - 6s 191us/step - loss: 0.3928 - auc_2: 0.7808 - accuracy: 0.8390 - val_loss: 0.3187 - val_auc_2: 0.7855 - val_accuracy: 0.8712\n",
      "Epoch 21/150\n",
      "32000/32000 [==============================] - 6s 192us/step - loss: 0.3870 - auc_2: 0.7898 - accuracy: 0.8438 - val_loss: 0.3180 - val_auc_2: 0.7940 - val_accuracy: 0.8701\n",
      "Epoch 22/150\n",
      "32000/32000 [==============================] - 6s 191us/step - loss: 0.3832 - auc_2: 0.7979 - accuracy: 0.8458 - val_loss: 0.3125 - val_auc_2: 0.8016 - val_accuracy: 0.8752\n",
      "Epoch 23/150\n",
      "32000/32000 [==============================] - 6s 192us/step - loss: 0.3804 - auc_2: 0.8051 - accuracy: 0.8468 - val_loss: 0.3086 - val_auc_2: 0.8085 - val_accuracy: 0.8765\n",
      "Epoch 24/150\n",
      "32000/32000 [==============================] - 6s 190us/step - loss: 0.3784 - auc_2: 0.8117 - accuracy: 0.8473 - val_loss: 0.3088 - val_auc_2: 0.8148 - val_accuracy: 0.8773\n",
      "Epoch 25/150\n",
      "32000/32000 [==============================] - 6s 191us/step - loss: 0.3721 - auc_2: 0.8177 - accuracy: 0.8503 - val_loss: 0.3107 - val_auc_2: 0.8205 - val_accuracy: 0.8731\n",
      "Epoch 26/150\n",
      "32000/32000 [==============================] - 6s 191us/step - loss: 0.3711 - auc_2: 0.8231 - accuracy: 0.8517 - val_loss: 0.3023 - val_auc_2: 0.8258 - val_accuracy: 0.8820\n",
      "Epoch 27/150\n",
      "32000/32000 [==============================] - 6s 194us/step - loss: 0.3666 - auc_2: 0.8282 - accuracy: 0.8531 - val_loss: 0.3007 - val_auc_2: 0.8306 - val_accuracy: 0.8817\n",
      "Epoch 28/150\n",
      "32000/32000 [==============================] - 6s 192us/step - loss: 0.3677 - auc_2: 0.8329 - accuracy: 0.8520 - val_loss: 0.3083 - val_auc_2: 0.8350 - val_accuracy: 0.8737\n",
      "Epoch 29/150\n",
      "32000/32000 [==============================] - 6s 191us/step - loss: 0.3647 - auc_2: 0.8371 - accuracy: 0.8547 - val_loss: 0.3073 - val_auc_2: 0.8391 - val_accuracy: 0.8740\n",
      "Epoch 30/150\n",
      "32000/32000 [==============================] - 6s 191us/step - loss: 0.3605 - auc_2: 0.8410 - accuracy: 0.8566 - val_loss: 0.2980 - val_auc_2: 0.8429 - val_accuracy: 0.8816\n",
      "Epoch 31/150\n",
      "32000/32000 [==============================] - 6s 191us/step - loss: 0.3584 - auc_2: 0.8447 - accuracy: 0.8591 - val_loss: 0.2957 - val_auc_2: 0.8465 - val_accuracy: 0.8827\n",
      "Epoch 32/150\n",
      "32000/32000 [==============================] - 6s 190us/step - loss: 0.3545 - auc_2: 0.8482 - accuracy: 0.8619 - val_loss: 0.3001 - val_auc_2: 0.8499 - val_accuracy: 0.8806\n",
      "Epoch 33/150\n",
      "32000/32000 [==============================] - 6s 190us/step - loss: 0.3580 - auc_2: 0.8514 - accuracy: 0.8596 - val_loss: 0.2984 - val_auc_2: 0.8529 - val_accuracy: 0.8817\n",
      "Epoch 34/150\n",
      "32000/32000 [==============================] - 6s 190us/step - loss: 0.3522 - auc_2: 0.8544 - accuracy: 0.8607 - val_loss: 0.2929 - val_auc_2: 0.8558 - val_accuracy: 0.8815\n",
      "Epoch 35/150\n",
      "32000/32000 [==============================] - 6s 191us/step - loss: 0.3490 - auc_2: 0.8573 - accuracy: 0.8640 - val_loss: 0.2913 - val_auc_2: 0.8586 - val_accuracy: 0.8829\n",
      "Epoch 36/150\n",
      "32000/32000 [==============================] - 6s 191us/step - loss: 0.3486 - auc_2: 0.8600 - accuracy: 0.8620 - val_loss: 0.2912 - val_auc_2: 0.8612 - val_accuracy: 0.8839\n",
      "Epoch 37/150\n",
      "32000/32000 [==============================] - 6s 191us/step - loss: 0.3538 - auc_2: 0.8624 - accuracy: 0.8608 - val_loss: 0.2900 - val_auc_2: 0.8636 - val_accuracy: 0.8831\n",
      "Epoch 38/150\n",
      "32000/32000 [==============================] - 6s 190us/step - loss: 0.3437 - auc_2: 0.8647 - accuracy: 0.8635 - val_loss: 0.3043 - val_auc_2: 0.8658 - val_accuracy: 0.8746\n",
      "Epoch 39/150\n",
      "32000/32000 [==============================] - 6s 190us/step - loss: 0.3423 - auc_2: 0.8669 - accuracy: 0.8673 - val_loss: 0.3143 - val_auc_2: 0.8680 - val_accuracy: 0.8719\n",
      "Epoch 40/150\n",
      "32000/32000 [==============================] - 6s 191us/step - loss: 0.3437 - auc_2: 0.8690 - accuracy: 0.8664 - val_loss: 0.2911 - val_auc_2: 0.8700 - val_accuracy: 0.8834\n",
      "Epoch 41/150\n",
      "32000/32000 [==============================] - 6s 189us/step - loss: 0.3418 - auc_2: 0.8710 - accuracy: 0.8683 - val_loss: 0.2906 - val_auc_2: 0.8720 - val_accuracy: 0.8841\n",
      "Epoch 42/150\n",
      "32000/32000 [==============================] - 6s 190us/step - loss: 0.3390 - auc_2: 0.8729 - accuracy: 0.8699 - val_loss: 0.2911 - val_auc_2: 0.8739 - val_accuracy: 0.8821\n",
      "Epoch 43/150\n",
      "32000/32000 [==============================] - 6s 190us/step - loss: 0.3376 - auc_2: 0.8748 - accuracy: 0.8692 - val_loss: 0.2856 - val_auc_2: 0.8757 - val_accuracy: 0.8849\n",
      "Epoch 44/150\n",
      "32000/32000 [==============================] - 6s 195us/step - loss: 0.3368 - auc_2: 0.8765 - accuracy: 0.8710 - val_loss: 0.2861 - val_auc_2: 0.8774 - val_accuracy: 0.8846\n",
      "Epoch 45/150\n",
      "32000/32000 [==============================] - 6s 193us/step - loss: 0.3359 - auc_2: 0.8782 - accuracy: 0.8688 - val_loss: 0.2847 - val_auc_2: 0.8790 - val_accuracy: 0.8834\n",
      "Epoch 46/150\n",
      "32000/32000 [==============================] - 6s 190us/step - loss: 0.3355 - auc_2: 0.8798 - accuracy: 0.8692 - val_loss: 0.2855 - val_auc_2: 0.8805 - val_accuracy: 0.8817\n",
      "Epoch 47/150\n",
      "32000/32000 [==============================] - 6s 191us/step - loss: 0.3309 - auc_2: 0.8813 - accuracy: 0.8728 - val_loss: 0.2840 - val_auc_2: 0.8820 - val_accuracy: 0.8864\n",
      "Epoch 48/150\n",
      "32000/32000 [==============================] - 6s 190us/step - loss: 0.3336 - auc_2: 0.8828 - accuracy: 0.8712 - val_loss: 0.2896 - val_auc_2: 0.8834 - val_accuracy: 0.8826\n",
      "Epoch 49/150\n",
      "32000/32000 [==============================] - 6s 189us/step - loss: 0.3324 - auc_2: 0.8841 - accuracy: 0.8698 - val_loss: 0.2821 - val_auc_2: 0.8848 - val_accuracy: 0.8867\n",
      "Epoch 50/150\n",
      "32000/32000 [==============================] - 6s 190us/step - loss: 0.3304 - auc_2: 0.8854 - accuracy: 0.8712 - val_loss: 0.2834 - val_auc_2: 0.8861 - val_accuracy: 0.8870\n",
      "Epoch 51/150\n",
      "32000/32000 [==============================] - 6s 187us/step - loss: 0.3335 - auc_2: 0.8867 - accuracy: 0.8697 - val_loss: 0.2873 - val_auc_2: 0.8873 - val_accuracy: 0.8845\n",
      "Epoch 52/150\n",
      "32000/32000 [==============================] - 6s 188us/step - loss: 0.3320 - auc_2: 0.8879 - accuracy: 0.8733 - val_loss: 0.2843 - val_auc_2: 0.8885 - val_accuracy: 0.8854\n",
      "Epoch 53/150\n",
      "32000/32000 [==============================] - 6s 187us/step - loss: 0.3273 - auc_2: 0.8890 - accuracy: 0.8754 - val_loss: 0.2805 - val_auc_2: 0.8896 - val_accuracy: 0.8876\n",
      "Epoch 54/150\n",
      "32000/32000 [==============================] - 6s 185us/step - loss: 0.3299 - auc_2: 0.8902 - accuracy: 0.8742 - val_loss: 0.2821 - val_auc_2: 0.8907 - val_accuracy: 0.8875\n",
      "Epoch 55/150\n",
      "32000/32000 [==============================] - 6s 185us/step - loss: 0.3283 - auc_2: 0.8913 - accuracy: 0.8746 - val_loss: 0.2953 - val_auc_2: 0.8918 - val_accuracy: 0.8799\n",
      "Epoch 56/150\n",
      "32000/32000 [==============================] - 6s 188us/step - loss: 0.3277 - auc_2: 0.8922 - accuracy: 0.8756 - val_loss: 0.2808 - val_auc_2: 0.8928 - val_accuracy: 0.8873\n",
      "Epoch 57/150\n",
      "32000/32000 [==============================] - 6s 190us/step - loss: 0.3230 - auc_2: 0.8933 - accuracy: 0.8755 - val_loss: 0.2777 - val_auc_2: 0.8938 - val_accuracy: 0.8879\n",
      "Epoch 58/150\n",
      "32000/32000 [==============================] - 6s 188us/step - loss: 0.3260 - auc_2: 0.8942 - accuracy: 0.8748 - val_loss: 0.2787 - val_auc_2: 0.8947 - val_accuracy: 0.8896\n",
      "Epoch 59/150\n",
      "32000/32000 [==============================] - 6s 187us/step - loss: 0.3241 - auc_2: 0.8952 - accuracy: 0.8763 - val_loss: 0.2832 - val_auc_2: 0.8956 - val_accuracy: 0.8859\n",
      "Epoch 60/150\n",
      "32000/32000 [==============================] - 6s 191us/step - loss: 0.3235 - auc_2: 0.8961 - accuracy: 0.8783 - val_loss: 0.2832 - val_auc_2: 0.8965 - val_accuracy: 0.8849\n",
      "Epoch 61/150\n",
      "32000/32000 [==============================] - 6s 186us/step - loss: 0.3231 - auc_2: 0.8970 - accuracy: 0.8763 - val_loss: 0.2800 - val_auc_2: 0.8974 - val_accuracy: 0.8873\n",
      "Epoch 62/150\n",
      "32000/32000 [==============================] - 6s 187us/step - loss: 0.3227 - auc_2: 0.8978 - accuracy: 0.8772 - val_loss: 0.2764 - val_auc_2: 0.8982 - val_accuracy: 0.8886\n",
      "Epoch 63/150\n",
      "32000/32000 [==============================] - 6s 185us/step - loss: 0.3210 - auc_2: 0.8986 - accuracy: 0.8775 - val_loss: 0.2766 - val_auc_2: 0.8990 - val_accuracy: 0.8871\n",
      "Epoch 64/150\n",
      "32000/32000 [==============================] - 6s 183us/step - loss: 0.3165 - auc_2: 0.8994 - accuracy: 0.8804 - val_loss: 0.2824 - val_auc_2: 0.8998 - val_accuracy: 0.8857\n",
      "Epoch 65/150\n",
      "32000/32000 [==============================] - 6s 182us/step - loss: 0.3204 - auc_2: 0.9002 - accuracy: 0.8792 - val_loss: 0.2758 - val_auc_2: 0.9006 - val_accuracy: 0.8890\n",
      "Epoch 66/150\n",
      "32000/32000 [==============================] - 6s 185us/step - loss: 0.3163 - auc_2: 0.9010 - accuracy: 0.8801 - val_loss: 0.2764 - val_auc_2: 0.9014 - val_accuracy: 0.8884\n",
      "Epoch 67/150\n",
      "32000/32000 [==============================] - 6s 184us/step - loss: 0.3190 - auc_2: 0.9017 - accuracy: 0.8785 - val_loss: 0.2830 - val_auc_2: 0.9021 - val_accuracy: 0.8859\n",
      "Epoch 68/150\n",
      "32000/32000 [==============================] - 6s 184us/step - loss: 0.3156 - auc_2: 0.9024 - accuracy: 0.8808 - val_loss: 0.2738 - val_auc_2: 0.9028 - val_accuracy: 0.8892\n",
      "Epoch 69/150\n",
      "32000/32000 [==============================] - 6s 185us/step - loss: 0.3229 - auc_2: 0.9031 - accuracy: 0.8781 - val_loss: 0.2790 - val_auc_2: 0.9034 - val_accuracy: 0.8885\n",
      "Epoch 70/150\n",
      "32000/32000 [==============================] - 6s 185us/step - loss: 0.3159 - auc_2: 0.9038 - accuracy: 0.8817 - val_loss: 0.2819 - val_auc_2: 0.9041 - val_accuracy: 0.8873\n",
      "Epoch 71/150\n",
      " 8960/32000 [=======>......................] - ETA: 3s - loss: 0.3099 - auc_2: 0.9042 - accuracy: 0.8834"
     ]
    }
   ],
   "source": [
    "history = model.fit(X_train, y_train, batch_size=128, epochs=150, verbose=1, validation_split=0.2)"
   ]
  },
  {
   "cell_type": "code",
   "execution_count": 55,
   "metadata": {},
   "outputs": [
    {
     "data": {
      "image/png": "[encoded data removed]",
      "text/plain": [
       "<Figure size 432x288 with 1 Axes>"
      ]
     },
     "metadata": {},
     "output_type": "display_data"
    }
   ],
   "source": [
    "# Plot training & validation accuracy values\n",
    "plt.plot(history.history['accuracy'])\n",
    "plt.plot(history.history['val_accuracy'])\n",
    "plt.title('Model accuracy')\n",
    "plt.ylabel('Accuracy')\n",
    "plt.xlabel('Epoch')\n",
    "plt.legend(['Train', 'Test'], loc='upper left')\n",
    "plt.show()"
   ]
  },
  {
   "cell_type": "code",
   "execution_count": 56,
   "metadata": {},
   "outputs": [
    {
     "data": {
      "image/png": "[encoded data removed]",
      "text/plain": [
       "<Figure size 432x288 with 1 Axes>"
      ]
     },
     "metadata": {},
     "output_type": "display_data"
    }
   ],
   "source": [
    "# Plot training & validation loss values\n",
    "plt.plot(history.history['loss'])\n",
    "plt.plot(history.history['val_loss'])\n",
    "plt.title('Model loss')\n",
    "plt.ylabel('Loss')\n",
    "plt.xlabel('Epoch')\n",
    "plt.legend(['Train', 'Test'], loc='upper left')\n",
    "plt.show()"
   ]
  },
  {
   "cell_type": "code",
   "execution_count": 57,
   "metadata": {},
   "outputs": [
    {
     "name": "stdout",
     "output_type": "stream",
     "text": [
      "\n",
      "# Evaluate on test data\n",
      "10000/10000 [==============================] - 1s 61us/step\n",
      "test loss, test acc: [0.2872333358764648, 0.9292747378349304, 0.8855000138282776]\n",
      "\n",
      "# Generate predictions for 3 samples\n",
      "predictions shape: (3, 1)\n"
     ]
    }
   ],
   "source": [
    "print('\\n# Evaluate on test data')\n",
    "results = model.evaluate(X_test, y_test, batch_size=128)\n",
    "print('test loss, test acc:', results)\n",
    "\n",
    "# Generate predictions (probabilities -- the output of the last layer)\n",
    "# on new data using `predict`\n",
    "print('\\n# Generate predictions for 3 samples')\n",
    "predictions = model.predict(X_test[:3])\n",
    "print('predictions shape:', predictions.shape)"
   ]
  },
  {
   "cell_type": "code",
   "execution_count": 58,
   "metadata": {},
   "outputs": [
    {
     "name": "stdout",
     "output_type": "stream",
     "text": [
      "10000/10000 [==============================] - 0s 45us/step\n"
     ]
    }
   ],
   "source": [
    "model_pred = model.predict(X_test, batch_size=128, verbose=1)\n",
    "# model_predicted = np.argmax(model_pred, axis=0)"
   ]
  },
  {
   "cell_type": "code",
   "execution_count": 59,
   "metadata": {},
   "outputs": [
    {
     "data": {
      "text/plain": [
       "array([[4518,  545],\n",
       "       [ 600, 4337]])"
      ]
     },
     "execution_count": 59,
     "metadata": {},
     "output_type": "execute_result"
    }
   ],
   "source": [
    "model_cm = confusion_matrix(y_test, model_pred.round()) \n",
    "model_cm"
   ]
  },
  {
   "cell_type": "code",
   "execution_count": 60,
   "metadata": {},
   "outputs": [
    {
     "data": {
      "image/png": "[encoded data removed]",
      "text/plain": [
       "<Figure size 576x288 with 2 Axes>"
      ]
     },
     "metadata": {},
     "output_type": "display_data"
    }
   ],
   "source": [
    "model_df_cm = pd.DataFrame(model_cm, range(2), range(2)) \n",
    "plt.figure(figsize = (8, 4)) \n",
    "plt.title('Confusion Matrix')\n",
    "sn.set(font_scale=1.4) #for label size \n",
    "sn.heatmap(model_df_cm, annot=True, annot_kws={\"size\": 12}, fmt=\"d\") # font size \n",
    "plt.show()"
   ]
  },
  {
   "cell_type": "code",
   "execution_count": 61,
   "metadata": {},
   "outputs": [
    {
     "name": "stdout",
     "output_type": "stream",
     "text": [
      "              precision    recall  f1-score   support\n",
      "\n",
      "           0       0.88      0.89      0.89      5063\n",
      "           1       0.89      0.88      0.88      4937\n",
      "\n",
      "    accuracy                           0.89     10000\n",
      "   macro avg       0.89      0.89      0.89     10000\n",
      "weighted avg       0.89      0.89      0.89     10000\n",
      "\n"
     ]
    }
   ],
   "source": [
    "model_report = classification_report(y_test, model_pred.round())\n",
    "print(model_report)"
   ]
  },
  {
   "cell_type": "code",
   "execution_count": null,
   "metadata": {},
   "outputs": [],
   "source": []
  }
 ],
 "metadata": {
  "kernelspec": {
   "display_name": "csce771",
   "language": "python",
   "name": "csce771"
  },
  "language_info": {
   "codemirror_mode": {
    "name": "ipython",
    "version": 3
   },
   "file_extension": ".py",
   "mimetype": "text/x-python",
   "name": "python",
   "nbconvert_exporter": "python",
   "pygments_lexer": "ipython3",
   "version": "3.6.10"
  }
 },
 "nbformat": 4,
 "nbformat_minor": 4
}
