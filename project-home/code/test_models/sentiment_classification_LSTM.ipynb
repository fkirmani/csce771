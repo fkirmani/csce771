{
 "cells": [
  {
   "cell_type": "code",
   "execution_count": 180,
   "metadata": {},
   "outputs": [],
   "source": [
    "import glob\n",
    "import os\n",
    "import pandas as pd\n",
    "import numpy as np\n",
    "import re\n",
    "import nltk\n",
    "import tensorflow as tf\n",
    "import seaborn as sn\n",
    "import matplotlib.pyplot as plt\n",
    "from nltk.corpus import stopwords\n",
    "\n",
    "from numpy import array\n",
    "from keras.preprocessing.text import one_hot\n",
    "from keras.preprocessing.sequence import pad_sequences\n",
    "from keras.models import Sequential\n",
    "from keras.layers.core import Activation, Dropout, Dense\n",
    "from keras.layers import Flatten\n",
    "from keras.layers import GlobalMaxPooling1D\n",
    "from keras.layers.embeddings import Embedding\n",
    "from sklearn.model_selection import train_test_split\n",
    "from keras.preprocessing.text import Tokenizer\n",
    "from keras.layers import Dense, Dropout, Flatten, LSTM, MaxPooling1D, LeakyReLU, Reshape\n",
    "from keras.layers.normalization import BatchNormalization\n",
    "from sklearn.metrics import confusion_matrix, classification_report "
   ]
  },
  {
   "cell_type": "code",
   "execution_count": 2,
   "metadata": {},
   "outputs": [],
   "source": [
    "file_list = glob.glob(os.path.join(os.getcwd(), \"./aclImdb_v1/aclImdb/train/pos/\", \"*.txt\"))\n",
    "\n",
    "pos = []\n",
    "\n",
    "for file_path in file_list:\n",
    "    with open(file_path) as f_input:\n",
    "        pos.append(f_input.read())"
   ]
  },
  {
   "cell_type": "code",
   "execution_count": 3,
   "metadata": {},
   "outputs": [
    {
     "name": "stdout",
     "output_type": "stream",
     "text": [
      "INFO: There are 12500 rows and 3 columns in the training set.\n"
     ]
    }
   ],
   "source": [
    "pos_df = pd.DataFrame(pos, columns = [\"reviews\"])\n",
    "pos_df[\"label\"] = 1\n",
    "pos_df[\"data_type\"] = \"train\"\n",
    "\n",
    "nRow, nCol = pos_df.shape\n",
    "print(f'INFO: There are {nRow} rows and {nCol} columns in the training set.')"
   ]
  },
  {
   "cell_type": "code",
   "execution_count": 4,
   "metadata": {},
   "outputs": [],
   "source": [
    "file_list = glob.glob(os.path.join(os.getcwd(), \"./aclImdb_v1/aclImdb/train/neg/\", \"*.txt\"))\n",
    "\n",
    "neg = []\n",
    "\n",
    "for file_path in file_list:\n",
    "    with open(file_path) as f_input:\n",
    "        neg.append(f_input.read())"
   ]
  },
  {
   "cell_type": "code",
   "execution_count": 5,
   "metadata": {},
   "outputs": [
    {
     "name": "stdout",
     "output_type": "stream",
     "text": [
      "INFO: There are 12500 rows and 3 columns in the training set.\n"
     ]
    }
   ],
   "source": [
    "neg_df = pd.DataFrame(neg, columns = [\"reviews\"])\n",
    "neg_df[\"label\"] = 0\n",
    "neg_df[\"data_type\"] = \"train\"\n",
    "\n",
    "nRow, nCol = neg_df.shape\n",
    "print(f'INFO: There are {nRow} rows and {nCol} columns in the training set.')"
   ]
  },
  {
   "cell_type": "code",
   "execution_count": 6,
   "metadata": {},
   "outputs": [
    {
     "name": "stdout",
     "output_type": "stream",
     "text": [
      "INFO: There are 25000 rows and 3 columns in the training set.\n"
     ]
    }
   ],
   "source": [
    "train = pos_df.append(neg_df)\n",
    "\n",
    "nRow, nCol = train.shape\n",
    "print(f'INFO: There are {nRow} rows and {nCol} columns in the training set.')"
   ]
  },
  {
   "cell_type": "code",
   "execution_count": 7,
   "metadata": {},
   "outputs": [
    {
     "name": "stdout",
     "output_type": "stream",
     "text": [
      "<class 'pandas.core.frame.DataFrame'>\n",
      "Int64Index: 25000 entries, 0 to 12499\n",
      "Data columns (total 3 columns):\n",
      " #   Column     Non-Null Count  Dtype \n",
      "---  ------     --------------  ----- \n",
      " 0   reviews    25000 non-null  object\n",
      " 1   label      25000 non-null  int64 \n",
      " 2   data_type  25000 non-null  object\n",
      "dtypes: int64(1), object(2)\n",
      "memory usage: 781.2+ KB\n"
     ]
    }
   ],
   "source": [
    "# Clean of white spaces\n",
    "train = train.applymap(lambda x: x.strip() if isinstance(x, str) else x)\n",
    "# Print statistics\n",
    "train.info()"
   ]
  },
  {
   "cell_type": "code",
   "execution_count": 8,
   "metadata": {},
   "outputs": [
    {
     "data": {
      "text/plain": [
       "1    12500\n",
       "0    12500\n",
       "Name: label, dtype: int64"
      ]
     },
     "execution_count": 8,
     "metadata": {},
     "output_type": "execute_result"
    }
   ],
   "source": [
    "# Distribution of positive and negative labels\n",
    "train[\"label\"].value_counts()"
   ]
  },
  {
   "cell_type": "code",
   "execution_count": 9,
   "metadata": {},
   "outputs": [
    {
     "name": "stdout",
     "output_type": "stream",
     "text": [
      "INFO: There are 25000 rows and 3 columns in the training set.\n"
     ]
    }
   ],
   "source": [
    "# Removing empty rows from csv \n",
    "train.dropna(axis=0,inplace=True)\n",
    "nRow, nCol = train.shape\n",
    "print(f'INFO: There are {nRow} rows and {nCol} columns in the training set.')"
   ]
  },
  {
   "cell_type": "code",
   "execution_count": 10,
   "metadata": {},
   "outputs": [
    {
     "data": {
      "text/plain": [
       "1    12500\n",
       "0    12500\n",
       "Name: label, dtype: int64"
      ]
     },
     "execution_count": 10,
     "metadata": {},
     "output_type": "execute_result"
    }
   ],
   "source": [
    "# Distribution of positive and negative labels\n",
    "train[\"label\"].value_counts()"
   ]
  },
  {
   "cell_type": "code",
   "execution_count": 11,
   "metadata": {},
   "outputs": [
    {
     "data": {
      "text/html": [
       "<div>\n",
       "<style scoped>\n",
       "    .dataframe tbody tr th:only-of-type {\n",
       "        vertical-align: middle;\n",
       "    }\n",
       "\n",
       "    .dataframe tbody tr th {\n",
       "        vertical-align: top;\n",
       "    }\n",
       "\n",
       "    .dataframe thead th {\n",
       "        text-align: right;\n",
       "    }\n",
       "</style>\n",
       "<table border=\"1\" class=\"dataframe\">\n",
       "  <thead>\n",
       "    <tr style=\"text-align: right;\">\n",
       "      <th></th>\n",
       "      <th>reviews</th>\n",
       "      <th>label</th>\n",
       "      <th>data_type</th>\n",
       "    </tr>\n",
       "  </thead>\n",
       "  <tbody>\n",
       "    <tr>\n",
       "      <th>0</th>\n",
       "      <td>This is one of the best films we watched in my...</td>\n",
       "      <td>1</td>\n",
       "      <td>train</td>\n",
       "    </tr>\n",
       "    <tr>\n",
       "      <th>1</th>\n",
       "      <td>Spoiler This movie is about such a concept. Wi...</td>\n",
       "      <td>1</td>\n",
       "      <td>train</td>\n",
       "    </tr>\n",
       "    <tr>\n",
       "      <th>2</th>\n",
       "      <td>Richard Attenborough is a director whose name ...</td>\n",
       "      <td>1</td>\n",
       "      <td>train</td>\n",
       "    </tr>\n",
       "    <tr>\n",
       "      <th>3</th>\n",
       "      <td>Joan Crawford had just begun her \"working girl...</td>\n",
       "      <td>1</td>\n",
       "      <td>train</td>\n",
       "    </tr>\n",
       "    <tr>\n",
       "      <th>4</th>\n",
       "      <td>I have just read the lead comment for this fil...</td>\n",
       "      <td>1</td>\n",
       "      <td>train</td>\n",
       "    </tr>\n",
       "  </tbody>\n",
       "</table>\n",
       "</div>"
      ],
      "text/plain": [
       "                                             reviews  label data_type\n",
       "0  This is one of the best films we watched in my...      1     train\n",
       "1  Spoiler This movie is about such a concept. Wi...      1     train\n",
       "2  Richard Attenborough is a director whose name ...      1     train\n",
       "3  Joan Crawford had just begun her \"working girl...      1     train\n",
       "4  I have just read the lead comment for this fil...      1     train"
      ]
     },
     "execution_count": 11,
     "metadata": {},
     "output_type": "execute_result"
    }
   ],
   "source": [
    "train.head()"
   ]
  },
  {
   "cell_type": "code",
   "execution_count": 12,
   "metadata": {},
   "outputs": [],
   "source": [
    "file_list = glob.glob(os.path.join(os.getcwd(), \"./aclImdb_v1/aclImdb/test/pos/\", \"*.txt\"))\n",
    "\n",
    "pos_test = []\n",
    "\n",
    "for file_path in file_list:\n",
    "    with open(file_path) as f_input:\n",
    "        pos_test.append(f_input.read())"
   ]
  },
  {
   "cell_type": "code",
   "execution_count": 13,
   "metadata": {},
   "outputs": [
    {
     "name": "stdout",
     "output_type": "stream",
     "text": [
      "INFO: There are 12500 rows and 3 columns in the training set.\n"
     ]
    }
   ],
   "source": [
    "pos_test_df = pd.DataFrame(pos_test, columns = [\"reviews\"])\n",
    "pos_test_df[\"label\"] = 1\n",
    "pos_test_df[\"data_type\"] = \"test\"\n",
    "\n",
    "nRow, nCol = pos_test_df.shape\n",
    "print(f'INFO: There are {nRow} rows and {nCol} columns in the training set.')"
   ]
  },
  {
   "cell_type": "code",
   "execution_count": 14,
   "metadata": {},
   "outputs": [],
   "source": [
    "file_list = glob.glob(os.path.join(os.getcwd(), \"./aclImdb_v1/aclImdb/test/neg/\", \"*.txt\"))\n",
    "\n",
    "neg_test = []\n",
    "\n",
    "for file_path in file_list:\n",
    "    with open(file_path) as f_input:\n",
    "        neg_test.append(f_input.read())"
   ]
  },
  {
   "cell_type": "code",
   "execution_count": 15,
   "metadata": {},
   "outputs": [
    {
     "name": "stdout",
     "output_type": "stream",
     "text": [
      "INFO: There are 12500 rows and 3 columns in the training set.\n"
     ]
    }
   ],
   "source": [
    "neg_test_df = pd.DataFrame(neg_test, columns = [\"reviews\"])\n",
    "neg_test_df[\"label\"] = 0\n",
    "neg_test_df[\"data_type\"] = \"test\"\n",
    "\n",
    "nRow, nCol = neg_test_df.shape\n",
    "print(f'INFO: There are {nRow} rows and {nCol} columns in the training set.')"
   ]
  },
  {
   "cell_type": "code",
   "execution_count": 16,
   "metadata": {},
   "outputs": [
    {
     "name": "stdout",
     "output_type": "stream",
     "text": [
      "INFO: There are 25000 rows and 3 columns in the training set.\n"
     ]
    }
   ],
   "source": [
    "test = pos_test_df.append(neg_test_df)\n",
    "\n",
    "nRow, nCol = test.shape\n",
    "print(f'INFO: There are {nRow} rows and {nCol} columns in the training set.')"
   ]
  },
  {
   "cell_type": "code",
   "execution_count": 17,
   "metadata": {},
   "outputs": [
    {
     "name": "stdout",
     "output_type": "stream",
     "text": [
      "<class 'pandas.core.frame.DataFrame'>\n",
      "Int64Index: 25000 entries, 0 to 12499\n",
      "Data columns (total 3 columns):\n",
      " #   Column     Non-Null Count  Dtype \n",
      "---  ------     --------------  ----- \n",
      " 0   reviews    25000 non-null  object\n",
      " 1   label      25000 non-null  int64 \n",
      " 2   data_type  25000 non-null  object\n",
      "dtypes: int64(1), object(2)\n",
      "memory usage: 781.2+ KB\n"
     ]
    }
   ],
   "source": [
    "# Clean of white spaces\n",
    "test = test.applymap(lambda x: x.strip() if isinstance(x, str) else x)\n",
    "# Print statistics\n",
    "test.info()"
   ]
  },
  {
   "cell_type": "code",
   "execution_count": 18,
   "metadata": {},
   "outputs": [
    {
     "data": {
      "text/plain": [
       "1    12500\n",
       "0    12500\n",
       "Name: label, dtype: int64"
      ]
     },
     "execution_count": 18,
     "metadata": {},
     "output_type": "execute_result"
    }
   ],
   "source": [
    "# Distribution of positive and negative labels\n",
    "test[\"label\"].value_counts()"
   ]
  },
  {
   "cell_type": "code",
   "execution_count": 19,
   "metadata": {},
   "outputs": [
    {
     "name": "stdout",
     "output_type": "stream",
     "text": [
      "INFO: There are 25000 rows and 3 columns in the training set.\n"
     ]
    }
   ],
   "source": [
    "# Removing empty rows from csv \n",
    "test.dropna(axis=0,inplace=True)\n",
    "nRow, nCol = test.shape\n",
    "print(f'INFO: There are {nRow} rows and {nCol} columns in the training set.')"
   ]
  },
  {
   "cell_type": "code",
   "execution_count": 20,
   "metadata": {},
   "outputs": [
    {
     "data": {
      "text/plain": [
       "1    12500\n",
       "0    12500\n",
       "Name: label, dtype: int64"
      ]
     },
     "execution_count": 20,
     "metadata": {},
     "output_type": "execute_result"
    }
   ],
   "source": [
    "# Distribution of positive and negative labels\n",
    "test[\"label\"].value_counts()"
   ]
  },
  {
   "cell_type": "code",
   "execution_count": 21,
   "metadata": {},
   "outputs": [
    {
     "data": {
      "text/html": [
       "<div>\n",
       "<style scoped>\n",
       "    .dataframe tbody tr th:only-of-type {\n",
       "        vertical-align: middle;\n",
       "    }\n",
       "\n",
       "    .dataframe tbody tr th {\n",
       "        vertical-align: top;\n",
       "    }\n",
       "\n",
       "    .dataframe thead th {\n",
       "        text-align: right;\n",
       "    }\n",
       "</style>\n",
       "<table border=\"1\" class=\"dataframe\">\n",
       "  <thead>\n",
       "    <tr style=\"text-align: right;\">\n",
       "      <th></th>\n",
       "      <th>reviews</th>\n",
       "      <th>label</th>\n",
       "      <th>data_type</th>\n",
       "    </tr>\n",
       "  </thead>\n",
       "  <tbody>\n",
       "    <tr>\n",
       "      <th>0</th>\n",
       "      <td>This movie is definitely one of the finest of ...</td>\n",
       "      <td>1</td>\n",
       "      <td>test</td>\n",
       "    </tr>\n",
       "    <tr>\n",
       "      <th>1</th>\n",
       "      <td>I recently saw this at the 2007 Palm Springs I...</td>\n",
       "      <td>1</td>\n",
       "      <td>test</td>\n",
       "    </tr>\n",
       "    <tr>\n",
       "      <th>2</th>\n",
       "      <td>This delightful movie tells the story of buds....</td>\n",
       "      <td>1</td>\n",
       "      <td>test</td>\n",
       "    </tr>\n",
       "    <tr>\n",
       "      <th>3</th>\n",
       "      <td>This movie was well done but it also made me f...</td>\n",
       "      <td>1</td>\n",
       "      <td>test</td>\n",
       "    </tr>\n",
       "    <tr>\n",
       "      <th>4</th>\n",
       "      <td>\"The Couch Trip\" is one of those silly comedie...</td>\n",
       "      <td>1</td>\n",
       "      <td>test</td>\n",
       "    </tr>\n",
       "  </tbody>\n",
       "</table>\n",
       "</div>"
      ],
      "text/plain": [
       "                                             reviews  label data_type\n",
       "0  This movie is definitely one of the finest of ...      1      test\n",
       "1  I recently saw this at the 2007 Palm Springs I...      1      test\n",
       "2  This delightful movie tells the story of buds....      1      test\n",
       "3  This movie was well done but it also made me f...      1      test\n",
       "4  \"The Couch Trip\" is one of those silly comedie...      1      test"
      ]
     },
     "execution_count": 21,
     "metadata": {},
     "output_type": "execute_result"
    }
   ],
   "source": [
    "test.head()"
   ]
  },
  {
   "cell_type": "code",
   "execution_count": 22,
   "metadata": {},
   "outputs": [
    {
     "name": "stdout",
     "output_type": "stream",
     "text": [
      "INFO: There are 50000 rows and 3 columns in the training set.\n"
     ]
    }
   ],
   "source": [
    "data = train.append(test)\n",
    "\n",
    "nRow, nCol = data.shape\n",
    "print(f'INFO: There are {nRow} rows and {nCol} columns in the training set.')"
   ]
  },
  {
   "cell_type": "code",
   "execution_count": 23,
   "metadata": {},
   "outputs": [
    {
     "data": {
      "text/plain": [
       "test     25000\n",
       "train    25000\n",
       "Name: data_type, dtype: int64"
      ]
     },
     "execution_count": 23,
     "metadata": {},
     "output_type": "execute_result"
    }
   ],
   "source": [
    "data[\"data_type\"].value_counts()"
   ]
  },
  {
   "cell_type": "code",
   "execution_count": 24,
   "metadata": {},
   "outputs": [
    {
     "data": {
      "text/html": [
       "<div>\n",
       "<style scoped>\n",
       "    .dataframe tbody tr th:only-of-type {\n",
       "        vertical-align: middle;\n",
       "    }\n",
       "\n",
       "    .dataframe tbody tr th {\n",
       "        vertical-align: top;\n",
       "    }\n",
       "\n",
       "    .dataframe thead th {\n",
       "        text-align: right;\n",
       "    }\n",
       "</style>\n",
       "<table border=\"1\" class=\"dataframe\">\n",
       "  <thead>\n",
       "    <tr style=\"text-align: right;\">\n",
       "      <th></th>\n",
       "      <th>reviews</th>\n",
       "      <th>label</th>\n",
       "      <th>data_type</th>\n",
       "    </tr>\n",
       "  </thead>\n",
       "  <tbody>\n",
       "    <tr>\n",
       "      <th>0</th>\n",
       "      <td>This is one of the best films we watched in my...</td>\n",
       "      <td>1</td>\n",
       "      <td>train</td>\n",
       "    </tr>\n",
       "    <tr>\n",
       "      <th>1</th>\n",
       "      <td>Spoiler This movie is about such a concept. Wi...</td>\n",
       "      <td>1</td>\n",
       "      <td>train</td>\n",
       "    </tr>\n",
       "    <tr>\n",
       "      <th>2</th>\n",
       "      <td>Richard Attenborough is a director whose name ...</td>\n",
       "      <td>1</td>\n",
       "      <td>train</td>\n",
       "    </tr>\n",
       "    <tr>\n",
       "      <th>3</th>\n",
       "      <td>Joan Crawford had just begun her \"working girl...</td>\n",
       "      <td>1</td>\n",
       "      <td>train</td>\n",
       "    </tr>\n",
       "    <tr>\n",
       "      <th>4</th>\n",
       "      <td>I have just read the lead comment for this fil...</td>\n",
       "      <td>1</td>\n",
       "      <td>train</td>\n",
       "    </tr>\n",
       "  </tbody>\n",
       "</table>\n",
       "</div>"
      ],
      "text/plain": [
       "                                             reviews  label data_type\n",
       "0  This is one of the best films we watched in my...      1     train\n",
       "1  Spoiler This movie is about such a concept. Wi...      1     train\n",
       "2  Richard Attenborough is a director whose name ...      1     train\n",
       "3  Joan Crawford had just begun her \"working girl...      1     train\n",
       "4  I have just read the lead comment for this fil...      1     train"
      ]
     },
     "execution_count": 24,
     "metadata": {},
     "output_type": "execute_result"
    }
   ],
   "source": [
    "data.head()"
   ]
  },
  {
   "cell_type": "code",
   "execution_count": 25,
   "metadata": {},
   "outputs": [],
   "source": [
    "def preprocess_text(rev):\n",
    "    # Removing html tags\n",
    "    sentence = remove_tags(rev)\n",
    "\n",
    "    # Remove punctuations and numbers\n",
    "    sentence = re.sub('[^a-zA-Z]', ' ', sentence)\n",
    "\n",
    "    # Single character removal\n",
    "    sentence = re.sub(r\"\\s+[a-zA-Z]\\s+\", ' ', sentence)\n",
    "\n",
    "    # Removing multiple spaces\n",
    "    sentence = re.sub(r'\\s+', ' ', sentence)\n",
    "\n",
    "    return sentence"
   ]
  },
  {
   "cell_type": "code",
   "execution_count": 26,
   "metadata": {},
   "outputs": [],
   "source": [
    "TAG_RE = re.compile(r'<[^>]+>')\n",
    "\n",
    "def remove_tags(text):\n",
    "    return TAG_RE.sub('', text)"
   ]
  },
  {
   "cell_type": "code",
   "execution_count": 27,
   "metadata": {},
   "outputs": [],
   "source": [
    "X = []\n",
    "sentences = list(data['reviews'])\n",
    "for rev in sentences:\n",
    "    X.append(preprocess_text(rev))"
   ]
  },
  {
   "cell_type": "code",
   "execution_count": 28,
   "metadata": {},
   "outputs": [],
   "source": [
    "X_train, X_test, y_train, y_test = train_test_split(X, data['label'], test_size=0.20, random_state=80)"
   ]
  },
  {
   "cell_type": "code",
   "execution_count": 29,
   "metadata": {},
   "outputs": [],
   "source": [
    "tokenizer = Tokenizer(num_words=5000)\n",
    "tokenizer.fit_on_texts(X_train)\n",
    "\n",
    "X_train = tokenizer.texts_to_sequences(X_train)\n",
    "X_test = tokenizer.texts_to_sequences(X_test)"
   ]
  },
  {
   "cell_type": "code",
   "execution_count": 30,
   "metadata": {},
   "outputs": [],
   "source": [
    "# Adding 1 because of reserved 0 index\n",
    "vocab_size = len(tokenizer.word_index) + 1\n",
    "\n",
    "maxlen = 200\n",
    "\n",
    "X_train = pad_sequences(X_train, padding='post', maxlen=maxlen)\n",
    "X_test = pad_sequences(X_test, padding='post', maxlen=maxlen)"
   ]
  },
  {
   "cell_type": "code",
   "execution_count": 31,
   "metadata": {},
   "outputs": [],
   "source": [
    "from numpy import array\n",
    "from numpy import asarray\n",
    "from numpy import zeros\n",
    "\n",
    "embeddings_dictionary = dict()\n",
    "glove_file = open('./glove.840B.300d.txt', 'r', errors = 'ignore', encoding='utf-8')\n",
    "\n",
    "for line in glove_file:\n",
    "    records = line.split(' ')\n",
    "    word = records[0]\n",
    "    vector_dimensions = asarray(records[1:], dtype='float32')\n",
    "    embeddings_dictionary [word] = vector_dimensions\n",
    "glove_file.close()"
   ]
  },
  {
   "cell_type": "code",
   "execution_count": 32,
   "metadata": {},
   "outputs": [],
   "source": [
    "embedding_matrix = zeros((vocab_size, 300))\n",
    "for word, index in tokenizer.word_index.items():\n",
    "    embedding_vector = embeddings_dictionary.get(word)\n",
    "    if embedding_vector is not None:\n",
    "        embedding_matrix[index] = embedding_vector"
   ]
  },
  {
   "cell_type": "code",
   "execution_count": 236,
   "metadata": {},
   "outputs": [],
   "source": [
    "opt = tf.keras.optimizers.RMSprop(learning_rate=0.0001)"
   ]
  },
  {
   "cell_type": "code",
   "execution_count": 237,
   "metadata": {},
   "outputs": [],
   "source": [
    "model = Sequential()\n",
    "\n",
    "embedding_layer = Embedding(vocab_size, 300, weights=[embedding_matrix], input_length=maxlen , trainable=False)\n",
    "model.add(embedding_layer)\n",
    "\n",
    "model.add(LSTM(4, activation=\"tanh\", return_sequences=True))\n",
    "model.add(LSTM(8, activation=\"tanh\"))\n",
    "model.add(Dense(1, activation='sigmoid'))\n",
    "model.compile(optimizer=opt, loss='binary_crossentropy', \n",
    "              metrics=[tf.keras.metrics.AUC(num_thresholds=1200, curve='ROC', summation_method='interpolation'), \n",
    "                       'accuracy'])"
   ]
  },
  {
   "cell_type": "code",
   "execution_count": 238,
   "metadata": {},
   "outputs": [
    {
     "name": "stdout",
     "output_type": "stream",
     "text": [
      "Model: \"sequential_20\"\n",
      "_________________________________________________________________\n",
      "Layer (type)                 Output Shape              Param #   \n",
      "=================================================================\n",
      "embedding_20 (Embedding)     (None, 200, 300)          27748800  \n",
      "_________________________________________________________________\n",
      "lstm_42 (LSTM)               (None, 200, 4)            4880      \n",
      "_________________________________________________________________\n",
      "lstm_43 (LSTM)               (None, 8)                 416       \n",
      "_________________________________________________________________\n",
      "dense_19 (Dense)             (None, 1)                 9         \n",
      "=================================================================\n",
      "Total params: 27,754,105\n",
      "Trainable params: 5,305\n",
      "Non-trainable params: 27,748,800\n",
      "_________________________________________________________________\n",
      "None\n"
     ]
    }
   ],
   "source": [
    "print(model.summary())"
   ]
  },
  {
   "cell_type": "code",
   "execution_count": 239,
   "metadata": {},
   "outputs": [
    {
     "name": "stdout",
     "output_type": "stream",
     "text": [
      "Train on 32000 samples, validate on 8000 samples\n",
      "Epoch 1/100\n",
      "32000/32000 [==============================] - 149s 5ms/step - loss: 0.6903 - auc_18: 0.5125 - accuracy: 0.5249 - val_loss: 0.6831 - val_auc_18: 0.5493 - val_accuracy: 0.5564\n",
      "Epoch 2/100\n",
      "32000/32000 [==============================] - 146s 5ms/step - loss: 0.6633 - auc_18: 0.5749 - accuracy: 0.6007 - val_loss: 0.6288 - val_auc_18: 0.6132 - val_accuracy: 0.7095\n",
      "Epoch 3/100\n",
      "32000/32000 [==============================] - 146s 5ms/step - loss: 0.5686 - auc_18: 0.6591 - accuracy: 0.7479 - val_loss: 0.5527 - val_auc_18: 0.6932 - val_accuracy: 0.7418\n",
      "Epoch 4/100\n",
      "32000/32000 [==============================] - 147s 5ms/step - loss: 0.5334 - auc_18: 0.7139 - accuracy: 0.7673 - val_loss: 0.5318 - val_auc_18: 0.7310 - val_accuracy: 0.7682\n",
      "Epoch 5/100\n",
      "32000/32000 [==============================] - 147s 5ms/step - loss: 0.5201 - auc_18: 0.7428 - accuracy: 0.7755 - val_loss: 0.5292 - val_auc_18: 0.7523 - val_accuracy: 0.7559\n",
      "Epoch 6/100\n",
      "32000/32000 [==============================] - 147s 5ms/step - loss: 0.5080 - auc_18: 0.7596 - accuracy: 0.7818 - val_loss: 0.5065 - val_auc_18: 0.7666 - val_accuracy: 0.7788\n",
      "Epoch 7/100\n",
      "32000/32000 [==============================] - 146s 5ms/step - loss: 0.5002 - auc_18: 0.7725 - accuracy: 0.7877 - val_loss: 0.4973 - val_auc_18: 0.7779 - val_accuracy: 0.7886\n",
      "Epoch 8/100\n",
      "32000/32000 [==============================] - 147s 5ms/step - loss: 0.4922 - auc_18: 0.7825 - accuracy: 0.7912 - val_loss: 0.4951 - val_auc_18: 0.7866 - val_accuracy: 0.7929\n",
      "Epoch 9/100\n",
      "32000/32000 [==============================] - 148s 5ms/step - loss: 0.4814 - auc_18: 0.7906 - accuracy: 0.7997 - val_loss: 0.4822 - val_auc_18: 0.7946 - val_accuracy: 0.8001\n",
      "Epoch 10/100\n",
      "32000/32000 [==============================] - 156s 5ms/step - loss: 0.4783 - auc_18: 0.7978 - accuracy: 0.7980 - val_loss: 0.4829 - val_auc_18: 0.8009 - val_accuracy: 0.7903\n",
      "Epoch 11/100\n",
      "32000/32000 [==============================] - 160s 5ms/step - loss: 0.4683 - auc_18: 0.8038 - accuracy: 0.8053 - val_loss: 0.4771 - val_auc_18: 0.8066 - val_accuracy: 0.8039\n",
      "Epoch 12/100\n",
      "32000/32000 [==============================] - 162s 5ms/step - loss: 0.4635 - auc_18: 0.8091 - accuracy: 0.8083 - val_loss: 0.4640 - val_auc_18: 0.8117 - val_accuracy: 0.8031\n",
      "Epoch 13/100\n",
      "32000/32000 [==============================] - 159s 5ms/step - loss: 0.4561 - auc_18: 0.8140 - accuracy: 0.8119 - val_loss: 0.4534 - val_auc_18: 0.8164 - val_accuracy: 0.8085\n",
      "Epoch 14/100\n",
      "32000/32000 [==============================] - 158s 5ms/step - loss: 0.4500 - auc_18: 0.8187 - accuracy: 0.8148 - val_loss: 0.4532 - val_auc_18: 0.8207 - val_accuracy: 0.8158\n",
      "Epoch 15/100\n",
      "32000/32000 [==============================] - 161s 5ms/step - loss: 0.4462 - auc_18: 0.8226 - accuracy: 0.8172 - val_loss: 0.4423 - val_auc_18: 0.8246 - val_accuracy: 0.8186\n",
      "Epoch 16/100\n",
      "32000/32000 [==============================] - 171s 5ms/step - loss: 0.4368 - auc_18: 0.8265 - accuracy: 0.8198 - val_loss: 0.4426 - val_auc_18: 0.8284 - val_accuracy: 0.8127\n",
      "Epoch 17/100\n",
      "32000/32000 [==============================] - 170s 5ms/step - loss: 0.4313 - auc_18: 0.8301 - accuracy: 0.8236 - val_loss: 0.4306 - val_auc_18: 0.8319 - val_accuracy: 0.8256\n",
      "Epoch 18/100\n",
      "32000/32000 [==============================] - 171s 5ms/step - loss: 0.4233 - auc_18: 0.8336 - accuracy: 0.8259 - val_loss: 0.4236 - val_auc_18: 0.8354 - val_accuracy: 0.8269\n",
      "Epoch 19/100\n",
      "32000/32000 [==============================] - 169s 5ms/step - loss: 0.4156 - auc_18: 0.8370 - accuracy: 0.8312 - val_loss: 0.4161 - val_auc_18: 0.8388 - val_accuracy: 0.8303\n",
      "Epoch 20/100\n",
      "32000/32000 [==============================] - 182s 6ms/step - loss: 0.4057 - auc_18: 0.8404 - accuracy: 0.8355 - val_loss: 0.4068 - val_auc_18: 0.8422 - val_accuracy: 0.8328\n",
      "Epoch 21/100\n",
      "32000/32000 [==============================] - 179s 6ms/step - loss: 0.3981 - auc_18: 0.8439 - accuracy: 0.8380 - val_loss: 0.3986 - val_auc_18: 0.8455 - val_accuracy: 0.8363\n",
      "Epoch 22/100\n",
      "32000/32000 [==============================] - 166s 5ms/step - loss: 0.3891 - auc_18: 0.8472 - accuracy: 0.8415 - val_loss: 0.3876 - val_auc_18: 0.8488 - val_accuracy: 0.8425\n",
      "Epoch 23/100\n",
      "32000/32000 [==============================] - 150s 5ms/step - loss: 0.3808 - auc_18: 0.8505 - accuracy: 0.8455 - val_loss: 0.3859 - val_auc_18: 0.8521 - val_accuracy: 0.8425\n",
      "Epoch 24/100\n",
      "32000/32000 [==============================] - 144s 4ms/step - loss: 0.3722 - auc_18: 0.8537 - accuracy: 0.8501 - val_loss: 0.3699 - val_auc_18: 0.8552 - val_accuracy: 0.8486\n",
      "Epoch 25/100\n",
      "32000/32000 [==============================] - 141s 4ms/step - loss: 0.3629 - auc_18: 0.8568 - accuracy: 0.8522 - val_loss: 0.3620 - val_auc_18: 0.8584 - val_accuracy: 0.8494\n",
      "Epoch 26/100\n",
      "32000/32000 [==============================] - 142s 4ms/step - loss: 0.3545 - auc_18: 0.8599 - accuracy: 0.8552 - val_loss: 0.3533 - val_auc_18: 0.8615 - val_accuracy: 0.8519\n",
      "Epoch 27/100\n",
      "32000/32000 [==============================] - 154s 5ms/step - loss: 0.3458 - auc_18: 0.8630 - accuracy: 0.8580 - val_loss: 0.3443 - val_auc_18: 0.8644 - val_accuracy: 0.8555\n",
      "Epoch 28/100\n",
      "32000/32000 [==============================] - 161s 5ms/step - loss: 0.3380 - auc_18: 0.8659 - accuracy: 0.8602 - val_loss: 0.3381 - val_auc_18: 0.8673 - val_accuracy: 0.8569\n",
      "Epoch 29/100\n",
      "32000/32000 [==============================] - 160s 5ms/step - loss: 0.3327 - auc_18: 0.8687 - accuracy: 0.8621 - val_loss: 0.3303 - val_auc_18: 0.8701 - val_accuracy: 0.8587\n",
      "Epoch 30/100\n",
      "32000/32000 [==============================] - 162s 5ms/step - loss: 0.3270 - auc_18: 0.8714 - accuracy: 0.8630 - val_loss: 0.3270 - val_auc_18: 0.8727 - val_accuracy: 0.8616\n",
      "Epoch 31/100\n",
      "32000/32000 [==============================] - 159s 5ms/step - loss: 0.3227 - auc_18: 0.8740 - accuracy: 0.8654 - val_loss: 0.3206 - val_auc_18: 0.8752 - val_accuracy: 0.8626\n",
      "Epoch 32/100\n",
      "32000/32000 [==============================] - 158s 5ms/step - loss: 0.3190 - auc_18: 0.8764 - accuracy: 0.8673 - val_loss: 0.3171 - val_auc_18: 0.8776 - val_accuracy: 0.8651\n",
      "Epoch 33/100\n",
      "32000/32000 [==============================] - 159s 5ms/step - loss: 0.3160 - auc_18: 0.8788 - accuracy: 0.8686 - val_loss: 0.3338 - val_auc_18: 0.8799 - val_accuracy: 0.8570\n",
      "Epoch 34/100\n",
      "32000/32000 [==============================] - 166s 5ms/step - loss: 0.3121 - auc_18: 0.8809 - accuracy: 0.8692 - val_loss: 0.3201 - val_auc_18: 0.8820 - val_accuracy: 0.8644\n",
      "Epoch 35/100\n",
      "32000/32000 [==============================] - 164s 5ms/step - loss: 0.3101 - auc_18: 0.8830 - accuracy: 0.8700 - val_loss: 0.3115 - val_auc_18: 0.8840 - val_accuracy: 0.8680\n",
      "Epoch 36/100\n",
      "32000/32000 [==============================] - 165s 5ms/step - loss: 0.3070 - auc_18: 0.8850 - accuracy: 0.8709 - val_loss: 0.3167 - val_auc_18: 0.8860 - val_accuracy: 0.8681\n",
      "Epoch 37/100\n",
      "32000/32000 [==============================] - 166s 5ms/step - loss: 0.3058 - auc_18: 0.8869 - accuracy: 0.8708 - val_loss: 0.3102 - val_auc_18: 0.8878 - val_accuracy: 0.8679\n",
      "Epoch 38/100\n",
      "32000/32000 [==============================] - 165s 5ms/step - loss: 0.3028 - auc_18: 0.8887 - accuracy: 0.8717 - val_loss: 0.3089 - val_auc_18: 0.8896 - val_accuracy: 0.8699\n",
      "Epoch 39/100\n",
      "32000/32000 [==============================] - 166s 5ms/step - loss: 0.3005 - auc_18: 0.8905 - accuracy: 0.8744 - val_loss: 0.3142 - val_auc_18: 0.8913 - val_accuracy: 0.8686\n",
      "Epoch 40/100\n",
      "32000/32000 [==============================] - 167s 5ms/step - loss: 0.2998 - auc_18: 0.8921 - accuracy: 0.8742 - val_loss: 0.3018 - val_auc_18: 0.8929 - val_accuracy: 0.8717\n",
      "Epoch 41/100\n",
      "32000/32000 [==============================] - 168s 5ms/step - loss: 0.2970 - auc_18: 0.8937 - accuracy: 0.8747 - val_loss: 0.3016 - val_auc_18: 0.8944 - val_accuracy: 0.8727\n",
      "Epoch 42/100\n",
      "32000/32000 [==============================] - 169s 5ms/step - loss: 0.2954 - auc_18: 0.8952 - accuracy: 0.8759 - val_loss: 0.3172 - val_auc_18: 0.8959 - val_accuracy: 0.8645\n",
      "Epoch 43/100\n",
      "32000/32000 [==============================] - 165s 5ms/step - loss: 0.2939 - auc_18: 0.8966 - accuracy: 0.8765 - val_loss: 0.3011 - val_auc_18: 0.8973 - val_accuracy: 0.8730\n",
      "Epoch 44/100\n",
      "32000/32000 [==============================] - 167s 5ms/step - loss: 0.2926 - auc_18: 0.8980 - accuracy: 0.8765 - val_loss: 0.2951 - val_auc_18: 0.8987 - val_accuracy: 0.8754\n",
      "Epoch 45/100\n",
      "32000/32000 [==============================] - 167s 5ms/step - loss: 0.2910 - auc_18: 0.8994 - accuracy: 0.8778 - val_loss: 0.3019 - val_auc_18: 0.9000 - val_accuracy: 0.8735\n",
      "Epoch 46/100\n",
      "32000/32000 [==============================] - 169s 5ms/step - loss: 0.2894 - auc_18: 0.9006 - accuracy: 0.8796 - val_loss: 0.3062 - val_auc_18: 0.9012 - val_accuracy: 0.8691\n",
      "Epoch 47/100\n",
      "32000/32000 [==============================] - 169s 5ms/step - loss: 0.2878 - auc_18: 0.9018 - accuracy: 0.8781 - val_loss: 0.2939 - val_auc_18: 0.9024 - val_accuracy: 0.8760\n",
      "Epoch 48/100\n",
      "32000/32000 [==============================] - 175s 5ms/step - loss: 0.2865 - auc_18: 0.9030 - accuracy: 0.8793 - val_loss: 0.2931 - val_auc_18: 0.9036 - val_accuracy: 0.8779\n",
      "Epoch 49/100\n",
      "32000/32000 [==============================] - 168s 5ms/step - loss: 0.2854 - auc_18: 0.9042 - accuracy: 0.8817 - val_loss: 0.3035 - val_auc_18: 0.9047 - val_accuracy: 0.8706\n",
      "Epoch 50/100\n",
      "32000/32000 [==============================] - 169s 5ms/step - loss: 0.2847 - auc_18: 0.9053 - accuracy: 0.8807 - val_loss: 0.2933 - val_auc_18: 0.9058 - val_accuracy: 0.8773\n",
      "Epoch 51/100\n",
      "32000/32000 [==============================] - 170s 5ms/step - loss: 0.2830 - auc_18: 0.9063 - accuracy: 0.8815 - val_loss: 0.2911 - val_auc_18: 0.9069 - val_accuracy: 0.8795\n",
      "Epoch 52/100\n",
      "32000/32000 [==============================] - 171s 5ms/step - loss: 0.2818 - auc_18: 0.9074 - accuracy: 0.8827 - val_loss: 0.3093 - val_auc_18: 0.9078 - val_accuracy: 0.8744\n",
      "Epoch 53/100\n",
      "32000/32000 [==============================] - 169s 5ms/step - loss: 0.2799 - auc_18: 0.9083 - accuracy: 0.8826 - val_loss: 0.2973 - val_auc_18: 0.9088 - val_accuracy: 0.8725\n",
      "Epoch 54/100\n",
      "32000/32000 [==============================] - 172s 5ms/step - loss: 0.2787 - auc_18: 0.9093 - accuracy: 0.8831 - val_loss: 0.2935 - val_auc_18: 0.9097 - val_accuracy: 0.8774\n",
      "Epoch 55/100\n",
      "32000/32000 [==============================] - 173s 5ms/step - loss: 0.2779 - auc_18: 0.9102 - accuracy: 0.8838 - val_loss: 0.2857 - val_auc_18: 0.9107 - val_accuracy: 0.8808\n",
      "Epoch 56/100\n",
      "32000/32000 [==============================] - 170s 5ms/step - loss: 0.2764 - auc_18: 0.9111 - accuracy: 0.8852 - val_loss: 0.2849 - val_auc_18: 0.9115 - val_accuracy: 0.8827\n",
      "Epoch 57/100\n",
      "32000/32000 [==============================] - 169s 5ms/step - loss: 0.2748 - auc_18: 0.9120 - accuracy: 0.8861 - val_loss: 0.2928 - val_auc_18: 0.9124 - val_accuracy: 0.8769\n",
      "Epoch 58/100\n",
      "32000/32000 [==============================] - 175s 5ms/step - loss: 0.2741 - auc_18: 0.9128 - accuracy: 0.8846 - val_loss: 0.2833 - val_auc_18: 0.9132 - val_accuracy: 0.8830\n",
      "Epoch 59/100\n",
      "32000/32000 [==============================] - 172s 5ms/step - loss: 0.2733 - auc_18: 0.9137 - accuracy: 0.8856 - val_loss: 0.2928 - val_auc_18: 0.9141 - val_accuracy: 0.8823\n",
      "Epoch 60/100\n",
      "32000/32000 [==============================] - 171s 5ms/step - loss: 0.2724 - auc_18: 0.9144 - accuracy: 0.8866 - val_loss: 0.2818 - val_auc_18: 0.9148 - val_accuracy: 0.8823\n",
      "Epoch 61/100\n",
      "32000/32000 [==============================] - 177s 6ms/step - loss: 0.2715 - auc_18: 0.9152 - accuracy: 0.8858 - val_loss: 0.2838 - val_auc_18: 0.9156 - val_accuracy: 0.8821\n",
      "Epoch 62/100\n",
      "32000/32000 [==============================] - 171s 5ms/step - loss: 0.2703 - auc_18: 0.9160 - accuracy: 0.8865 - val_loss: 0.2840 - val_auc_18: 0.9163 - val_accuracy: 0.8796\n",
      "Epoch 63/100\n",
      "32000/32000 [==============================] - 173s 5ms/step - loss: 0.2686 - auc_18: 0.9167 - accuracy: 0.8888 - val_loss: 0.2808 - val_auc_18: 0.9171 - val_accuracy: 0.8842\n",
      "Epoch 64/100\n",
      "32000/32000 [==============================] - 147s 5ms/step - loss: 0.2683 - auc_18: 0.9174 - accuracy: 0.8879 - val_loss: 0.3124 - val_auc_18: 0.9177 - val_accuracy: 0.8695\n",
      "Epoch 65/100\n",
      "32000/32000 [==============================] - 139s 4ms/step - loss: 0.2674 - auc_18: 0.9181 - accuracy: 0.8881 - val_loss: 0.2814 - val_auc_18: 0.9184 - val_accuracy: 0.8844\n",
      "Epoch 66/100\n",
      "32000/32000 [==============================] - 136s 4ms/step - loss: 0.2668 - auc_18: 0.9187 - accuracy: 0.8885 - val_loss: 0.2785 - val_auc_18: 0.9191 - val_accuracy: 0.8838\n",
      "Epoch 67/100\n",
      "32000/32000 [==============================] - 135s 4ms/step - loss: 0.2659 - auc_18: 0.9194 - accuracy: 0.8892 - val_loss: 0.2785 - val_auc_18: 0.9197 - val_accuracy: 0.8838\n",
      "Epoch 68/100\n",
      "32000/32000 [==============================] - 135s 4ms/step - loss: 0.2642 - auc_18: 0.9200 - accuracy: 0.8892 - val_loss: 0.2794 - val_auc_18: 0.9204 - val_accuracy: 0.8865\n",
      "Epoch 69/100\n",
      "32000/32000 [==============================] - 136s 4ms/step - loss: 0.2639 - auc_18: 0.9207 - accuracy: 0.8900 - val_loss: 0.2818 - val_auc_18: 0.9210 - val_accuracy: 0.8835\n",
      "Epoch 70/100\n",
      "32000/32000 [==============================] - 137s 4ms/step - loss: 0.2630 - auc_18: 0.9213 - accuracy: 0.8901 - val_loss: 0.2788 - val_auc_18: 0.9216 - val_accuracy: 0.8857\n",
      "Epoch 71/100\n",
      "32000/32000 [==============================] - 137s 4ms/step - loss: 0.2623 - auc_18: 0.9219 - accuracy: 0.8893 - val_loss: 0.2767 - val_auc_18: 0.9221 - val_accuracy: 0.8865\n",
      "Epoch 72/100\n",
      "32000/32000 [==============================] - 137s 4ms/step - loss: 0.2613 - auc_18: 0.9224 - accuracy: 0.8921 - val_loss: 0.2839 - val_auc_18: 0.9227 - val_accuracy: 0.8794\n",
      "Epoch 73/100\n",
      "32000/32000 [==============================] - 139s 4ms/step - loss: 0.2616 - auc_18: 0.9230 - accuracy: 0.8900 - val_loss: 0.2784 - val_auc_18: 0.9233 - val_accuracy: 0.8861\n",
      "Epoch 74/100\n",
      "32000/32000 [==============================] - 137s 4ms/step - loss: 0.2595 - auc_18: 0.9235 - accuracy: 0.8926 - val_loss: 0.2788 - val_auc_18: 0.9238 - val_accuracy: 0.8838\n",
      "Epoch 75/100\n",
      "32000/32000 [==============================] - 137s 4ms/step - loss: 0.2590 - auc_18: 0.9241 - accuracy: 0.8929 - val_loss: 0.2766 - val_auc_18: 0.9243 - val_accuracy: 0.8867\n",
      "Epoch 76/100\n",
      "32000/32000 [==============================] - 137s 4ms/step - loss: 0.2594 - auc_18: 0.9246 - accuracy: 0.8906 - val_loss: 0.2772 - val_auc_18: 0.9249 - val_accuracy: 0.8829\n",
      "Epoch 77/100\n",
      "32000/32000 [==============================] - 141s 4ms/step - loss: 0.2576 - auc_18: 0.9251 - accuracy: 0.8930 - val_loss: 0.3040 - val_auc_18: 0.9253 - val_accuracy: 0.8766\n",
      "Epoch 78/100\n",
      "32000/32000 [==============================] - 146s 5ms/step - loss: 0.2574 - auc_18: 0.9256 - accuracy: 0.8919 - val_loss: 0.2806 - val_auc_18: 0.9258 - val_accuracy: 0.8849\n",
      "Epoch 79/100\n",
      "32000/32000 [==============================] - 163s 5ms/step - loss: 0.2569 - auc_18: 0.9261 - accuracy: 0.8915 - val_loss: 0.2754 - val_auc_18: 0.9263 - val_accuracy: 0.8864\n",
      "Epoch 80/100\n",
      "32000/32000 [==============================] - 161s 5ms/step - loss: 0.2568 - auc_18: 0.9265 - accuracy: 0.8919 - val_loss: 0.3020 - val_auc_18: 0.9267 - val_accuracy: 0.8791\n",
      "Epoch 81/100\n",
      "32000/32000 [==============================] - 163s 5ms/step - loss: 0.2551 - auc_18: 0.9270 - accuracy: 0.8945 - val_loss: 0.2844 - val_auc_18: 0.9272 - val_accuracy: 0.8821\n",
      "Epoch 82/100\n",
      "32000/32000 [==============================] - 160s 5ms/step - loss: 0.2550 - auc_18: 0.9274 - accuracy: 0.8937 - val_loss: 0.2780 - val_auc_18: 0.9276 - val_accuracy: 0.8846\n",
      "Epoch 83/100\n",
      "32000/32000 [==============================] - 165s 5ms/step - loss: 0.2543 - auc_18: 0.9279 - accuracy: 0.8933 - val_loss: 0.2770 - val_auc_18: 0.9281 - val_accuracy: 0.8865\n",
      "Epoch 84/100\n",
      "32000/32000 [==============================] - 147s 5ms/step - loss: 0.2533 - auc_18: 0.9283 - accuracy: 0.8947 - val_loss: 0.2768 - val_auc_18: 0.9285 - val_accuracy: 0.8873\n",
      "Epoch 85/100\n",
      "32000/32000 [==============================] - 143s 4ms/step - loss: 0.2528 - auc_18: 0.9287 - accuracy: 0.8934 - val_loss: 0.2809 - val_auc_18: 0.9289 - val_accuracy: 0.8842\n",
      "Epoch 86/100\n",
      "32000/32000 [==============================] - 138s 4ms/step - loss: 0.2533 - auc_18: 0.9291 - accuracy: 0.8940 - val_loss: 0.2743 - val_auc_18: 0.9293 - val_accuracy: 0.8856\n",
      "Epoch 87/100\n",
      "32000/32000 [==============================] - 136s 4ms/step - loss: 0.2512 - auc_18: 0.9295 - accuracy: 0.8943 - val_loss: 0.2845 - val_auc_18: 0.9297 - val_accuracy: 0.8848\n",
      "Epoch 88/100\n",
      "32000/32000 [==============================] - 141s 4ms/step - loss: 0.2519 - auc_18: 0.9299 - accuracy: 0.8959 - val_loss: 0.2745 - val_auc_18: 0.9301 - val_accuracy: 0.8875\n",
      "Epoch 89/100\n",
      "32000/32000 [==============================] - 160s 5ms/step - loss: 0.2507 - auc_18: 0.9303 - accuracy: 0.8958 - val_loss: 0.2724 - val_auc_18: 0.9305 - val_accuracy: 0.8866\n",
      "Epoch 90/100\n",
      "32000/32000 [==============================] - 164s 5ms/step - loss: 0.2506 - auc_18: 0.9307 - accuracy: 0.8958 - val_loss: 0.2763 - val_auc_18: 0.9309 - val_accuracy: 0.8857\n",
      "Epoch 91/100\n",
      "32000/32000 [==============================] - 163s 5ms/step - loss: 0.2493 - auc_18: 0.9311 - accuracy: 0.8959 - val_loss: 0.2883 - val_auc_18: 0.9313 - val_accuracy: 0.8810\n",
      "Epoch 92/100\n",
      "32000/32000 [==============================] - 161s 5ms/step - loss: 0.2490 - auc_18: 0.9314 - accuracy: 0.8958 - val_loss: 0.2749 - val_auc_18: 0.9316 - val_accuracy: 0.8896\n",
      "Epoch 93/100\n",
      "32000/32000 [==============================] - 162s 5ms/step - loss: 0.2479 - auc_18: 0.9318 - accuracy: 0.8963 - val_loss: 0.2754 - val_auc_18: 0.9320 - val_accuracy: 0.8860\n",
      "Epoch 94/100\n",
      "32000/32000 [==============================] - 160s 5ms/step - loss: 0.2479 - auc_18: 0.9322 - accuracy: 0.8972 - val_loss: 0.2719 - val_auc_18: 0.9323 - val_accuracy: 0.8881\n",
      "Epoch 95/100\n",
      "32000/32000 [==============================] - 160s 5ms/step - loss: 0.2477 - auc_18: 0.9325 - accuracy: 0.8972 - val_loss: 0.2727 - val_auc_18: 0.9327 - val_accuracy: 0.8875\n",
      "Epoch 96/100\n",
      "32000/32000 [==============================] - 162s 5ms/step - loss: 0.2473 - auc_18: 0.9329 - accuracy: 0.8985 - val_loss: 0.2800 - val_auc_18: 0.9330 - val_accuracy: 0.8850\n",
      "Epoch 97/100\n",
      "32000/32000 [==============================] - 165s 5ms/step - loss: 0.2459 - auc_18: 0.9332 - accuracy: 0.8986 - val_loss: 0.2745 - val_auc_18: 0.9334 - val_accuracy: 0.8879\n",
      "Epoch 98/100\n",
      "32000/32000 [==============================] - 161s 5ms/step - loss: 0.2470 - auc_18: 0.9335 - accuracy: 0.8972 - val_loss: 0.2747 - val_auc_18: 0.9337 - val_accuracy: 0.8903\n",
      "Epoch 99/100\n",
      "32000/32000 [==============================] - 162s 5ms/step - loss: 0.2458 - auc_18: 0.9338 - accuracy: 0.8985 - val_loss: 0.2762 - val_auc_18: 0.9340 - val_accuracy: 0.8885\n",
      "Epoch 100/100\n",
      "32000/32000 [==============================] - 170s 5ms/step - loss: 0.2457 - auc_18: 0.9342 - accuracy: 0.8978 - val_loss: 0.2753 - val_auc_18: 0.9343 - val_accuracy: 0.8905\n"
     ]
    }
   ],
   "source": [
    "history = model.fit(X_train, y_train, batch_size=32, epochs=100, verbose=1, validation_split=0.2)"
   ]
  },
  {
   "cell_type": "code",
   "execution_count": 240,
   "metadata": {},
   "outputs": [
    {
     "data": {
      "image/png": "[encoded data removed]",
      "text/plain": [
       "<Figure size 432x288 with 1 Axes>"
      ]
     },
     "metadata": {},
     "output_type": "display_data"
    }
   ],
   "source": [
    "# Plot training & validation accuracy values\n",
    "plt.plot(history.history['accuracy'])\n",
    "plt.plot(history.history['val_accuracy'])\n",
    "plt.title('Model accuracy')\n",
    "plt.ylabel('Accuracy')\n",
    "plt.xlabel('Epoch')\n",
    "plt.legend(['Train', 'Test'], loc='upper left')\n",
    "plt.show()"
   ]
  },
  {
   "cell_type": "code",
   "execution_count": 241,
   "metadata": {},
   "outputs": [
    {
     "data": {
      "image/png": "[encoded data removed]",
      "text/plain": [
       "<Figure size 432x288 with 1 Axes>"
      ]
     },
     "metadata": {},
     "output_type": "display_data"
    }
   ],
   "source": [
    "# Plot training & validation loss values\n",
    "plt.plot(history.history['loss'])\n",
    "plt.plot(history.history['val_loss'])\n",
    "plt.title('Model loss')\n",
    "plt.ylabel('Loss')\n",
    "plt.xlabel('Epoch')\n",
    "plt.legend(['Train', 'Test'], loc='upper left')\n",
    "plt.show()"
   ]
  },
  {
   "cell_type": "code",
   "execution_count": 242,
   "metadata": {},
   "outputs": [
    {
     "name": "stdout",
     "output_type": "stream",
     "text": [
      "\n",
      "# Evaluate on test data\n",
      "10000/10000 [==============================] - 5s 451us/step\n",
      "test loss, test acc: [0.2874314140319824, 0.934359610080719, 0.8849999904632568]\n",
      "\n",
      "# Generate predictions for 3 samples\n",
      "predictions shape: (3, 1)\n"
     ]
    }
   ],
   "source": [
    "print('\\n# Evaluate on test data')\n",
    "results = model.evaluate(X_test, y_test, batch_size=128)\n",
    "print('test loss, test acc:', results)\n",
    "\n",
    "# Generate predictions (probabilities -- the output of the last layer)\n",
    "# on new data using `predict`\n",
    "print('\\n# Generate predictions for 3 samples')\n",
    "predictions = model.predict(X_test[:3])\n",
    "print('predictions shape:', predictions.shape)"
   ]
  },
  {
   "cell_type": "code",
   "execution_count": 243,
   "metadata": {},
   "outputs": [
    {
     "name": "stdout",
     "output_type": "stream",
     "text": [
      "10000/10000 [==============================] - 4s 426us/step\n"
     ]
    }
   ],
   "source": [
    "model_pred = model.predict(X_test, batch_size=128, verbose=1)\n",
    "# model_predicted = np.argmax(model_pred, axis=0)"
   ]
  },
  {
   "cell_type": "code",
   "execution_count": 244,
   "metadata": {},
   "outputs": [
    {
     "data": {
      "text/plain": [
       "array([[4468,  595],\n",
       "       [ 555, 4382]])"
      ]
     },
     "execution_count": 244,
     "metadata": {},
     "output_type": "execute_result"
    }
   ],
   "source": [
    "model_cm = confusion_matrix(y_test, model_pred.round()) \n",
    "model_cm"
   ]
  },
  {
   "cell_type": "code",
   "execution_count": 245,
   "metadata": {},
   "outputs": [
    {
     "data": {
      "image/png": "[encoded data removed]",
      "text/plain": [
       "<Figure size 576x288 with 2 Axes>"
      ]
     },
     "metadata": {},
     "output_type": "display_data"
    }
   ],
   "source": [
    "model_df_cm = pd.DataFrame(model_cm, range(2), range(2)) \n",
    "plt.figure(figsize = (8, 4)) \n",
    "plt.title('Confusion Matrix')\n",
    "sn.set(font_scale=1.4) #for label size \n",
    "sn.heatmap(model_df_cm, annot=True, annot_kws={\"size\": 12}, fmt=\"d\") # font size \n",
    "plt.show()"
   ]
  },
  {
   "cell_type": "code",
   "execution_count": 246,
   "metadata": {},
   "outputs": [
    {
     "name": "stdout",
     "output_type": "stream",
     "text": [
      "              precision    recall  f1-score   support\n",
      "\n",
      "           0       0.89      0.88      0.89      5063\n",
      "           1       0.88      0.89      0.88      4937\n",
      "\n",
      "    accuracy                           0.89     10000\n",
      "   macro avg       0.88      0.89      0.88     10000\n",
      "weighted avg       0.89      0.89      0.89     10000\n",
      "\n"
     ]
    }
   ],
   "source": [
    "model_report = classification_report(y_test, model_pred.round())\n",
    "print(model_report)"
   ]
  },
  {
   "cell_type": "code",
   "execution_count": null,
   "metadata": {},
   "outputs": [],
   "source": []
  }
 ],
 "metadata": {
  "kernelspec": {
   "display_name": "csce771",
   "language": "python",
   "name": "csce771"
  },
  "language_info": {
   "codemirror_mode": {
    "name": "ipython",
    "version": 3
   },
   "file_extension": ".py",
   "mimetype": "text/x-python",
   "name": "python",
   "nbconvert_exporter": "python",
   "pygments_lexer": "ipython3",
   "version": "3.6.10"
  }
 },
 "nbformat": 4,
 "nbformat_minor": 4
}
