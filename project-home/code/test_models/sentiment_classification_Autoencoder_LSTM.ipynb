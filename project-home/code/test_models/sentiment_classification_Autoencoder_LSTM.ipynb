{
 "cells": [
  {
   "cell_type": "code",
   "execution_count": 145,
   "metadata": {},
   "outputs": [],
   "source": [
    "import glob\n",
    "import os\n",
    "import pandas as pd\n",
    "import numpy as np\n",
    "import re\n",
    "import nltk\n",
    "import tensorflow as tf\n",
    "tf.random.Generator = None  # Patch for a bug\n",
    "import seaborn as sn\n",
    "import matplotlib.pyplot as plt\n",
    "from nltk.corpus import stopwords\n",
    "\n",
    "from numpy import array\n",
    "from keras.preprocessing.text import one_hot\n",
    "from keras.preprocessing.sequence import pad_sequences\n",
    "from keras.models import Sequential\n",
    "from keras.layers.core import Activation, Dropout, Dense\n",
    "from keras.layers import Flatten\n",
    "from keras.layers import GlobalMaxPooling1D\n",
    "from keras.layers.embeddings import Embedding\n",
    "from sklearn.model_selection import train_test_split\n",
    "from keras.preprocessing.text import Tokenizer\n",
    "from keras.layers import Dense, Dropout, Flatten, LSTM, MaxPooling1D, LeakyReLU, Reshape\n",
    "from keras.layers.normalization import BatchNormalization\n",
    "from keras.layers import TimeDistributed, RepeatVector\n",
    "from sklearn.metrics import confusion_matrix, classification_report "
   ]
  },
  {
   "cell_type": "code",
   "execution_count": 2,
   "metadata": {},
   "outputs": [],
   "source": [
    "file_list = glob.glob(os.path.join(os.getcwd(), \"./aclImdb_v1/aclImdb/train/pos/\", \"*.txt\"))\n",
    "\n",
    "pos = []\n",
    "\n",
    "for file_path in file_list:\n",
    "    with open(file_path) as f_input:\n",
    "        pos.append(f_input.read())"
   ]
  },
  {
   "cell_type": "code",
   "execution_count": 3,
   "metadata": {},
   "outputs": [
    {
     "name": "stdout",
     "output_type": "stream",
     "text": [
      "INFO: There are 12500 rows and 3 columns in the training set.\n"
     ]
    }
   ],
   "source": [
    "pos_df = pd.DataFrame(pos, columns = [\"reviews\"])\n",
    "pos_df[\"label\"] = 1\n",
    "pos_df[\"data_type\"] = \"train\"\n",
    "\n",
    "nRow, nCol = pos_df.shape\n",
    "print(f'INFO: There are {nRow} rows and {nCol} columns in the training set.')"
   ]
  },
  {
   "cell_type": "code",
   "execution_count": 4,
   "metadata": {},
   "outputs": [],
   "source": [
    "file_list = glob.glob(os.path.join(os.getcwd(), \"./aclImdb_v1/aclImdb/train/neg/\", \"*.txt\"))\n",
    "\n",
    "neg = []\n",
    "\n",
    "for file_path in file_list:\n",
    "    with open(file_path) as f_input:\n",
    "        neg.append(f_input.read())"
   ]
  },
  {
   "cell_type": "code",
   "execution_count": 5,
   "metadata": {},
   "outputs": [
    {
     "name": "stdout",
     "output_type": "stream",
     "text": [
      "INFO: There are 12500 rows and 3 columns in the training set.\n"
     ]
    }
   ],
   "source": [
    "neg_df = pd.DataFrame(neg, columns = [\"reviews\"])\n",
    "neg_df[\"label\"] = 0\n",
    "neg_df[\"data_type\"] = \"train\"\n",
    "\n",
    "nRow, nCol = neg_df.shape\n",
    "print(f'INFO: There are {nRow} rows and {nCol} columns in the training set.')"
   ]
  },
  {
   "cell_type": "code",
   "execution_count": 6,
   "metadata": {},
   "outputs": [
    {
     "name": "stdout",
     "output_type": "stream",
     "text": [
      "INFO: There are 25000 rows and 3 columns in the training set.\n"
     ]
    }
   ],
   "source": [
    "train = pos_df.append(neg_df)\n",
    "\n",
    "nRow, nCol = train.shape\n",
    "print(f'INFO: There are {nRow} rows and {nCol} columns in the training set.')"
   ]
  },
  {
   "cell_type": "code",
   "execution_count": 7,
   "metadata": {},
   "outputs": [
    {
     "name": "stdout",
     "output_type": "stream",
     "text": [
      "<class 'pandas.core.frame.DataFrame'>\n",
      "Int64Index: 25000 entries, 0 to 12499\n",
      "Data columns (total 3 columns):\n",
      " #   Column     Non-Null Count  Dtype \n",
      "---  ------     --------------  ----- \n",
      " 0   reviews    25000 non-null  object\n",
      " 1   label      25000 non-null  int64 \n",
      " 2   data_type  25000 non-null  object\n",
      "dtypes: int64(1), object(2)\n",
      "memory usage: 781.2+ KB\n"
     ]
    }
   ],
   "source": [
    "# Clean of white spaces\n",
    "train = train.applymap(lambda x: x.strip() if isinstance(x, str) else x)\n",
    "# Print statistics\n",
    "train.info()"
   ]
  },
  {
   "cell_type": "code",
   "execution_count": 8,
   "metadata": {},
   "outputs": [
    {
     "data": {
      "text/plain": [
       "1    12500\n",
       "0    12500\n",
       "Name: label, dtype: int64"
      ]
     },
     "execution_count": 8,
     "metadata": {},
     "output_type": "execute_result"
    }
   ],
   "source": [
    "# Distribution of positive and negative labels\n",
    "train[\"label\"].value_counts()"
   ]
  },
  {
   "cell_type": "code",
   "execution_count": 9,
   "metadata": {},
   "outputs": [
    {
     "name": "stdout",
     "output_type": "stream",
     "text": [
      "INFO: There are 25000 rows and 3 columns in the training set.\n"
     ]
    }
   ],
   "source": [
    "# Removing empty rows from csv \n",
    "train.dropna(axis=0,inplace=True)\n",
    "nRow, nCol = train.shape\n",
    "print(f'INFO: There are {nRow} rows and {nCol} columns in the training set.')"
   ]
  },
  {
   "cell_type": "code",
   "execution_count": 10,
   "metadata": {},
   "outputs": [
    {
     "data": {
      "text/plain": [
       "1    12500\n",
       "0    12500\n",
       "Name: label, dtype: int64"
      ]
     },
     "execution_count": 10,
     "metadata": {},
     "output_type": "execute_result"
    }
   ],
   "source": [
    "# Distribution of positive and negative labels\n",
    "train[\"label\"].value_counts()"
   ]
  },
  {
   "cell_type": "code",
   "execution_count": 11,
   "metadata": {},
   "outputs": [
    {
     "data": {
      "text/html": [
       "<div>\n",
       "<style scoped>\n",
       "    .dataframe tbody tr th:only-of-type {\n",
       "        vertical-align: middle;\n",
       "    }\n",
       "\n",
       "    .dataframe tbody tr th {\n",
       "        vertical-align: top;\n",
       "    }\n",
       "\n",
       "    .dataframe thead th {\n",
       "        text-align: right;\n",
       "    }\n",
       "</style>\n",
       "<table border=\"1\" class=\"dataframe\">\n",
       "  <thead>\n",
       "    <tr style=\"text-align: right;\">\n",
       "      <th></th>\n",
       "      <th>reviews</th>\n",
       "      <th>label</th>\n",
       "      <th>data_type</th>\n",
       "    </tr>\n",
       "  </thead>\n",
       "  <tbody>\n",
       "    <tr>\n",
       "      <th>0</th>\n",
       "      <td>This is one of the best films we watched in my...</td>\n",
       "      <td>1</td>\n",
       "      <td>train</td>\n",
       "    </tr>\n",
       "    <tr>\n",
       "      <th>1</th>\n",
       "      <td>Spoiler This movie is about such a concept. Wi...</td>\n",
       "      <td>1</td>\n",
       "      <td>train</td>\n",
       "    </tr>\n",
       "    <tr>\n",
       "      <th>2</th>\n",
       "      <td>Richard Attenborough is a director whose name ...</td>\n",
       "      <td>1</td>\n",
       "      <td>train</td>\n",
       "    </tr>\n",
       "    <tr>\n",
       "      <th>3</th>\n",
       "      <td>Joan Crawford had just begun her \"working girl...</td>\n",
       "      <td>1</td>\n",
       "      <td>train</td>\n",
       "    </tr>\n",
       "    <tr>\n",
       "      <th>4</th>\n",
       "      <td>I have just read the lead comment for this fil...</td>\n",
       "      <td>1</td>\n",
       "      <td>train</td>\n",
       "    </tr>\n",
       "  </tbody>\n",
       "</table>\n",
       "</div>"
      ],
      "text/plain": [
       "                                             reviews  label data_type\n",
       "0  This is one of the best films we watched in my...      1     train\n",
       "1  Spoiler This movie is about such a concept. Wi...      1     train\n",
       "2  Richard Attenborough is a director whose name ...      1     train\n",
       "3  Joan Crawford had just begun her \"working girl...      1     train\n",
       "4  I have just read the lead comment for this fil...      1     train"
      ]
     },
     "execution_count": 11,
     "metadata": {},
     "output_type": "execute_result"
    }
   ],
   "source": [
    "train.head()"
   ]
  },
  {
   "cell_type": "code",
   "execution_count": 12,
   "metadata": {},
   "outputs": [],
   "source": [
    "file_list = glob.glob(os.path.join(os.getcwd(), \"./aclImdb_v1/aclImdb/test/pos/\", \"*.txt\"))\n",
    "\n",
    "pos_test = []\n",
    "\n",
    "for file_path in file_list:\n",
    "    with open(file_path) as f_input:\n",
    "        pos_test.append(f_input.read())"
   ]
  },
  {
   "cell_type": "code",
   "execution_count": 13,
   "metadata": {},
   "outputs": [
    {
     "name": "stdout",
     "output_type": "stream",
     "text": [
      "INFO: There are 12500 rows and 3 columns in the training set.\n"
     ]
    }
   ],
   "source": [
    "pos_test_df = pd.DataFrame(pos_test, columns = [\"reviews\"])\n",
    "pos_test_df[\"label\"] = 1\n",
    "pos_test_df[\"data_type\"] = \"test\"\n",
    "\n",
    "nRow, nCol = pos_test_df.shape\n",
    "print(f'INFO: There are {nRow} rows and {nCol} columns in the training set.')"
   ]
  },
  {
   "cell_type": "code",
   "execution_count": 14,
   "metadata": {},
   "outputs": [],
   "source": [
    "file_list = glob.glob(os.path.join(os.getcwd(), \"./aclImdb_v1/aclImdb/test/neg/\", \"*.txt\"))\n",
    "\n",
    "neg_test = []\n",
    "\n",
    "for file_path in file_list:\n",
    "    with open(file_path) as f_input:\n",
    "        neg_test.append(f_input.read())"
   ]
  },
  {
   "cell_type": "code",
   "execution_count": 15,
   "metadata": {},
   "outputs": [
    {
     "name": "stdout",
     "output_type": "stream",
     "text": [
      "INFO: There are 12500 rows and 3 columns in the training set.\n"
     ]
    }
   ],
   "source": [
    "neg_test_df = pd.DataFrame(neg_test, columns = [\"reviews\"])\n",
    "neg_test_df[\"label\"] = 0\n",
    "neg_test_df[\"data_type\"] = \"test\"\n",
    "\n",
    "nRow, nCol = neg_test_df.shape\n",
    "print(f'INFO: There are {nRow} rows and {nCol} columns in the training set.')"
   ]
  },
  {
   "cell_type": "code",
   "execution_count": 16,
   "metadata": {},
   "outputs": [
    {
     "name": "stdout",
     "output_type": "stream",
     "text": [
      "INFO: There are 25000 rows and 3 columns in the training set.\n"
     ]
    }
   ],
   "source": [
    "test = pos_test_df.append(neg_test_df)\n",
    "\n",
    "nRow, nCol = test.shape\n",
    "print(f'INFO: There are {nRow} rows and {nCol} columns in the training set.')"
   ]
  },
  {
   "cell_type": "code",
   "execution_count": 17,
   "metadata": {},
   "outputs": [
    {
     "name": "stdout",
     "output_type": "stream",
     "text": [
      "<class 'pandas.core.frame.DataFrame'>\n",
      "Int64Index: 25000 entries, 0 to 12499\n",
      "Data columns (total 3 columns):\n",
      " #   Column     Non-Null Count  Dtype \n",
      "---  ------     --------------  ----- \n",
      " 0   reviews    25000 non-null  object\n",
      " 1   label      25000 non-null  int64 \n",
      " 2   data_type  25000 non-null  object\n",
      "dtypes: int64(1), object(2)\n",
      "memory usage: 781.2+ KB\n"
     ]
    }
   ],
   "source": [
    "# Clean of white spaces\n",
    "test = test.applymap(lambda x: x.strip() if isinstance(x, str) else x)\n",
    "# Print statistics\n",
    "test.info()"
   ]
  },
  {
   "cell_type": "code",
   "execution_count": 18,
   "metadata": {},
   "outputs": [
    {
     "data": {
      "text/plain": [
       "1    12500\n",
       "0    12500\n",
       "Name: label, dtype: int64"
      ]
     },
     "execution_count": 18,
     "metadata": {},
     "output_type": "execute_result"
    }
   ],
   "source": [
    "# Distribution of positive and negative labels\n",
    "test[\"label\"].value_counts()"
   ]
  },
  {
   "cell_type": "code",
   "execution_count": 19,
   "metadata": {},
   "outputs": [
    {
     "name": "stdout",
     "output_type": "stream",
     "text": [
      "INFO: There are 25000 rows and 3 columns in the training set.\n"
     ]
    }
   ],
   "source": [
    "# Removing empty rows from csv \n",
    "test.dropna(axis=0,inplace=True)\n",
    "nRow, nCol = test.shape\n",
    "print(f'INFO: There are {nRow} rows and {nCol} columns in the training set.')"
   ]
  },
  {
   "cell_type": "code",
   "execution_count": 20,
   "metadata": {},
   "outputs": [
    {
     "data": {
      "text/plain": [
       "1    12500\n",
       "0    12500\n",
       "Name: label, dtype: int64"
      ]
     },
     "execution_count": 20,
     "metadata": {},
     "output_type": "execute_result"
    }
   ],
   "source": [
    "# Distribution of positive and negative labels\n",
    "test[\"label\"].value_counts()"
   ]
  },
  {
   "cell_type": "code",
   "execution_count": 21,
   "metadata": {},
   "outputs": [
    {
     "data": {
      "text/html": [
       "<div>\n",
       "<style scoped>\n",
       "    .dataframe tbody tr th:only-of-type {\n",
       "        vertical-align: middle;\n",
       "    }\n",
       "\n",
       "    .dataframe tbody tr th {\n",
       "        vertical-align: top;\n",
       "    }\n",
       "\n",
       "    .dataframe thead th {\n",
       "        text-align: right;\n",
       "    }\n",
       "</style>\n",
       "<table border=\"1\" class=\"dataframe\">\n",
       "  <thead>\n",
       "    <tr style=\"text-align: right;\">\n",
       "      <th></th>\n",
       "      <th>reviews</th>\n",
       "      <th>label</th>\n",
       "      <th>data_type</th>\n",
       "    </tr>\n",
       "  </thead>\n",
       "  <tbody>\n",
       "    <tr>\n",
       "      <th>0</th>\n",
       "      <td>This movie is definitely one of the finest of ...</td>\n",
       "      <td>1</td>\n",
       "      <td>test</td>\n",
       "    </tr>\n",
       "    <tr>\n",
       "      <th>1</th>\n",
       "      <td>I recently saw this at the 2007 Palm Springs I...</td>\n",
       "      <td>1</td>\n",
       "      <td>test</td>\n",
       "    </tr>\n",
       "    <tr>\n",
       "      <th>2</th>\n",
       "      <td>This delightful movie tells the story of buds....</td>\n",
       "      <td>1</td>\n",
       "      <td>test</td>\n",
       "    </tr>\n",
       "    <tr>\n",
       "      <th>3</th>\n",
       "      <td>This movie was well done but it also made me f...</td>\n",
       "      <td>1</td>\n",
       "      <td>test</td>\n",
       "    </tr>\n",
       "    <tr>\n",
       "      <th>4</th>\n",
       "      <td>\"The Couch Trip\" is one of those silly comedie...</td>\n",
       "      <td>1</td>\n",
       "      <td>test</td>\n",
       "    </tr>\n",
       "  </tbody>\n",
       "</table>\n",
       "</div>"
      ],
      "text/plain": [
       "                                             reviews  label data_type\n",
       "0  This movie is definitely one of the finest of ...      1      test\n",
       "1  I recently saw this at the 2007 Palm Springs I...      1      test\n",
       "2  This delightful movie tells the story of buds....      1      test\n",
       "3  This movie was well done but it also made me f...      1      test\n",
       "4  \"The Couch Trip\" is one of those silly comedie...      1      test"
      ]
     },
     "execution_count": 21,
     "metadata": {},
     "output_type": "execute_result"
    }
   ],
   "source": [
    "test.head()"
   ]
  },
  {
   "cell_type": "code",
   "execution_count": 22,
   "metadata": {},
   "outputs": [
    {
     "name": "stdout",
     "output_type": "stream",
     "text": [
      "INFO: There are 50000 rows and 3 columns in the training set.\n"
     ]
    }
   ],
   "source": [
    "data = train.append(test)\n",
    "\n",
    "nRow, nCol = data.shape\n",
    "print(f'INFO: There are {nRow} rows and {nCol} columns in the training set.')"
   ]
  },
  {
   "cell_type": "code",
   "execution_count": 23,
   "metadata": {},
   "outputs": [
    {
     "data": {
      "text/plain": [
       "test     25000\n",
       "train    25000\n",
       "Name: data_type, dtype: int64"
      ]
     },
     "execution_count": 23,
     "metadata": {},
     "output_type": "execute_result"
    }
   ],
   "source": [
    "data[\"data_type\"].value_counts()"
   ]
  },
  {
   "cell_type": "code",
   "execution_count": 24,
   "metadata": {},
   "outputs": [
    {
     "data": {
      "text/html": [
       "<div>\n",
       "<style scoped>\n",
       "    .dataframe tbody tr th:only-of-type {\n",
       "        vertical-align: middle;\n",
       "    }\n",
       "\n",
       "    .dataframe tbody tr th {\n",
       "        vertical-align: top;\n",
       "    }\n",
       "\n",
       "    .dataframe thead th {\n",
       "        text-align: right;\n",
       "    }\n",
       "</style>\n",
       "<table border=\"1\" class=\"dataframe\">\n",
       "  <thead>\n",
       "    <tr style=\"text-align: right;\">\n",
       "      <th></th>\n",
       "      <th>reviews</th>\n",
       "      <th>label</th>\n",
       "      <th>data_type</th>\n",
       "    </tr>\n",
       "  </thead>\n",
       "  <tbody>\n",
       "    <tr>\n",
       "      <th>0</th>\n",
       "      <td>This is one of the best films we watched in my...</td>\n",
       "      <td>1</td>\n",
       "      <td>train</td>\n",
       "    </tr>\n",
       "    <tr>\n",
       "      <th>1</th>\n",
       "      <td>Spoiler This movie is about such a concept. Wi...</td>\n",
       "      <td>1</td>\n",
       "      <td>train</td>\n",
       "    </tr>\n",
       "    <tr>\n",
       "      <th>2</th>\n",
       "      <td>Richard Attenborough is a director whose name ...</td>\n",
       "      <td>1</td>\n",
       "      <td>train</td>\n",
       "    </tr>\n",
       "    <tr>\n",
       "      <th>3</th>\n",
       "      <td>Joan Crawford had just begun her \"working girl...</td>\n",
       "      <td>1</td>\n",
       "      <td>train</td>\n",
       "    </tr>\n",
       "    <tr>\n",
       "      <th>4</th>\n",
       "      <td>I have just read the lead comment for this fil...</td>\n",
       "      <td>1</td>\n",
       "      <td>train</td>\n",
       "    </tr>\n",
       "  </tbody>\n",
       "</table>\n",
       "</div>"
      ],
      "text/plain": [
       "                                             reviews  label data_type\n",
       "0  This is one of the best films we watched in my...      1     train\n",
       "1  Spoiler This movie is about such a concept. Wi...      1     train\n",
       "2  Richard Attenborough is a director whose name ...      1     train\n",
       "3  Joan Crawford had just begun her \"working girl...      1     train\n",
       "4  I have just read the lead comment for this fil...      1     train"
      ]
     },
     "execution_count": 24,
     "metadata": {},
     "output_type": "execute_result"
    }
   ],
   "source": [
    "data.head()"
   ]
  },
  {
   "cell_type": "code",
   "execution_count": 25,
   "metadata": {},
   "outputs": [],
   "source": [
    "def preprocess_text(rev):\n",
    "    # Removing html tags\n",
    "    sentence = remove_tags(rev)\n",
    "\n",
    "    # Remove punctuations and numbers\n",
    "    sentence = re.sub('[^a-zA-Z]', ' ', sentence)\n",
    "\n",
    "    # Single character removal\n",
    "    sentence = re.sub(r\"\\s+[a-zA-Z]\\s+\", ' ', sentence)\n",
    "\n",
    "    # Removing multiple spaces\n",
    "    sentence = re.sub(r'\\s+', ' ', sentence)\n",
    "\n",
    "    return sentence"
   ]
  },
  {
   "cell_type": "code",
   "execution_count": 26,
   "metadata": {},
   "outputs": [],
   "source": [
    "TAG_RE = re.compile(r'<[^>]+>')\n",
    "\n",
    "def remove_tags(text):\n",
    "    return TAG_RE.sub('', text)"
   ]
  },
  {
   "cell_type": "code",
   "execution_count": 27,
   "metadata": {},
   "outputs": [],
   "source": [
    "X = []\n",
    "sentences = list(data['reviews'])\n",
    "for rev in sentences:\n",
    "    X.append(preprocess_text(rev))"
   ]
  },
  {
   "cell_type": "code",
   "execution_count": 28,
   "metadata": {},
   "outputs": [],
   "source": [
    "X_train, X_test, y_train, y_test = train_test_split(X, data['label'], test_size=0.20, random_state=80)"
   ]
  },
  {
   "cell_type": "code",
   "execution_count": 29,
   "metadata": {},
   "outputs": [],
   "source": [
    "tokenizer = Tokenizer(num_words=5000)\n",
    "tokenizer.fit_on_texts(X_train)\n",
    "\n",
    "X_train = tokenizer.texts_to_sequences(X_train)\n",
    "X_test = tokenizer.texts_to_sequences(X_test)"
   ]
  },
  {
   "cell_type": "code",
   "execution_count": 30,
   "metadata": {},
   "outputs": [],
   "source": [
    "# Adding 1 because of reserved 0 index\n",
    "vocab_size = len(tokenizer.word_index) + 1\n",
    "\n",
    "maxlen = 200\n",
    "\n",
    "X_train = pad_sequences(X_train, padding='post', maxlen=maxlen)\n",
    "X_test = pad_sequences(X_test, padding='post', maxlen=maxlen)"
   ]
  },
  {
   "cell_type": "code",
   "execution_count": 31,
   "metadata": {},
   "outputs": [],
   "source": [
    "from numpy import array\n",
    "from numpy import asarray\n",
    "from numpy import zeros\n",
    "\n",
    "embeddings_dictionary = dict()\n",
    "glove_file = open('./glove.840B.300d.txt', 'r', errors = 'ignore', encoding='utf-8')\n",
    "\n",
    "for line in glove_file:\n",
    "    records = line.split(' ')\n",
    "    word = records[0]\n",
    "    vector_dimensions = asarray(records[1:], dtype='float32')\n",
    "    embeddings_dictionary [word] = vector_dimensions\n",
    "glove_file.close()"
   ]
  },
  {
   "cell_type": "code",
   "execution_count": 32,
   "metadata": {},
   "outputs": [],
   "source": [
    "embedding_matrix = zeros((vocab_size, 300))\n",
    "for word, index in tokenizer.word_index.items():\n",
    "    embedding_vector = embeddings_dictionary.get(word)\n",
    "    if embedding_vector is not None:\n",
    "        embedding_matrix[index] = embedding_vector"
   ]
  },
  {
   "cell_type": "code",
   "execution_count": 215,
   "metadata": {},
   "outputs": [],
   "source": [
    "opt = tf.keras.optimizers.RMSprop(learning_rate=0.0001)"
   ]
  },
  {
   "cell_type": "code",
   "execution_count": 252,
   "metadata": {},
   "outputs": [],
   "source": [
    "model = Sequential()\n",
    "\n",
    "embedding_layer = Embedding(vocab_size, 300, weights=[embedding_matrix], input_length=maxlen , trainable=False)\n",
    "model.add(embedding_layer)\n",
    "\n",
    "model.add(LSTM(4, activation=\"tanh\", return_sequences=True))\n",
    "# model.add(Reshape([1600], input_shape=(None, 200, 8)))\n",
    "model.add(Flatten())\n",
    "model.add(RepeatVector((5)))\n",
    "model.add(LSTM(8, activation=\"tanh\", return_sequences=True))\n",
    "# model.add(Reshape(([128]), input_shape=(None, 8, 16)))\n",
    "model.add(TimeDistributed(Dense(1)))\n",
    "# model.add(Reshape(([16]), input_shape=(None, 16, 1)))\n",
    "model.add(Flatten())\n",
    "model.add(Dense(1, activation='sigmoid'))\n",
    "model.compile(optimizer=opt, loss='binary_crossentropy', \n",
    "              metrics=[tf.keras.metrics.AUC(num_thresholds=1200, curve='ROC', summation_method='interpolation'), \n",
    "                       'accuracy'])"
   ]
  },
  {
   "cell_type": "code",
   "execution_count": 253,
   "metadata": {},
   "outputs": [
    {
     "name": "stdout",
     "output_type": "stream",
     "text": [
      "Model: \"sequential_88\"\n",
      "_________________________________________________________________\n",
      "Layer (type)                 Output Shape              Param #   \n",
      "=================================================================\n",
      "embedding_88 (Embedding)     (None, 200, 300)          27748800  \n",
      "_________________________________________________________________\n",
      "lstm_154 (LSTM)              (None, 200, 4)            4880      \n",
      "_________________________________________________________________\n",
      "flatten_32 (Flatten)         (None, 800)               0         \n",
      "_________________________________________________________________\n",
      "repeat_vector_36 (RepeatVect (None, 5, 800)            0         \n",
      "_________________________________________________________________\n",
      "lstm_155 (LSTM)              (None, 5, 8)              25888     \n",
      "_________________________________________________________________\n",
      "time_distributed_57 (TimeDis (None, 5, 1)              9         \n",
      "_________________________________________________________________\n",
      "flatten_33 (Flatten)         (None, 5)                 0         \n",
      "_________________________________________________________________\n",
      "dense_93 (Dense)             (None, 1)                 6         \n",
      "=================================================================\n",
      "Total params: 27,779,583\n",
      "Trainable params: 30,783\n",
      "Non-trainable params: 27,748,800\n",
      "_________________________________________________________________\n",
      "None\n"
     ]
    }
   ],
   "source": [
    "print(model.summary())"
   ]
  },
  {
   "cell_type": "code",
   "execution_count": 254,
   "metadata": {},
   "outputs": [
    {
     "name": "stdout",
     "output_type": "stream",
     "text": [
      "Train on 32000 samples, validate on 8000 samples\n",
      "Epoch 1/25\n",
      "32000/32000 [==============================] - 85s 3ms/step - loss: 0.6070 - auc_50: 0.6128 - accuracy: 0.6535 - val_loss: 0.4917 - val_auc_50: 0.7418 - val_accuracy: 0.7675\n",
      "Epoch 2/25\n",
      "32000/32000 [==============================] - 82s 3ms/step - loss: 0.4476 - auc_50: 0.7886 - accuracy: 0.7948 - val_loss: 0.4084 - val_auc_50: 0.8201 - val_accuracy: 0.8159\n",
      "Epoch 3/25\n",
      "32000/32000 [==============================] - 78s 2ms/step - loss: 0.3975 - auc_50: 0.8382 - accuracy: 0.8217 - val_loss: 0.3759 - val_auc_50: 0.8524 - val_accuracy: 0.8325\n",
      "Epoch 4/25\n",
      "32000/32000 [==============================] - 81s 3ms/step - loss: 0.3713 - auc_50: 0.8628 - accuracy: 0.8358 - val_loss: 0.3650 - val_auc_50: 0.8706 - val_accuracy: 0.8361\n",
      "Epoch 5/25\n",
      "32000/32000 [==============================] - 81s 3ms/step - loss: 0.3549 - auc_50: 0.8769 - accuracy: 0.8443 - val_loss: 0.3491 - val_auc_50: 0.8825 - val_accuracy: 0.8471\n",
      "Epoch 6/25\n",
      "32000/32000 [==============================] - 82s 3ms/step - loss: 0.3430 - auc_50: 0.8870 - accuracy: 0.8503 - val_loss: 0.3515 - val_auc_50: 0.8910 - val_accuracy: 0.8457\n",
      "Epoch 7/25\n",
      "32000/32000 [==============================] - 82s 3ms/step - loss: 0.3337 - auc_50: 0.8943 - accuracy: 0.8553 - val_loss: 0.3287 - val_auc_50: 0.8975 - val_accuracy: 0.8564\n",
      "Epoch 8/25\n",
      "32000/32000 [==============================] - 81s 3ms/step - loss: 0.3256 - auc_50: 0.9003 - accuracy: 0.8582 - val_loss: 0.3199 - val_auc_50: 0.9028 - val_accuracy: 0.8635\n",
      "Epoch 9/25\n",
      "32000/32000 [==============================] - 83s 3ms/step - loss: 0.3191 - auc_50: 0.9051 - accuracy: 0.8625 - val_loss: 0.3158 - val_auc_50: 0.9072 - val_accuracy: 0.8630\n",
      "Epoch 10/25\n",
      "32000/32000 [==============================] - 82s 3ms/step - loss: 0.3127 - auc_50: 0.9091 - accuracy: 0.8663 - val_loss: 0.3222 - val_auc_50: 0.9109 - val_accuracy: 0.8564\n",
      "Epoch 11/25\n",
      "32000/32000 [==============================] - 84s 3ms/step - loss: 0.3076 - auc_50: 0.9125 - accuracy: 0.8684 - val_loss: 0.3121 - val_auc_50: 0.9140 - val_accuracy: 0.8637\n",
      "Epoch 12/25\n",
      "32000/32000 [==============================] - 84s 3ms/step - loss: 0.3023 - auc_50: 0.9154 - accuracy: 0.8702 - val_loss: 0.3033 - val_auc_50: 0.9168 - val_accuracy: 0.8716\n",
      "Epoch 13/25\n",
      "32000/32000 [==============================] - 85s 3ms/step - loss: 0.2982 - auc_50: 0.9181 - accuracy: 0.8732 - val_loss: 0.3022 - val_auc_50: 0.9193 - val_accuracy: 0.8733\n",
      "Epoch 14/25\n",
      "32000/32000 [==============================] - 83s 3ms/step - loss: 0.2942 - auc_50: 0.9204 - accuracy: 0.8746 - val_loss: 0.2989 - val_auc_50: 0.9215 - val_accuracy: 0.8742\n",
      "Epoch 15/25\n",
      "32000/32000 [==============================] - 84s 3ms/step - loss: 0.2900 - auc_50: 0.9225 - accuracy: 0.8763 - val_loss: 0.3094 - val_auc_50: 0.9235 - val_accuracy: 0.8686\n",
      "Epoch 16/25\n",
      "32000/32000 [==============================] - 84s 3ms/step - loss: 0.2866 - auc_50: 0.9243 - accuracy: 0.8779 - val_loss: 0.2964 - val_auc_50: 0.9252 - val_accuracy: 0.8766\n",
      "Epoch 17/25\n",
      "32000/32000 [==============================] - 83s 3ms/step - loss: 0.2828 - auc_50: 0.9261 - accuracy: 0.8806 - val_loss: 0.3022 - val_auc_50: 0.9269 - val_accuracy: 0.8691\n",
      "Epoch 18/25\n",
      "32000/32000 [==============================] - 85s 3ms/step - loss: 0.2800 - auc_50: 0.9276 - accuracy: 0.8821 - val_loss: 0.3008 - val_auc_50: 0.9283 - val_accuracy: 0.8735\n",
      "Epoch 19/25\n",
      "32000/32000 [==============================] - 84s 3ms/step - loss: 0.2765 - auc_50: 0.9291 - accuracy: 0.8820 - val_loss: 0.2939 - val_auc_50: 0.9297 - val_accuracy: 0.8752\n",
      "Epoch 20/25\n",
      "32000/32000 [==============================] - 85s 3ms/step - loss: 0.2744 - auc_50: 0.9304 - accuracy: 0.8847 - val_loss: 0.2914 - val_auc_50: 0.9310 - val_accuracy: 0.8774\n",
      "Epoch 21/25\n",
      "32000/32000 [==============================] - 84s 3ms/step - loss: 0.2709 - auc_50: 0.9316 - accuracy: 0.8846 - val_loss: 0.2914 - val_auc_50: 0.9322 - val_accuracy: 0.8785\n",
      "Epoch 22/25\n",
      "32000/32000 [==============================] - 83s 3ms/step - loss: 0.2685 - auc_50: 0.9328 - accuracy: 0.8864 - val_loss: 0.2904 - val_auc_50: 0.9334 - val_accuracy: 0.8775\n",
      "Epoch 23/25\n",
      "32000/32000 [==============================] - 84s 3ms/step - loss: 0.2654 - auc_50: 0.9339 - accuracy: 0.8881 - val_loss: 0.2884 - val_auc_50: 0.9345 - val_accuracy: 0.8779\n",
      "Epoch 24/25\n",
      "32000/32000 [==============================] - 84s 3ms/step - loss: 0.2627 - auc_50: 0.9350 - accuracy: 0.8888 - val_loss: 0.2888 - val_auc_50: 0.9355 - val_accuracy: 0.8767\n",
      "Epoch 25/25\n",
      "32000/32000 [==============================] - 84s 3ms/step - loss: 0.2606 - auc_50: 0.9360 - accuracy: 0.8915 - val_loss: 0.2895 - val_auc_50: 0.9364 - val_accuracy: 0.8783\n"
     ]
    }
   ],
   "source": [
    "history = model.fit(X_train, y_train, batch_size=32, epochs=25, verbose=1, validation_split=0.2)"
   ]
  },
  {
   "cell_type": "code",
   "execution_count": 255,
   "metadata": {},
   "outputs": [
    {
     "data": {
      "image/png": "[encoded data removed]",
      "text/plain": [
       "<Figure size 432x288 with 1 Axes>"
      ]
     },
     "metadata": {},
     "output_type": "display_data"
    }
   ],
   "source": [
    "# Plot training & validation accuracy values\n",
    "plt.plot(history.history['accuracy'])\n",
    "plt.plot(history.history['val_accuracy'])\n",
    "plt.title('Model accuracy')\n",
    "plt.ylabel('Accuracy')\n",
    "plt.xlabel('Epoch')\n",
    "plt.legend(['Train', 'Test'], loc='upper left')\n",
    "plt.show()"
   ]
  },
  {
   "cell_type": "code",
   "execution_count": 256,
   "metadata": {},
   "outputs": [
    {
     "data": {
      "image/png": "[encoded data removed]",
      "text/plain": [
       "<Figure size 432x288 with 1 Axes>"
      ]
     },
     "metadata": {},
     "output_type": "display_data"
    }
   ],
   "source": [
    "# Plot training & validation loss values\n",
    "plt.plot(history.history['loss'])\n",
    "plt.plot(history.history['val_loss'])\n",
    "plt.title('Model loss')\n",
    "plt.ylabel('Loss')\n",
    "plt.xlabel('Epoch')\n",
    "plt.legend(['Train', 'Test'], loc='upper left')\n",
    "plt.show()"
   ]
  },
  {
   "cell_type": "code",
   "execution_count": 257,
   "metadata": {},
   "outputs": [
    {
     "name": "stdout",
     "output_type": "stream",
     "text": [
      "\n",
      "# Evaluate on test data\n",
      "10000/10000 [==============================] - 3s 308us/step\n",
      "test loss, test acc: [0.305900266456604, 0.936504602432251, 0.8734999895095825]\n",
      "\n",
      "# Generate predictions for 3 samples\n",
      "predictions shape: (3, 1)\n"
     ]
    }
   ],
   "source": [
    "print('\\n# Evaluate on test data')\n",
    "results = model.evaluate(X_test, y_test, batch_size=128)\n",
    "print('test loss, test acc:', results)\n",
    "\n",
    "# Generate predictions (probabilities -- the output of the last layer)\n",
    "# on new data using `predict`\n",
    "print('\\n# Generate predictions for 3 samples')\n",
    "predictions = model.predict(X_test[:3])\n",
    "print('predictions shape:', predictions.shape)"
   ]
  },
  {
   "cell_type": "code",
   "execution_count": 258,
   "metadata": {},
   "outputs": [
    {
     "name": "stdout",
     "output_type": "stream",
     "text": [
      "10000/10000 [==============================] - 3s 295us/step\n"
     ]
    }
   ],
   "source": [
    "model_pred = model.predict(X_test, batch_size=128, verbose=1)\n",
    "# model_predicted = np.argmax(model_pred, axis=0)"
   ]
  },
  {
   "cell_type": "code",
   "execution_count": 259,
   "metadata": {},
   "outputs": [
    {
     "data": {
      "text/plain": [
       "array([[4445,  618],\n",
       "       [ 647, 4290]])"
      ]
     },
     "execution_count": 259,
     "metadata": {},
     "output_type": "execute_result"
    }
   ],
   "source": [
    "model_cm = confusion_matrix(y_test, model_pred.round()) \n",
    "model_cm"
   ]
  },
  {
   "cell_type": "code",
   "execution_count": 260,
   "metadata": {},
   "outputs": [
    {
     "data": {
      "image/png": "[encoded data removed]",
      "text/plain": [
       "<Figure size 576x288 with 2 Axes>"
      ]
     },
     "metadata": {},
     "output_type": "display_data"
    }
   ],
   "source": [
    "model_df_cm = pd.DataFrame(model_cm, range(2), range(2)) \n",
    "plt.figure(figsize = (8, 4)) \n",
    "plt.title('Confusion Matrix')\n",
    "sn.set(font_scale=1.4) #for label size \n",
    "sn.heatmap(model_df_cm, annot=True, annot_kws={\"size\": 12}, fmt=\"d\") # font size \n",
    "plt.show()"
   ]
  },
  {
   "cell_type": "code",
   "execution_count": 261,
   "metadata": {},
   "outputs": [
    {
     "name": "stdout",
     "output_type": "stream",
     "text": [
      "              precision    recall  f1-score   support\n",
      "\n",
      "           0       0.87      0.88      0.88      5063\n",
      "           1       0.87      0.87      0.87      4937\n",
      "\n",
      "    accuracy                           0.87     10000\n",
      "   macro avg       0.87      0.87      0.87     10000\n",
      "weighted avg       0.87      0.87      0.87     10000\n",
      "\n"
     ]
    }
   ],
   "source": [
    "model_report = classification_report(y_test, model_pred.round())\n",
    "print(model_report)"
   ]
  },
  {
   "cell_type": "code",
   "execution_count": null,
   "metadata": {},
   "outputs": [],
   "source": []
  }
 ],
 "metadata": {
  "kernelspec": {
   "display_name": "csce771",
   "language": "python",
   "name": "csce771"
  },
  "language_info": {
   "codemirror_mode": {
    "name": "ipython",
    "version": 3
   },
   "file_extension": ".py",
   "mimetype": "text/x-python",
   "name": "python",
   "nbconvert_exporter": "python",
   "pygments_lexer": "ipython3",
   "version": "3.6.10"
  }
 },
 "nbformat": 4,
 "nbformat_minor": 4
}
