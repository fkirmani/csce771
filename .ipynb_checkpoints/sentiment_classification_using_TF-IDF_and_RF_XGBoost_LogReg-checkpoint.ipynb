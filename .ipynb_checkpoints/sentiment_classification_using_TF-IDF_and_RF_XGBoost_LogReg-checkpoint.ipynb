{
 "cells": [
  {
   "cell_type": "markdown",
   "metadata": {},
   "source": [
    "### Exploring Sentiment Classification using TF-IDF Vectorization and Machine Learning Models\n",
    "#### Large Movie Reviews Data used for analysis comes from http://ai.stanford.edu/~amaas/data/sentiment/\n",
    "\n",
    "\n",
    "\n",
    "By: Fawad Kirmani\n",
    "\n",
    "Last Edited On: 11/10/2020"
   ]
  },
  {
   "cell_type": "code",
   "execution_count": 1,
   "metadata": {},
   "outputs": [],
   "source": [
    "import pandas as pd\n",
    "import glob\n",
    "import os\n",
    "import seaborn as sn\n",
    "import matplotlib.pyplot as plt\n",
    "import numpy as np"
   ]
  },
  {
   "cell_type": "markdown",
   "metadata": {},
   "source": [
    "#### Location of the input file"
   ]
  },
  {
   "cell_type": "code",
   "execution_count": 3,
   "metadata": {},
   "outputs": [],
   "source": [
    "pos_train_file = \"./aclImdb_v1/aclImdb/train/pos/\"\n",
    "neg_train_file = \"./aclImdb_v1/aclImdb/train/neg/\"\n",
    "pos_test_file = \"./aclImdb_v1/aclImdb/test/pos/\"\n",
    "neg_test_file = \"./aclImdb_v1/aclImdb/test/neg/\""
   ]
  },
  {
   "cell_type": "code",
   "execution_count": 4,
   "metadata": {},
   "outputs": [],
   "source": [
    "input_files = [pos_train_file, neg_train_file, pos_test_file, neg_test_file]"
   ]
  },
  {
   "cell_type": "markdown",
   "metadata": {},
   "source": [
    "#### Importing data"
   ]
  },
  {
   "cell_type": "code",
   "execution_count": 5,
   "metadata": {},
   "outputs": [],
   "source": [
    "def import_data(filename):\n",
    "    file_list = glob.glob(os.path.join(os.getcwd(), filename, \"*.txt\"))\n",
    "\n",
    "    input_data = []\n",
    "\n",
    "    for file_path in file_list:\n",
    "        with open(file_path) as f_input:\n",
    "            input_data.append(f_input.read())\n",
    "    return input_data"
   ]
  },
  {
   "cell_type": "code",
   "execution_count": 6,
   "metadata": {},
   "outputs": [],
   "source": [
    "def overall_data(input_files):\n",
    "    data = pd.DataFrame()\n",
    "    for i in range(len(input_files)):\n",
    "        df = pd.DataFrame(import_data(filename=input_files[i]), columns = [\"reviews\"])\n",
    "        if input_files[i].find(\"/pos\") > 0:\n",
    "            df[\"label\"] = 1\n",
    "        else:\n",
    "            df[\"label\"] = 0\n",
    "        if input_files[i].find(\"/train\") > 0:\n",
    "            df[\"data_type\"] = \"train\"\n",
    "        else:\n",
    "            df[\"data_type\"] = \"test\"\n",
    "        data = data.append(df)\n",
    "    data.applymap(lambda x: x.strip() if isinstance(x, str) else x)\n",
    "    data.dropna(axis=0,inplace=True)\n",
    "    return data"
   ]
  },
  {
   "cell_type": "code",
   "execution_count": 7,
   "metadata": {},
   "outputs": [],
   "source": [
    "data = overall_data(input_files=input_files)"
   ]
  },
  {
   "cell_type": "code",
   "execution_count": 8,
   "metadata": {},
   "outputs": [
    {
     "data": {
      "text/html": [
       "<div>\n",
       "<style scoped>\n",
       "    .dataframe tbody tr th:only-of-type {\n",
       "        vertical-align: middle;\n",
       "    }\n",
       "\n",
       "    .dataframe tbody tr th {\n",
       "        vertical-align: top;\n",
       "    }\n",
       "\n",
       "    .dataframe thead th {\n",
       "        text-align: right;\n",
       "    }\n",
       "</style>\n",
       "<table border=\"1\" class=\"dataframe\">\n",
       "  <thead>\n",
       "    <tr style=\"text-align: right;\">\n",
       "      <th></th>\n",
       "      <th>reviews</th>\n",
       "      <th>label</th>\n",
       "      <th>data_type</th>\n",
       "    </tr>\n",
       "  </thead>\n",
       "  <tbody>\n",
       "    <tr>\n",
       "      <th>0</th>\n",
       "      <td>This is one of the best films we watched in my...</td>\n",
       "      <td>1</td>\n",
       "      <td>train</td>\n",
       "    </tr>\n",
       "    <tr>\n",
       "      <th>1</th>\n",
       "      <td>Spoiler This movie is about such a concept. Wi...</td>\n",
       "      <td>1</td>\n",
       "      <td>train</td>\n",
       "    </tr>\n",
       "    <tr>\n",
       "      <th>2</th>\n",
       "      <td>Richard Attenborough is a director whose name ...</td>\n",
       "      <td>1</td>\n",
       "      <td>train</td>\n",
       "    </tr>\n",
       "    <tr>\n",
       "      <th>3</th>\n",
       "      <td>Joan Crawford had just begun her \"working girl...</td>\n",
       "      <td>1</td>\n",
       "      <td>train</td>\n",
       "    </tr>\n",
       "    <tr>\n",
       "      <th>4</th>\n",
       "      <td>I have just read the lead comment for this fil...</td>\n",
       "      <td>1</td>\n",
       "      <td>train</td>\n",
       "    </tr>\n",
       "  </tbody>\n",
       "</table>\n",
       "</div>"
      ],
      "text/plain": [
       "                                             reviews  label data_type\n",
       "0  This is one of the best films we watched in my...      1     train\n",
       "1  Spoiler This movie is about such a concept. Wi...      1     train\n",
       "2  Richard Attenborough is a director whose name ...      1     train\n",
       "3  Joan Crawford had just begun her \"working girl...      1     train\n",
       "4  I have just read the lead comment for this fil...      1     train"
      ]
     },
     "execution_count": 8,
     "metadata": {},
     "output_type": "execute_result"
    }
   ],
   "source": [
    "data.head()"
   ]
  },
  {
   "cell_type": "code",
   "execution_count": 9,
   "metadata": {},
   "outputs": [
    {
     "name": "stdout",
     "output_type": "stream",
     "text": [
      "<class 'pandas.core.frame.DataFrame'>\n",
      "Int64Index: 50000 entries, 0 to 12499\n",
      "Data columns (total 3 columns):\n",
      " #   Column     Non-Null Count  Dtype \n",
      "---  ------     --------------  ----- \n",
      " 0   reviews    50000 non-null  object\n",
      " 1   label      50000 non-null  int64 \n",
      " 2   data_type  50000 non-null  object\n",
      "dtypes: int64(1), object(2)\n",
      "memory usage: 1.5+ MB\n"
     ]
    }
   ],
   "source": [
    "# Cleaning the data\n",
    "data = data.applymap(lambda x: x.strip() if isinstance(x, str) else x)\n",
    "# Print statistics\n",
    "data.info()"
   ]
  },
  {
   "cell_type": "code",
   "execution_count": 10,
   "metadata": {},
   "outputs": [
    {
     "data": {
      "text/plain": [
       "1    25000\n",
       "0    25000\n",
       "Name: label, dtype: int64"
      ]
     },
     "execution_count": 10,
     "metadata": {},
     "output_type": "execute_result"
    }
   ],
   "source": [
    "# Distribution of positive and negative labels\n",
    "data[\"label\"].value_counts()"
   ]
  },
  {
   "cell_type": "code",
   "execution_count": 11,
   "metadata": {},
   "outputs": [
    {
     "name": "stdout",
     "output_type": "stream",
     "text": [
      "INFO: There are 50000 rows and 3 columns in the data set.\n"
     ]
    }
   ],
   "source": [
    "# Removing empty rows from csv \n",
    "data.dropna(axis=0,inplace=True)\n",
    "nRow, nCol = data.shape\n",
    "print(f'INFO: There are {nRow} rows and {nCol} columns in the data set.')"
   ]
  },
  {
   "cell_type": "code",
   "execution_count": 12,
   "metadata": {},
   "outputs": [],
   "source": [
    "# Import for tokenization \n",
    "from nltk.tokenize import word_tokenize"
   ]
  },
  {
   "cell_type": "code",
   "execution_count": 13,
   "metadata": {},
   "outputs": [
    {
     "data": {
      "text/html": [
       "<div>\n",
       "<style scoped>\n",
       "    .dataframe tbody tr th:only-of-type {\n",
       "        vertical-align: middle;\n",
       "    }\n",
       "\n",
       "    .dataframe tbody tr th {\n",
       "        vertical-align: top;\n",
       "    }\n",
       "\n",
       "    .dataframe thead th {\n",
       "        text-align: right;\n",
       "    }\n",
       "</style>\n",
       "<table border=\"1\" class=\"dataframe\">\n",
       "  <thead>\n",
       "    <tr style=\"text-align: right;\">\n",
       "      <th></th>\n",
       "      <th>reviews</th>\n",
       "      <th>label</th>\n",
       "      <th>data_type</th>\n",
       "      <th>title_tokenize</th>\n",
       "    </tr>\n",
       "  </thead>\n",
       "  <tbody>\n",
       "    <tr>\n",
       "      <th>0</th>\n",
       "      <td>This is one of the best films we watched in my...</td>\n",
       "      <td>1</td>\n",
       "      <td>train</td>\n",
       "      <td>[This, is, one, of, the, best, films, we, watc...</td>\n",
       "    </tr>\n",
       "    <tr>\n",
       "      <th>1</th>\n",
       "      <td>Spoiler This movie is about such a concept. Wi...</td>\n",
       "      <td>1</td>\n",
       "      <td>train</td>\n",
       "      <td>[Spoiler, This, movie, is, about, such, a, con...</td>\n",
       "    </tr>\n",
       "    <tr>\n",
       "      <th>2</th>\n",
       "      <td>Richard Attenborough is a director whose name ...</td>\n",
       "      <td>1</td>\n",
       "      <td>train</td>\n",
       "      <td>[Richard, Attenborough, is, a, director, whose...</td>\n",
       "    </tr>\n",
       "    <tr>\n",
       "      <th>3</th>\n",
       "      <td>Joan Crawford had just begun her \"working girl...</td>\n",
       "      <td>1</td>\n",
       "      <td>train</td>\n",
       "      <td>[Joan, Crawford, had, just, begun, her, ``, wo...</td>\n",
       "    </tr>\n",
       "    <tr>\n",
       "      <th>4</th>\n",
       "      <td>I have just read the lead comment for this fil...</td>\n",
       "      <td>1</td>\n",
       "      <td>train</td>\n",
       "      <td>[I, have, just, read, the, lead, comment, for,...</td>\n",
       "    </tr>\n",
       "  </tbody>\n",
       "</table>\n",
       "</div>"
      ],
      "text/plain": [
       "                                             reviews  label data_type  \\\n",
       "0  This is one of the best films we watched in my...      1     train   \n",
       "1  Spoiler This movie is about such a concept. Wi...      1     train   \n",
       "2  Richard Attenborough is a director whose name ...      1     train   \n",
       "3  Joan Crawford had just begun her \"working girl...      1     train   \n",
       "4  I have just read the lead comment for this fil...      1     train   \n",
       "\n",
       "                                      title_tokenize  \n",
       "0  [This, is, one, of, the, best, films, we, watc...  \n",
       "1  [Spoiler, This, movie, is, about, such, a, con...  \n",
       "2  [Richard, Attenborough, is, a, director, whose...  \n",
       "3  [Joan, Crawford, had, just, begun, her, ``, wo...  \n",
       "4  [I, have, just, read, the, lead, comment, for,...  "
      ]
     },
     "execution_count": 13,
     "metadata": {},
     "output_type": "execute_result"
    }
   ],
   "source": [
    "# Tokenize\n",
    "data['title_tokenize'] = data['reviews'].apply(word_tokenize)\n",
    "\n",
    "data.head()"
   ]
  },
  {
   "cell_type": "code",
   "execution_count": 14,
   "metadata": {},
   "outputs": [],
   "source": [
    "targets = data['label'].values"
   ]
  },
  {
   "cell_type": "markdown",
   "metadata": {},
   "source": [
    "#### TF-IDF Transformer"
   ]
  },
  {
   "cell_type": "code",
   "execution_count": 15,
   "metadata": {},
   "outputs": [],
   "source": [
    "from sklearn.feature_extraction.text import CountVectorizer\n",
    "from sklearn.feature_extraction.text import TfidfTransformer"
   ]
  },
  {
   "cell_type": "code",
   "execution_count": 16,
   "metadata": {},
   "outputs": [],
   "source": [
    "# We will consider 1- to 5- gram\n",
    "transformer = TfidfTransformer(smooth_idf=False)\n",
    "count_vectorizer = CountVectorizer(ngram_range=(1, 5))"
   ]
  },
  {
   "cell_type": "code",
   "execution_count": 17,
   "metadata": {},
   "outputs": [],
   "source": [
    "# fit data to the count vectorizer\n",
    "data_counts = count_vectorizer.fit_transform(data['reviews'].values)\n",
    "\n",
    "#fit the ngrams count to the tfidf transformers\n",
    "data_tfidf = transformer.fit_transform(data_counts)"
   ]
  },
  {
   "cell_type": "code",
   "execution_count": 18,
   "metadata": {},
   "outputs": [],
   "source": [
    "from sklearn.model_selection import train_test_split\n",
    "\n",
    "#  The train and test data is divided into 75% to 25% ratio\n",
    "X_train, X_test, y_train, y_test = train_test_split(data_tfidf, targets, random_state=0)"
   ]
  },
  {
   "cell_type": "code",
   "execution_count": 19,
   "metadata": {},
   "outputs": [],
   "source": [
    "# Import for prediction\n",
    "from sklearn.ensemble import RandomForestClassifier\n",
    "from sklearn.linear_model import LogisticRegression\n",
    "from sklearn.metrics import confusion_matrix, classification_report\n",
    "from sklearn.model_selection import GridSearchCV\n",
    "import xgboost as xgb"
   ]
  },
  {
   "cell_type": "markdown",
   "metadata": {},
   "source": [
    "#### Random Forest Classification Model"
   ]
  },
  {
   "cell_type": "code",
   "execution_count": 20,
   "metadata": {},
   "outputs": [],
   "source": [
    "# n_estimators = [550, 600, 650, 700]\n",
    "# # max_features = [1]\n",
    "# class_weight = ['balanced']\n",
    "# criterion = ['gini']\n",
    "# min_samples_split = [2]\n",
    "# min_samples_leaf = [60, 70, 80]\n",
    "# # max_depth = [None]\n",
    "# # max_leaf_nodes = [3, 7]\n",
    "# # min_impurity_decrease = [0.0]\n",
    "# # min_weight_fraction_leaf = [0]\n",
    "# n_jobs = [-1]\n",
    "# # oob_score = [True]\n",
    "# random_state = [88888]\n",
    "# param_grid = dict(n_estimators=n_estimators, criterion=criterion, min_samples_split=min_samples_split,\n",
    "#                   n_jobs=n_jobs, random_state=random_state, class_weight=class_weight,\n",
    "#                   min_samples_leaf=min_samples_leaf)"
   ]
  },
  {
   "cell_type": "code",
   "execution_count": 21,
   "metadata": {},
   "outputs": [],
   "source": [
    "# # # train model\n",
    "# selection_model = RandomForestClassifier()\n",
    "# RandomFC = GridSearchCV(estimator=selection_model,\n",
    "#                       param_grid=dict(param_grid, max_features=[X_train.shape[1]]), \n",
    "#                       scoring='recall', cv=3, return_train_score=True)\n",
    "# RandomFC.fit(X_train, y_train)\n",
    "# # RandomFC.fit(X_test, y_test)\n",
    "# print(RandomFC.best_params_)\n",
    "# RandomFC.cv_results_"
   ]
  },
  {
   "cell_type": "code",
   "execution_count": 38,
   "metadata": {},
   "outputs": [
    {
     "data": {
      "text/plain": [
       "RandomForestClassifier(min_samples_leaf=60, n_estimators=650, n_jobs=-1)"
      ]
     },
     "execution_count": 38,
     "metadata": {},
     "output_type": "execute_result"
    }
   ],
   "source": [
    "# random forest\n",
    "RandomFC= RandomForestClassifier(n_estimators=650, min_samples_leaf = 60, n_jobs=-1)\n",
    "RandomFC.fit(X_train, y_train)"
   ]
  },
  {
   "cell_type": "code",
   "execution_count": 39,
   "metadata": {},
   "outputs": [
    {
     "name": "stdout",
     "output_type": "stream",
     "text": [
      "Accuracy of randomforest classifier on training set: 0.86\n",
      "Accuracy of randomforest classifier on test set: 0.84\n",
      "[[5020 1232]\n",
      " [ 744 5504]]\n",
      "              precision    recall  f1-score   support\n",
      "\n",
      "           0       0.87      0.80      0.84      6252\n",
      "           1       0.82      0.88      0.85      6248\n",
      "\n",
      "    accuracy                           0.84     12500\n",
      "   macro avg       0.84      0.84      0.84     12500\n",
      "weighted avg       0.84      0.84      0.84     12500\n",
      "\n"
     ]
    }
   ],
   "source": [
    "# Print accuracy\n",
    "print('Accuracy of randomforest classifier on training set: {:.2f}'.format(RandomFC.score(X_train, y_train)))\n",
    "print('Accuracy of randomforest classifier on test set: {:.2f}'.format(RandomFC.score(X_test, y_test)))\n",
    "CM = confusion_matrix(y_test, RandomFC.predict(X_test))\n",
    "print(CM)\n",
    "CR = classification_report(y_test, RandomFC.predict(X_test))\n",
    "print(CR)"
   ]
  },
  {
   "cell_type": "code",
   "execution_count": 40,
   "metadata": {},
   "outputs": [
    {
     "data": {
      "image/png": "[encoded data removed]",
      "text/plain": [
       "<Figure size 576x288 with 2 Axes>"
      ]
     },
     "metadata": {},
     "output_type": "display_data"
    }
   ],
   "source": [
    "model_df_cm = pd.DataFrame(CM, range(2), range(2)) \n",
    "plt.figure(figsize = (8, 4)) \n",
    "plt.title('Random Forest Confusion Matrix')\n",
    "sn.set(font_scale=1.4) #for label size \n",
    "sn.heatmap(model_df_cm/np.sum(model_df_cm, axis=1), annot=True, fmt='.2%')\n",
    "plt.savefig('./figures/' + 'Random_Forest' + '_confusion_matrix_normalized.png', dpi=300)\n",
    "plt.show()"
   ]
  },
  {
   "cell_type": "markdown",
   "metadata": {},
   "source": [
    "#### Logistic Regression Model"
   ]
  },
  {
   "cell_type": "code",
   "execution_count": null,
   "metadata": {},
   "outputs": [],
   "source": [
    "C = [1e-1, 1e-2]\n",
    "solver = ['liblinear']\n",
    "max_iter = [10000]\n",
    "multi_class = ['ovr']\n",
    "n_jobs = [-1]\n",
    "param_grid = dict(C=C, solver=solver, max_iter=max_iter, multi_class=multi_class, n_jobs=n_jobs)"
   ]
  },
  {
   "cell_type": "code",
   "execution_count": 26,
   "metadata": {},
   "outputs": [
    {
     "name": "stderr",
     "output_type": "stream",
     "text": [
      "/home/fkirmani/anaconda3/envs/astro/lib/python3.6/site-packages/sklearn/linear_model/_logistic.py:1355: UserWarning: 'n_jobs' > 1 does not have any effect when 'solver' is set to 'liblinear'. Got 'n_jobs' = 48.\n",
      "  \" = {}.\".format(effective_n_jobs(self.n_jobs)))\n"
     ]
    },
    {
     "name": "stdout",
     "output_type": "stream",
     "text": [
      "{'C': 0.1, 'max_iter': 10000, 'multi_class': 'ovr', 'n_jobs': -1, 'solver': 'liblinear'}\n"
     ]
    },
    {
     "data": {
      "text/plain": [
       "{'mean_fit_time': array([23.45552349, 18.47542556]),\n",
       " 'std_fit_time': array([1.71424362, 0.30686833]),\n",
       " 'mean_score_time': array([0.1983002, 0.2305065]),\n",
       " 'std_score_time': array([0.05486582, 0.00768246]),\n",
       " 'param_C': masked_array(data=[0.1, 0.01],\n",
       "              mask=[False, False],\n",
       "        fill_value='?',\n",
       "             dtype=object),\n",
       " 'param_max_iter': masked_array(data=[10000, 10000],\n",
       "              mask=[False, False],\n",
       "        fill_value='?',\n",
       "             dtype=object),\n",
       " 'param_multi_class': masked_array(data=['ovr', 'ovr'],\n",
       "              mask=[False, False],\n",
       "        fill_value='?',\n",
       "             dtype=object),\n",
       " 'param_n_jobs': masked_array(data=[-1, -1],\n",
       "              mask=[False, False],\n",
       "        fill_value='?',\n",
       "             dtype=object),\n",
       " 'param_solver': masked_array(data=['liblinear', 'liblinear'],\n",
       "              mask=[False, False],\n",
       "        fill_value='?',\n",
       "             dtype=object),\n",
       " 'params': [{'C': 0.1,\n",
       "   'max_iter': 10000,\n",
       "   'multi_class': 'ovr',\n",
       "   'n_jobs': -1,\n",
       "   'solver': 'liblinear'},\n",
       "  {'C': 0.01,\n",
       "   'max_iter': 10000,\n",
       "   'multi_class': 'ovr',\n",
       "   'n_jobs': -1,\n",
       "   'solver': 'liblinear'}],\n",
       " 'split0_test_score': array([0.81888, 0.80472]),\n",
       " 'split1_test_score': array([0.81928, 0.8044 ]),\n",
       " 'split2_test_score': array([0.82176, 0.80488]),\n",
       " 'mean_test_score': array([0.81997333, 0.80466667]),\n",
       " 'std_test_score': array([0.00127387, 0.00019956]),\n",
       " 'rank_test_score': array([1, 2], dtype=int32),\n",
       " 'split0_train_score': array([0.92052, 0.89908]),\n",
       " 'split1_train_score': array([0.92024, 0.89712]),\n",
       " 'split2_train_score': array([0.91884, 0.89684]),\n",
       " 'mean_train_score': array([0.91986667, 0.89768   ]),\n",
       " 'std_train_score': array([0.00073491, 0.00099653])}"
      ]
     },
     "execution_count": 26,
     "metadata": {},
     "output_type": "execute_result"
    }
   ],
   "source": [
    "# logistic regression\n",
    "logreg = LogisticRegression()\n",
    "logreg_cv = GridSearchCV(estimator=logreg, param_grid=dict(param_grid), scoring='accuracy', cv=3, return_train_score=True)\n",
    "logreg_cv.fit(X_train, y_train)\n",
    "# RandomFC.fit(X_test, y_test)\n",
    "print(logreg_cv.best_params_)\n",
    "logreg_cv.cv_results_"
   ]
  },
  {
   "cell_type": "code",
   "execution_count": 27,
   "metadata": {},
   "outputs": [],
   "source": [
    "# logreg = LogisticRegression(C=0.01)\n",
    "# logreg.fit(X_train, y_train)"
   ]
  },
  {
   "cell_type": "code",
   "execution_count": 28,
   "metadata": {},
   "outputs": [
    {
     "name": "stdout",
     "output_type": "stream",
     "text": [
      "Accuracy of Logreg classifier on training set: 0.90\n",
      "Accuracy of Logreg classifier on test set: 0.83\n",
      "[[4995 1257]\n",
      " [ 912 5336]]\n",
      "              precision    recall  f1-score   support\n",
      "\n",
      "           0       0.85      0.80      0.82      6252\n",
      "           1       0.81      0.85      0.83      6248\n",
      "\n",
      "    accuracy                           0.83     12500\n",
      "   macro avg       0.83      0.83      0.83     12500\n",
      "weighted avg       0.83      0.83      0.83     12500\n",
      "\n"
     ]
    }
   ],
   "source": [
    "# Print accuracy\n",
    "print('Accuracy of Logreg classifier on training set: {:.2f}'.format(logreg_cv.score(X_train, y_train)))\n",
    "print('Accuracy of Logreg classifier on test set: {:.2f}'.format(logreg_cv.score(X_test, y_test)))\n",
    "CM = confusion_matrix(y_test, logreg_cv.predict(X_test))\n",
    "print(CM)\n",
    "CR = classification_report(y_test, logreg_cv.predict(X_test))\n",
    "print(CR)"
   ]
  },
  {
   "cell_type": "code",
   "execution_count": 29,
   "metadata": {},
   "outputs": [
    {
     "data": {
      "image/png": "[encoded data removed]",
      "text/plain": [
       "<Figure size 576x288 with 2 Axes>"
      ]
     },
     "metadata": {},
     "output_type": "display_data"
    }
   ],
   "source": [
    "model_df_cm = pd.DataFrame(CM, range(2), range(2)) \n",
    "plt.figure(figsize = (8, 4)) \n",
    "plt.title('Logistic Regression Confusion Matrix')\n",
    "sn.set(font_scale=1.4) #for label size \n",
    "sn.heatmap(model_df_cm/np.sum(model_df_cm, axis=1), annot=True, fmt='.2%')\n",
    "plt.savefig('./figures/' + 'Logistic_Regression' + '_confusion_matrix_normalized.png', dpi=300)\n",
    "plt.show()"
   ]
  },
  {
   "cell_type": "markdown",
   "metadata": {},
   "source": [
    "#### XGBoost Classification Model"
   ]
  },
  {
   "cell_type": "code",
   "execution_count": 30,
   "metadata": {},
   "outputs": [],
   "source": [
    "# max_depth = [3, 5]\n",
    "# learning_rate = [1e-3, 1e-2, 1e-1]\n",
    "# n_estimators = [300, 500]\n",
    "# # silent = ['True']\n",
    "# objective = ['binary:logistic']\n",
    "# booster = ['gbtree']\n",
    "# n_jobs = [-1]\n",
    "# nthread = [4]\n",
    "# gamma = [50, 75]\n",
    "# min_child_weight = [3]\n",
    "# max_delta_step = [5]\n",
    "# subsample = [0.5]\n",
    "# colsample_bytree = [1]\n",
    "# colsample_bylevel = [1]\n",
    "# reg_alpha = [1]\n",
    "# reg_lambda = [1]\n",
    "# scale_pos_weight = [1]\n",
    "# base_score = [0.25]\n",
    "# random_state = [7777]\n",
    "# param_grid = dict(max_depth=max_depth, learning_rate=learning_rate, n_estimators=n_estimators,\n",
    "#                   objective=objective, booster=booster, n_jobs=n_jobs, nthread=nthread, gamma=gamma,\n",
    "#                   min_child_weight=min_child_weight, max_delta_step=max_delta_step, subsample=subsample,\n",
    "#                   colsample_bytree=colsample_bytree, colsample_bylevel=colsample_bylevel, reg_alpha=reg_alpha,\n",
    "#                   reg_lambda=reg_lambda, scale_pos_weight=scale_pos_weight, base_score=base_score,\n",
    "#                   random_state=random_state)"
   ]
  },
  {
   "cell_type": "code",
   "execution_count": 31,
   "metadata": {},
   "outputs": [],
   "source": [
    "# # # train model\n",
    "# selection_model = xgb.XGBClassifier()\n",
    "# XGBC = GridSearchCV(estimator=selection_model, param_grid=param_grid, scoring='recall', cv=3, return_train_score=True)\n",
    "# XGBC.fit(X_train, y_train)\n",
    "# # CV_rfc.fit(X_testXG1, y_testXG1)\n",
    "# print(XGBC.best_params_)\n",
    "# XGBC.cv_results_"
   ]
  },
  {
   "cell_type": "code",
   "execution_count": 43,
   "metadata": {},
   "outputs": [
    {
     "data": {
      "text/plain": [
       "XGBClassifier(base_score=0.5, booster='gbtree', colsample_bylevel=1,\n",
       "              colsample_bynode=1, colsample_bytree=1, gamma=60, gpu_id=-1,\n",
       "              importance_type='gain', interaction_constraints='',\n",
       "              learning_rate=0.03, max_delta_step=0, max_depth=6,\n",
       "              min_child_weight=5, missing=nan, monotone_constraints='()',\n",
       "              n_estimators=250, n_jobs=-1, num_parallel_tree=1, random_state=0,\n",
       "              reg_alpha=0, reg_lambda=1, scale_pos_weight=1, subsample=1,\n",
       "              tree_method='exact', validate_parameters=1, verbosity=None)"
      ]
     },
     "execution_count": 43,
     "metadata": {},
     "output_type": "execute_result"
    }
   ],
   "source": [
    "XGBC = xgb.XGBClassifier(n_estimators=250, colsample_bytree=1, \n",
    "                         min_child_weight=5, gamma=60, \n",
    "                         learning_rate=0.03, n_jobs=-1)\n",
    "XGBC.fit(X_train, y_train)"
   ]
  },
  {
   "cell_type": "code",
   "execution_count": 44,
   "metadata": {},
   "outputs": [
    {
     "name": "stdout",
     "output_type": "stream",
     "text": [
      "Accuracy of xgboost classifier on training set: 0.83\n",
      "Accuracy of xgboost classifier on test set: 0.82\n",
      "[[4834 1418]\n",
      " [ 833 5415]]\n",
      "              precision    recall  f1-score   support\n",
      "\n",
      "           0       0.85      0.77      0.81      6252\n",
      "           1       0.79      0.87      0.83      6248\n",
      "\n",
      "    accuracy                           0.82     12500\n",
      "   macro avg       0.82      0.82      0.82     12500\n",
      "weighted avg       0.82      0.82      0.82     12500\n",
      "\n"
     ]
    }
   ],
   "source": [
    "# Print accuracy\n",
    "print('Accuracy of xgboost classifier on training set: {:.2f}'.format(XGBC.score(X_train, y_train)))\n",
    "print('Accuracy of xgboost classifier on test set: {:.2f}'.format(XGBC.score(X_test, y_test)))\n",
    "CM = confusion_matrix(y_test, XGBC.predict(X_test))\n",
    "print(CM)\n",
    "CR = classification_report(y_test, XGBC.predict(X_test))\n",
    "print(CR)"
   ]
  },
  {
   "cell_type": "code",
   "execution_count": 45,
   "metadata": {},
   "outputs": [
    {
     "data": {
      "image/png": "[encoded data removed]",
      "text/plain": [
       "<Figure size 576x288 with 2 Axes>"
      ]
     },
     "metadata": {},
     "output_type": "display_data"
    }
   ],
   "source": [
    "model_df_cm = pd.DataFrame(CM, range(2), range(2)) \n",
    "plt.figure(figsize = (8, 4)) \n",
    "plt.title('XGBoost Confusion Matrix')\n",
    "sn.set(font_scale=1.4) #for label size \n",
    "sn.heatmap(model_df_cm/np.sum(model_df_cm, axis=1), annot=True, fmt='.2%')\n",
    "plt.savefig('./figures/' + 'XGBoost' + '_confusion_matrix_normalized.png', dpi=300)\n",
    "plt.show()"
   ]
  },
  {
   "cell_type": "code",
   "execution_count": null,
   "metadata": {},
   "outputs": [],
   "source": []
  }
 ],
 "metadata": {
  "kernelspec": {
   "display_name": "csce771",
   "language": "python",
   "name": "csce771"
  },
  "language_info": {
   "codemirror_mode": {
    "name": "ipython",
    "version": 3
   },
   "file_extension": ".py",
   "mimetype": "text/x-python",
   "name": "python",
   "nbconvert_exporter": "python",
   "pygments_lexer": "ipython3",
   "version": "3.6.10"
  }
 },
 "nbformat": 4,
 "nbformat_minor": 4
}
